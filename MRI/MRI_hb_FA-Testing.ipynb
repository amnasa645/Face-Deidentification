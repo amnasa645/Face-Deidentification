{
 "cells": [
  {
   "cell_type": "code",
   "execution_count": 15,
   "id": "ddb39415",
   "metadata": {},
   "outputs": [],
   "source": [
    "import tempfile\n",
    "import matplotlib.pyplot as plt\n",
    "import pydicom\n",
    "#from pydicom.data import get_testdata_file\n",
    "import cv2\n",
    "import os\n",
    "from skimage import morphology\n",
    "import math\n",
    "import numpy as np\n",
    "from scipy import ndimage\n",
    "from tqdm import tqdm\n",
    "import glob as glob\n",
    "import SimpleITK as sitk\n",
    "import sys\n",
    "#from pydicom.encaps import encapsulate\n",
    "#from pydicom.uid import JPEG2000\n",
    "#from pydicom.pixel_data_handlers.util import apply_modality_lut\n",
    "from imagecodecs import jpeg_encode\n",
    "import imagecodecs\n",
    "import random\n",
    "from pydicom.uid import ExplicitVRLittleEndian\n",
    "from imagecodecs import jpeg_encode\n",
    "import imagecodecs\n",
    "import pylibjpeg\n",
    "\n",
    "\n",
    "def sorted_files(folder):\n",
    "    ins=[]\n",
    "    ser=[]\n",
    "#     f= os.listdir(folder)\n",
    "    f= sorted(glob.glob((folder + \"/**/*.dcm\"),recursive = True))\n",
    "    for name in tqdm( f):\n",
    "        itkimage = sitk.ReadImage(os.path.join(folder,name))\n",
    "        temp= float(itkimage.GetMetaData('0020|0013')) # instance number \n",
    "        temp1= itkimage.GetMetaData('0020|000e') #series instance UID \n",
    "        row = itkimage.GetMetaData()\n",
    "        ins.append(int(temp))\n",
    "        ser.append(temp1)\n",
    "    series=np.unique(ser)\n",
    "    files=[[x for sr,_,x in sorted(zip(ser,ins,f)) if sr==s] for s in series]\n",
    "    return files\n",
    "\n",
    "def scan_func(path):\n",
    "    f= sorted_files(path)\n",
    "    series=[]\n",
    "    files=[]\n",
    "    for i in tqdm (range (len(f))):\n",
    "        img=[]\n",
    "        file=[]\n",
    "        for filename in f[i]:\n",
    "            itkimage = sitk.ReadImage(os.path.join(path,filename))\n",
    "            numpyImage = sitk.GetArrayFromImage(itkimage)\n",
    "            img.append(numpyImage[0,:,:])\n",
    "            file.append(filename)\n",
    "        series.append(img)\n",
    "        files.append(file)\n",
    "    return series,files\n",
    "\n",
    "\n"
   ]
  },
  {
   "cell_type": "code",
   "execution_count": 2,
   "id": "0bd456e3",
   "metadata": {},
   "outputs": [
    {
     "data": {
      "text/plain": [
       "'#path = input_folder=\"/home/abdullah/mri_fa/data_test/00093511\"\\n\\n#path = input_folder= r\"C:\\\\MRI_BRAIN_HEAD\\\\MRI_BRAIN_data\\x0093511\"\\npath =input_folder= r\"C:\\\\MRI_BRAIN_HEAD\\\\MRI_BRAIN_data\\x0536351\"\\noutput_folder=r\"C:\\\\MRI_BRAIN_HEAD\\\\MRI_BRAIN_result\"\\n#output_folder= \"/home/abdullah/mri_fa/00093511/MRI_BRAIN_result\"\\nscan_series,filenames = scan_func(input_folder)\\nscan, names = scan_series[9],filenames[9]\\nscan=np.asarray(scan)\\ndcmData = pydicom.dcmread(os.path.join(path,names[0]))\\n'"
      ]
     },
     "execution_count": 2,
     "metadata": {},
     "output_type": "execute_result"
    }
   ],
   "source": [
    "'''#path = input_folder=\"/home/abdullah/mri_fa/data_test/00093511\"\n",
    "\n",
    "#path = input_folder= r\"C:\\MRI_BRAIN_HEAD\\MRI_BRAIN_data\\00093511\"\n",
    "path =input_folder= r\"C:\\MRI_BRAIN_HEAD\\MRI_BRAIN_data\\00536351\"\n",
    "output_folder=r\"C:\\MRI_BRAIN_HEAD\\MRI_BRAIN_result\"\n",
    "#output_folder= \"/home/abdullah/mri_fa/00093511/MRI_BRAIN_result\"\n",
    "scan_series,filenames = scan_func(input_folder)\n",
    "scan, names = scan_series[9],filenames[9]\n",
    "scan=np.asarray(scan)\n",
    "dcmData = pydicom.dcmread(os.path.join(path,names[0]))\n",
    "'''"
   ]
  },
  {
   "cell_type": "code",
   "execution_count": 3,
   "id": "ed74b208",
   "metadata": {},
   "outputs": [
    {
     "data": {
      "text/plain": [
       "'a = (np.around(dcmData.ImageOrientationPatient, 0))\\nprint(\"a\",a)\\nfor i in range(scan.shape[0]):\\n    name = names[i]\\n    img = scan[i, :, :]\\n    dcmData = pydicom.dcmread(os.path.join(path,name)) ##read file to change it\\'s pixel data to anonymized\\n    r= dcmData.Rows\\n    c=dcmData.Columns\\n    \\n'"
      ]
     },
     "execution_count": 3,
     "metadata": {},
     "output_type": "execute_result"
    }
   ],
   "source": [
    "'''a = (np.around(dcmData.ImageOrientationPatient, 0))\n",
    "print(\"a\",a)\n",
    "for i in range(scan.shape[0]):\n",
    "    name = names[i]\n",
    "    img = scan[i, :, :]\n",
    "    dcmData = pydicom.dcmread(os.path.join(path,name)) ##read file to change it's pixel data to anonymized\n",
    "    r= dcmData.Rows\n",
    "    c=dcmData.Columns\n",
    "    \n",
    "'''"
   ]
  },
  {
   "cell_type": "code",
   "execution_count": 4,
   "id": "741d7d64",
   "metadata": {},
   "outputs": [],
   "source": [
    "#scan.shape"
   ]
  },
  {
   "cell_type": "code",
   "execution_count": 5,
   "id": "9a520889",
   "metadata": {},
   "outputs": [
    {
     "data": {
      "text/plain": [
       "\"dcmData = pydicom.dcmread(os.path.join(path,names[20])) ##read file to change it's pixel data to anonymized\\nrows= dcmData.Rows\\ncolomns=dcmData.Columns\\ndicom_img=dcmData.pixel_array\\nplt.imshow(scan[20,:,:],'gray')\\nplt.show()\\nimage= scan#[20,:,:]\\nhistogram, bin_edges = np.histogram(image, bins=256)\\nhistogram\""
      ]
     },
     "execution_count": 5,
     "metadata": {},
     "output_type": "execute_result"
    }
   ],
   "source": [
    "'''dcmData = pydicom.dcmread(os.path.join(path,names[20])) ##read file to change it's pixel data to anonymized\n",
    "rows= dcmData.Rows\n",
    "colomns=dcmData.Columns\n",
    "dicom_img=dcmData.pixel_array\n",
    "plt.imshow(scan[20,:,:],'gray')\n",
    "plt.show()\n",
    "image= scan#[20,:,:]\n",
    "histogram, bin_edges = np.histogram(image, bins=256)\n",
    "histogram'''"
   ]
  },
  {
   "cell_type": "code",
   "execution_count": 6,
   "id": "a400b06e",
   "metadata": {},
   "outputs": [],
   "source": [
    "#bin_edges[-1]"
   ]
  },
  {
   "cell_type": "code",
   "execution_count": 7,
   "id": "e24d9525",
   "metadata": {},
   "outputs": [
    {
     "data": {
      "text/plain": [
       "'plt.figure()\\nplt.title(\"Grayscale Histogram\")\\nplt.xlabel(\"grayscale value\")\\nplt.ylabel(\"pixel count\")\\n#plt.xlim([-10.0, 1500.0])  # <- named arguments do not work here\\n\\nplt.plot(bin_edges[0:-1], histogram) '"
      ]
     },
     "execution_count": 7,
     "metadata": {},
     "output_type": "execute_result"
    }
   ],
   "source": [
    "'''plt.figure()\n",
    "plt.title(\"Grayscale Histogram\")\n",
    "plt.xlabel(\"grayscale value\")\n",
    "plt.ylabel(\"pixel count\")\n",
    "#plt.xlim([-10.0, 1500.0])  # <- named arguments do not work here\n",
    "\n",
    "plt.plot(bin_edges[0:-1], histogram) '''"
   ]
  },
  {
   "cell_type": "markdown",
   "id": "8a9503a5",
   "metadata": {},
   "source": [
    "## FUNCTION FOR SAGITTAL - MAIN"
   ]
  },
  {
   "cell_type": "code",
   "execution_count": 2,
   "id": "d0eb9709",
   "metadata": {},
   "outputs": [],
   "source": [
    "\n",
    "def MRI_blurred_sag(image,dicom_img, rows, columns):\n",
    "    #if np.min(image) == np.min(dicom_img) and np.max(image) == np.max(dicom_img):\n",
    "    #     print(\"equal\")\n",
    "    #else:\n",
    "    #    image=dicom_img\n",
    "    rows=image.shape[1]\n",
    "    columns=image.shape[0]\n",
    "    head = image>100\n",
    "    skull = image>500\n",
    "    ROI=np.logical_xor(head,skull)\n",
    "    kernel = np.ones((30, 30), np.uint8)\n",
    "    imagee = cv2.morphologyEx(ROI.astype(np.uint8), cv2.MORPH_CLOSE, kernel)\n",
    "    imagee = ndimage.morphology.binary_fill_holes(imagee)\n",
    "    imagee = imagee.astype(np.uint8)\n",
    "    contours, hierarchy = cv2.findContours(imagee, cv2.RETR_EXTERNAL, cv2.CHAIN_APPROX_NONE)\n",
    "    gray = np.zeros_like(imagee)\n",
    "    gray = cv2.drawContours(gray, contours,0, 255,1 )\n",
    "    #plt.imshow(gray,'gray')\n",
    "    #plt.show()\n",
    "    temp=gray.copy()\n",
    "    temp=np.where((temp==255),1,0)\n",
    "    variable=int(temp.shape[1]/2)\n",
    "    temp[:,variable:] = 0\n",
    "    #plt.imshow(temp,'gray')\n",
    "    #plt.show()\n",
    "    #gray = np.where((gray==255), 0, 1)\n",
    "    #gray[:,150:] = 0\n",
    "    \n",
    "    r=[[random.randint(-250,500) for i in range(rows)] for j in range(columns)]\n",
    "    r=np.asarray(r)\n",
    "    blurred_img= np.multiply(temp,r)\n",
    "    out = np.where((temp==1), blurred_img, image)\n",
    "   # if np.min(image) == np.min(dicom_img) and np.max(image) == np.max(dicom_img):\n",
    "   #     out = np.where((temp==1), blurred_img, image)\n",
    "   # else:\n",
    "   #     out = np.where((temp==1), blurred_img, dicom_img)\n",
    "    #out = np.where(skull>0,image,out)\n",
    "    #plt.imshow(out,'gray')\n",
    "    #plt.show()\n",
    "    return out"
   ]
  },
  {
   "cell_type": "markdown",
   "id": "cc60c020",
   "metadata": {},
   "source": [
    "## FUNCTION FOR AXIAL - MAIN"
   ]
  },
  {
   "cell_type": "code",
   "execution_count": 3,
   "id": "506bd931",
   "metadata": {},
   "outputs": [],
   "source": [
    "\n",
    "def MRI_blurred_axial(image,dicom_img, rows, columns):\n",
    "    #if np.min(image) == np.min(dicom_img) and np.max(image) == np.max(dicom_img):\n",
    "    #     print(\"equal\")\n",
    "    #else:\n",
    "    #    image=dicom_img\n",
    "    rows=image.shape[1]\n",
    "    columns=image.shape[0]\n",
    "    #print(rows,columns)\n",
    "    #print(image.shape)\n",
    "    head = image>100\n",
    "    skull = image>500\n",
    "    ROI=np.logical_xor(head,skull)\n",
    "    kernel = np.ones((30, 30), np.uint8)\n",
    "    imagee = cv2.morphologyEx(ROI.astype(np.uint8), cv2.MORPH_CLOSE, kernel)\n",
    "    imagee = ndimage.morphology.binary_fill_holes(imagee)\n",
    "    imagee = imagee.astype(np.uint8)\n",
    "    contours, hierarchy = cv2.findContours(imagee, cv2.RETR_EXTERNAL, cv2.CHAIN_APPROX_NONE)\n",
    "    gray = np.zeros_like(imagee)\n",
    "    gray = cv2.drawContours(gray, contours,0, 255,1 )\n",
    "    #plt.imshow(gray,'gray')\n",
    "    #plt.show()\n",
    "    temp=gray.copy()\n",
    "    temp=np.where((temp==255),1,0)\n",
    "    variable=int((temp.shape[0])/2)\n",
    "    temp[variable:,:] = 0\n",
    "    #plt.imshow(temp,'gray')\n",
    "    #plt.show()\n",
    "    #gray = np.where((gray==255), 0, 1)\n",
    "    #gray[:,150:] = 0\n",
    "    #print(rows,columns)\n",
    "    r=[[random.randint(-250,500) for i in range(rows)] for j in range(columns)]\n",
    "    r=np.asarray(r)\n",
    "    #print(r.shape)\n",
    "    blurred_img= np.multiply(temp,r)\n",
    "    out = np.where((temp==1), blurred_img, image)\n",
    "   # if np.min(image) == np.min(dicom_img) and np.max(image) == np.max(dicom_img):\n",
    "   #     out = np.where((temp==1), blurred_img, image)\n",
    "   # else:\n",
    "   #     out = np.where((temp==1), blurred_img, dicom_img)\n",
    "    #out = np.where(skull>0,image,out)\n",
    "    #plt.imshow(out,'gray')\n",
    "    #plt.show()\n",
    "    return out"
   ]
  },
  {
   "cell_type": "markdown",
   "id": "dd890c8e",
   "metadata": {},
   "source": [
    "## FUNCTION FOR CORONAL - MAIN"
   ]
  },
  {
   "cell_type": "code",
   "execution_count": 4,
   "id": "83724ca2",
   "metadata": {},
   "outputs": [],
   "source": [
    "\n",
    "def MRI_blurred_coronal(image,dicom_img, rows, columns):\n",
    "    #if np.min(image) == np.min(dicom_img) and np.max(image) == np.max(dicom_img):\n",
    "    #     print(\"equal\")\n",
    "    #else:\n",
    "    #    image=dicom_img\n",
    "    rows=image.shape[1]\n",
    "    columns=image.shape[0]\n",
    "    #print(rows,columns)\n",
    "    #print(image.shape)\n",
    "    head = image>100\n",
    "    skull = image>500\n",
    "    ROI=np.logical_xor(head,skull)\n",
    "    kernel = np.ones((30, 30), np.uint8)\n",
    "    imagee = cv2.morphologyEx(ROI.astype(np.uint8), cv2.MORPH_CLOSE, kernel)\n",
    "    imagee = ndimage.morphology.binary_fill_holes(imagee)\n",
    "    imagee = imagee.astype(np.uint8)\n",
    "    contours, hierarchy = cv2.findContours(imagee, cv2.RETR_EXTERNAL, cv2.CHAIN_APPROX_NONE)\n",
    "    gray = np.zeros_like(imagee)\n",
    "    gray = cv2.drawContours(gray, contours,0, 255,1 )\n",
    "    #plt.imshow(gray,'gray')\n",
    "    #plt.show()\n",
    "    temp=gray.copy()\n",
    "    temp=np.where((temp==255),1,0)\n",
    "    #plt.imshow(temp,'gray')\n",
    "    #plt.show()\n",
    "    #gray = np.where((gray==255), 0, 1)\n",
    "    #gray[:,150:] = 0\n",
    "   \n",
    "    r=[[random.randint(-250,500) for i in range(rows)] for j in range(columns)]\n",
    "    r=np.asarray(r)\n",
    "    \n",
    "    blurred_img= np.multiply(temp,r)\n",
    "    out = np.where((temp==1), blurred_img, image)\n",
    "   # if np.min(image) == np.min(dicom_img) and np.max(image) == np.max(dicom_img):\n",
    "   #     out = np.where((temp==1), blurred_img, image)\n",
    "   # else:\n",
    "   #     out = np.where((temp==1), blurred_img, dicom_img)\n",
    "    #out = np.where(skull>0,image,out)\n",
    "    #plt.imshow(out,'gray')\n",
    "    #plt.show()\n",
    "    return out"
   ]
  },
  {
   "cell_type": "markdown",
   "id": "f932ed50",
   "metadata": {},
   "source": [
    "### EXTRA ----"
   ]
  },
  {
   "cell_type": "code",
   "execution_count": 11,
   "id": "de42ad89",
   "metadata": {},
   "outputs": [],
   "source": [
    "#out=MRI_blurred_axial(image,dicom_img ,rows, colomns)"
   ]
  },
  {
   "cell_type": "code",
   "execution_count": 12,
   "id": "3be92cf7",
   "metadata": {},
   "outputs": [
    {
     "data": {
      "text/plain": [
       "'np.unique(image)\\n#imagee = image>-50\\nhead = image>100\\nskull = image>500\\n#skull = skull>1\\nROI=np.logical_xor(head,skull)'"
      ]
     },
     "execution_count": 12,
     "metadata": {},
     "output_type": "execute_result"
    }
   ],
   "source": [
    "'''np.unique(image)\n",
    "#imagee = image>-50\n",
    "head = image>100\n",
    "skull = image>500\n",
    "#skull = skull>1\n",
    "ROI=np.logical_xor(head,skull)'''"
   ]
  },
  {
   "cell_type": "code",
   "execution_count": 13,
   "id": "32dcc50e",
   "metadata": {},
   "outputs": [],
   "source": [
    "\n",
    "#plt.imshow(dcmData.pixel_array, 'gray')"
   ]
  },
  {
   "cell_type": "code",
   "execution_count": 14,
   "id": "a7adc989",
   "metadata": {},
   "outputs": [],
   "source": [
    "#plt.imshow(ROI,'gray')"
   ]
  },
  {
   "cell_type": "code",
   "execution_count": 15,
   "id": "900fcaae",
   "metadata": {},
   "outputs": [
    {
     "data": {
      "text/plain": [
       "\"kernel = np.ones((30, 30), np.uint8)\\nimagee = cv2.morphologyEx(ROI.astype(np.uint8), cv2.MORPH_CLOSE, kernel)\\nimagee = ndimage.morphology.binary_fill_holes(imagee)\\nimagee = imagee.astype(np.uint8)\\nplt.imshow(imagee,'gray')\""
      ]
     },
     "execution_count": 15,
     "metadata": {},
     "output_type": "execute_result"
    }
   ],
   "source": [
    "'''kernel = np.ones((30, 30), np.uint8)\n",
    "imagee = cv2.morphologyEx(ROI.astype(np.uint8), cv2.MORPH_CLOSE, kernel)\n",
    "imagee = ndimage.morphology.binary_fill_holes(imagee)\n",
    "imagee = imagee.astype(np.uint8)\n",
    "plt.imshow(imagee,'gray')'''"
   ]
  },
  {
   "cell_type": "code",
   "execution_count": 16,
   "id": "84bec220",
   "metadata": {},
   "outputs": [
    {
     "data": {
      "text/plain": [
       "\"contours, hierarchy = cv2.findContours(imagee, cv2.RETR_EXTERNAL, cv2.CHAIN_APPROX_NONE)\\ngray = np.zeros_like(imagee)\\ngray = cv2.drawContours(gray, contours,0, 255,2 )\\nplt.imshow(gray,'gray')\\nplt.show()\\n\\n\\ntemp=gray.copy()\\ntemp=np.where((temp==255),1,0)\\nprint(temp.shape)\\nvariable=int((temp.shape[0])/2)\\ntemp[variable:,:] = 0\\nplt.imshow(temp,'gray')\\nplt.show()\\n\\n#gray = np.where((gray==255), 0, 1)\\n#gray[:,150:] = 0\\nprint(temp.shape)\\ncolomns=temp.shape[0]\\nrows=temp.shape[1]\\nr=[[random.randint(-250,500) for i in range(rows)] for j in range(colomns)]\\nr=np.asarray(r)\\nblurred_img= np.multiply(temp,r)\\nout = np.where((temp==1), blurred_img, image)\\n#out = np.where(skull>0,image,out)\\nplt.imshow(out,'gray')\\nplt.show()\\n\\n\\n\\n\\n\\n\\n\""
      ]
     },
     "execution_count": 16,
     "metadata": {},
     "output_type": "execute_result"
    }
   ],
   "source": [
    "'''contours, hierarchy = cv2.findContours(imagee, cv2.RETR_EXTERNAL, cv2.CHAIN_APPROX_NONE)\n",
    "gray = np.zeros_like(imagee)\n",
    "gray = cv2.drawContours(gray, contours,0, 255,2 )\n",
    "plt.imshow(gray,'gray')\n",
    "plt.show()\n",
    "\n",
    "\n",
    "temp=gray.copy()\n",
    "temp=np.where((temp==255),1,0)\n",
    "print(temp.shape)\n",
    "variable=int((temp.shape[0])/2)\n",
    "temp[variable:,:] = 0\n",
    "plt.imshow(temp,'gray')\n",
    "plt.show()\n",
    "\n",
    "#gray = np.where((gray==255), 0, 1)\n",
    "#gray[:,150:] = 0\n",
    "print(temp.shape)\n",
    "colomns=temp.shape[0]\n",
    "rows=temp.shape[1]\n",
    "r=[[random.randint(-250,500) for i in range(rows)] for j in range(colomns)]\n",
    "r=np.asarray(r)\n",
    "blurred_img= np.multiply(temp,r)\n",
    "out = np.where((temp==1), blurred_img, image)\n",
    "#out = np.where(skull>0,image,out)\n",
    "plt.imshow(out,'gray')\n",
    "plt.show()\n",
    "\n",
    "\n",
    "\n",
    "\n",
    "\n",
    "\n",
    "'''"
   ]
  },
  {
   "cell_type": "markdown",
   "id": "36b1cf48",
   "metadata": {},
   "source": [
    "### EXTRA ENDS ---"
   ]
  },
  {
   "cell_type": "markdown",
   "id": "0fbf7915",
   "metadata": {},
   "source": [
    "## MAIN FUNCTION CALLING "
   ]
  },
  {
   "cell_type": "code",
   "execution_count": 5,
   "id": "5c20b9aa",
   "metadata": {},
   "outputs": [],
   "source": [
    "from skimage.metrics import structural_similarity\n",
    "\n",
    "def signaltonoise(a, axis=0, ddof=0):\n",
    "    a = np.asanyarray(a)\n",
    "    m = a.mean(axis)\n",
    "    sd = a.std(axis=axis, ddof=ddof)\n",
    "    return np.where(sd == 0, 0, m/sd)"
   ]
  },
  {
   "cell_type": "code",
   "execution_count": 6,
   "id": "a0bcc206",
   "metadata": {},
   "outputs": [],
   "source": [
    "def get_imgs_score(scani_series,filenamesi, opath):\n",
    "#     scani_series,filenamesi = scan_func(ipath)\n",
    "    scano_series,filenameso = scan_func(opath)\n",
    "#     pscan, n = get_full_scan(ppath) \n",
    "    error=[]\n",
    "    for j in range(len(scani_series)):#tqdm(range(len(scani_series))):\n",
    "        iscan = scani_series[j]\n",
    "        iscan = np.asarray(iscan)\n",
    "        name = filenamesi[j]\n",
    "        n = name[0]\n",
    "        ds = pydicom.dcmread(os.path.join(ipath+n))\n",
    "        oscan = scano_series[j]\n",
    "        oscan = np.asarray(oscan)   \n",
    "#         if ds.PhotometricInterpretation != \"RGB\":\n",
    "        try:\n",
    "            print(\"series number: \",j)\n",
    "            i = int(iscan.shape[0]/2)\n",
    "            print(i)\n",
    "            plt.imshow(iscan[i],'gray')\n",
    "            plt.title(\"input\")\n",
    "            plt.show()\n",
    "        #     plt.imshow(pscan[i],'gray')\n",
    "        #     plt.show()\n",
    "            plt.imshow(oscan[i],'gray')\n",
    "            plt.title(\"output\")\n",
    "            plt.show()   \n",
    "\n",
    "            snri = signaltonoise(iscan, axis=None, ddof=0)\n",
    "            snro = signaltonoise(oscan, axis=None, ddof=0)\n",
    "            print(snri, snro)\n",
    "            score,diff = structural_similarity(iscan, oscan, full=True)\n",
    "            \n",
    "            print(score) \n",
    "        except Exception as e:\n",
    "            error.append((j,e))\n",
    "    return error"
   ]
  },
  {
   "cell_type": "code",
   "execution_count": null,
   "id": "979b7e6e",
   "metadata": {},
   "outputs": [],
   "source": [
    "    #path = input_folder=\"/home/abdullah/mri_fa/data_test/00093511\"\n",
    "    #output = output_folder= \"/home/abdullah/mri_fa/00093511/MRI_BRAIN_result\"\n",
    "    #path = input_folder= r\"C:\\MRI_BRAIN_HEAD\\MRI_BRAIN_data\\00093511\"\n",
    "#     path = input_folder= r\"C:\\MRI_BRAIN_HEAD\\MRI_HEAD_data\\00241178\"\n",
    "\n",
    "#     output = output_folder=r\"C:\\MRI_BRAIN_HEAD\\head_results\\00241178\"\n",
    " "
   ]
  },
  {
   "cell_type": "code",
   "execution_count": 66,
   "id": "5e1bc3dc",
   "metadata": {
    "scrolled": true
   },
   "outputs": [],
   "source": [
    " \n",
    "def main(path, output):\n",
    "    if not os.path.exists(output):\n",
    "        os.makedirs(output)\n",
    "        \n",
    "    scan_series,filenames = scan_func(path)\n",
    "    #scan_series,filenames = scan_func(path)\n",
    "\n",
    "    for j in tqdm(range(len(scan_series))):\n",
    "        scan, names = scan_series[j],filenames[j]\n",
    "        scan=np.asarray(scan)\n",
    "        dcmData = pydicom.dcmread(os.path.join(path,names[0]))\n",
    "\n",
    "        axial  =  np.array([1., 0., 0., 0., 1., 0.])\n",
    "        #sagittal= np.array([-1., 0., 0., 0., 0., -1.])\n",
    "        sagittal= np.array([0., 1., 0., 0., 0., -1.])\n",
    "        coronal= np.array([1., 0., 0., 0., 0., -1.])\n",
    "        if (0x0020,0x0037) in dcmData:\n",
    "            a = (np.around(dcmData.ImageOrientationPatient, 0))\n",
    "#             print(\"a\",a)\n",
    "#             print(\"scan shape\",scan.shape[0])\n",
    "            image= scan#[20,:,:]\n",
    "            try:\n",
    "                histogram, bin_edges = np.histogram(image, bins=256)\n",
    "                check=bin_edges[-1]\n",
    "            except:\n",
    "#                 print(\"here in except for \", j)\n",
    "                image = []\n",
    "                for i in range(len(scan_seriesi[j])-1):\n",
    "                    image.append(np.asarray(scan_seriesi[j][i]))\n",
    "                histogram, bin_edges = np.histogram(image, bins=256)\n",
    "                check=bin_edges[-1]     \n",
    "\n",
    "            if ((a == axial).all()) and check>1000 :\n",
    "#                 print(\"axial\")\n",
    "#                 print(j)\n",
    "                #continue\n",
    "                for i in range(scan.shape[0]):\n",
    "                    name = names[i]\n",
    "                    img = scan[i, :, :]\n",
    "                    dcmData = pydicom.dcmread(os.path.join(path,name)) ##read file to change it's pixel data to anonymized\n",
    "                    c= dcmData.Rows\n",
    "                    r=dcmData.Columns\n",
    "                    dicom_img = dcmData.pixel_array\n",
    "                    out= MRI_blurred_axial(img,dicom_img,r,c)\n",
    "                    #out = out.astype(np.int16)\n",
    "                    #print(dicom_img.dtype)\n",
    "                    out1 = out.astype(dicom_img.dtype)\n",
    "                    #print(out.shape)\n",
    "                    dcmData.file_meta.TransferSyntaxUID= '1.2.840.10008.1.2.1'\n",
    "                    dcmData.PixelData = out1.tobytes()\n",
    "                    '''\n",
    "                    plt.imshow(dcmData.pixel_array,'gray')\n",
    "                    plt.title(\"axial blurred\")\n",
    "                    plt.show()\n",
    "\n",
    "                    plt.imshow(out, 'gray')\n",
    "                    plt.title(\"axial blurred OUT\")\n",
    "                    plt.show()\n",
    "                    '''\n",
    "                    des_path = os.path.join(output, name)\n",
    "                    dcmData.save_as(des_path) ##save file in anonym folder\n",
    "\n",
    "\n",
    "                    #classUID.append(str(dcmData.SOPClassUID))\n",
    "                    #output_list.append(des_path)\n",
    "\n",
    "            elif ((a==sagittal).all()) and check>1000:\n",
    "#                     print(j)\n",
    "#                     print(\"sag\")\n",
    "                   # continue\n",
    "                    for i in range(scan.shape[0]):\n",
    "                        name = names[i]\n",
    "                        img = scan[i, :, :]\n",
    "                        dcmData = pydicom.dcmread(os.path.join(path,name)) ##read file to change it's pixel data to anonymized\n",
    "                        #print(dcmData.file_meta.TransferSyntaxUID)\n",
    "                        dicom_img = dcmData.pixel_array\n",
    "                        r= dcmData.Rows\n",
    "                        c=dcmData.Columns\n",
    "                        if i == 0:\n",
    "                            out = img\n",
    "                        else:\n",
    "                            out = MRI_blurred_sag(img,dicom_img,r,c)\n",
    "                        #out = out.astype(np.int16)\n",
    "                        out = out.astype(dicom_img.dtype)\n",
    "                        #plt.imshow(out,'gray')\n",
    "                        #plt.show()\n",
    "\n",
    "                        dcmData.file_meta.TransferSyntaxUID= '1.2.840.10008.1.2.1'\n",
    "                        #dcmData.pixel_array = out\n",
    "                        dcmData.PixelData = out.tobytes()\n",
    "                        #dcmData.PixelData = out.tostring()\n",
    "                        #dcmData.BitsAllocated = \n",
    "                        #dcmData.PixelRepresentation = 1\n",
    "                        '''\n",
    "                        plt.imshow(dcmData.pixel_array,'gray')\n",
    "                        plt.title(\"sagittal blurred\")\n",
    "                        plt.show()\n",
    "\n",
    "                        plt.imshow(out, 'gray')\n",
    "                        plt.title(\"sagittal blurred OUT\")\n",
    "                        plt.show()\n",
    "                        '''\n",
    "                        des_path = os.path.join(output, name)\n",
    "                        dcmData.save_as(des_path) ##save file in anonym folder\n",
    "\n",
    "                        #classUID.append(str(dcmData.SOPClassUID))\n",
    "                        #output_list.append(des_path)\n",
    "            elif ((a==coronal).all()) and (scan.shape[0]>100) and  check>1000:\n",
    "#                     print(j)\n",
    "#                     scan.shape[0]\n",
    "#                     print(\"coronal\")\n",
    "                    #continue\n",
    "\n",
    "                    for i in range(scan.shape[0]):\n",
    "#                     for i in range(50): #distorting the boundary for only the front of the coronal scan i.e the face part\n",
    "                        if i<50:\n",
    "                            name = names[i]\n",
    "                            img = scan[i, :, :]\n",
    "                            dcmData = pydicom.dcmread(os.path.join(path,name)) ##read file to change it's pixel data to anonymized\n",
    "                            #print(dcmData.file_meta.TransferSyntaxUID)\n",
    "                            dicom_img = dcmData.pixel_array\n",
    "                            r= dcmData.Rows\n",
    "                            c=dcmData.Columns\n",
    "                            if i == 0:\n",
    "                                out = img\n",
    "                            else:\n",
    "                                out = MRI_blurred_coronal(img,dicom_img,r,c)\n",
    "                            #out = out.astype(np.int16)\n",
    "                            out = out.astype(dicom_img.dtype)\n",
    "                            #plt.imshow(out,'gray')\n",
    "                            #plt.show()\n",
    "\n",
    "                            dcmData.file_meta.TransferSyntaxUID= '1.2.840.10008.1.2.1'\n",
    "                            #dcmData.file_meta.TransferSyntaxUID= 'Explicit VR Big Endian'\n",
    "                            #dcmData.pixel_array = out\n",
    "                            dcmData.PixelData = out.tobytes()\n",
    "                            #dcmData.PixelData = out.tostring()\n",
    "\n",
    "                            '''\n",
    "                            plt.imshow(dcmData.pixel_array,'gray')\n",
    "                            plt.title(\"coronal blurred\")\n",
    "                            plt.show()\n",
    "\n",
    "                            plt.imshow(out, 'gray')\n",
    "                            plt.title(\"coronal blurred OUT\")\n",
    "                            plt.show()\n",
    "                            ''' \n",
    "                            des_path = os.path.join(output, name)\n",
    "                            dcmData.save_as(des_path) ##save file in anonym folder\n",
    "\n",
    "                            #classUID.append(str(dcmData.SOPClassUID))\n",
    "                            #output_list.append(des_path)\n",
    "                        else:\n",
    "                            name = names[i]\n",
    "                            img = scan[i, :, :]\n",
    "                            dcmData = pydicom.dcmread(os.path.join(path,name)) ##read file to change it's pixel data to anonymized\n",
    "                            #print(dcmData.file_meta.TransferSyntaxUID)\n",
    "\n",
    "                            dcmData.file_meta.TransferSyntaxUID= '1.2.840.10008.1.2.1'\n",
    "                            #dcmData.file_meta.TransferSyntaxUID= 'Explicit VR Big Endian'\n",
    "                            #dcmData.pixel_array = out\n",
    "                            #dcmData.PixelData = out.tostring()\n",
    "\n",
    "                            '''\n",
    "                            plt.imshow(dcmData.pixel_array,'gray')\n",
    "                            plt.title(\"coronal blurred\")\n",
    "                            plt.show()\n",
    "\n",
    "                            plt.imshow(out, 'gray')\n",
    "                            plt.title(\"coronal blurred OUT\")\n",
    "                            plt.show()\n",
    "                            ''' \n",
    "                            des_path = os.path.join(output, name)\n",
    "                            dcmData.save_as(des_path) ##save file in anonym folder\n",
    "\n",
    "                            #classUID.append(str(dcmData.SOPClassUID))\n",
    "                            #output_list.append(des_path)\n",
    "            else:\n",
    "                    #print(\"ccc\")\n",
    "                    #continue\n",
    "                    for i in range(scan.shape[0]):\n",
    "                        #print(scan.shape[0],i)\n",
    "                        name = names[i]\n",
    "                        #print(\"name\",name)\n",
    "                        img = scan[i, :, :]\n",
    "                        dcmData = pydicom.dcmread(os.path.join(path,name))\n",
    "                        des_path = os.path.join(output, name)\n",
    "                        dcmData.save_as(des_path) ##save file in anonym folder\n",
    "                        #classUID.append(str(dcmData.SOPClassUID))\n",
    "                        #output_list.append(des_path)\n",
    "        else:\n",
    "            for i in range(scan.shape[0]):\n",
    "                name = names[i]\n",
    "                img = scan[i, :, :]\n",
    "                dcmData = pydicom.dcmread(os.path.join(path,name)) \n",
    "                des_path = os.path.join(output, name)\n",
    "                dcmData.save_as(des_path) \n",
    "                #classUID.append(str(dcmData.SOPClassUID))\n",
    "                #output_list.append(des_path)\n",
    "                \n",
    "    return scan_series,filenames"
   ]
  },
  {
   "cell_type": "code",
   "execution_count": 87,
   "id": "cce5fd58",
   "metadata": {
    "scrolled": true
   },
   "outputs": [
    {
     "name": "stderr",
     "output_type": "stream",
     "text": [
      "100%|█████████████████████████████████████████| 338/338 [00:04<00:00, 74.52it/s]\n",
      "100%|███████████████████████████████████████████| 16/16 [00:00<00:00, 20.26it/s]\n",
      "  6%|██▊                                         | 1/16 [00:00<00:10,  1.42it/s]/tmp/ipykernel_2684/2150677952.py:15: DeprecationWarning: Please use `binary_fill_holes` from the `scipy.ndimage` namespace, the `scipy.ndimage.morphology` namespace is deprecated.\n",
      "  imagee = ndimage.morphology.binary_fill_holes(imagee)\n",
      " 38%|████████████████▌                           | 6/16 [00:06<00:13,  1.32s/it]/tmp/ipykernel_2684/2920841642.py:13: DeprecationWarning: Please use `binary_fill_holes` from the `scipy.ndimage` namespace, the `scipy.ndimage.morphology` namespace is deprecated.\n",
      "  imagee = ndimage.morphology.binary_fill_holes(imagee)\n",
      "100%|███████████████████████████████████████████| 16/16 [00:08<00:00,  1.78it/s]\n"
     ]
    }
   ],
   "source": [
    "ipath = r\"/home/abdullah/mri_fa/MRI_DATA_HB/head/00241178/\" #000250848/\" #20392703\n",
    "opath = r\"/home/minha/FARZEEN/face ann/face mri/output_head/00241178/\"\n",
    "scan_seriesi, filenamesi = main(ipath, opath)"
   ]
  },
  {
   "cell_type": "code",
   "execution_count": 82,
   "id": "8a1ef691",
   "metadata": {},
   "outputs": [
    {
     "name": "stderr",
     "output_type": "stream",
     "text": [
      "100%|█████████████████████████████████████████| 533/533 [00:16<00:00, 33.30it/s]\n",
      "100%|███████████████████████████████████████████| 13/13 [00:16<00:00,  1.24s/it]\n"
     ]
    }
   ],
   "source": [
    "ipath = r\"/home/abdullah/mri_fa/MRI_DATA_HB/head/06012257\"\n",
    "scan_seriesi, filenamesi = scan_func(ipath)"
   ]
  },
  {
   "cell_type": "code",
   "execution_count": 91,
   "id": "dd65e7ff",
   "metadata": {
    "scrolled": true
   },
   "outputs": [
    {
     "name": "stderr",
     "output_type": "stream",
     "text": [
      "\r",
      "  0%|                                                    | 0/13 [00:00<?, ?it/s]"
     ]
    },
    {
     "name": "stdout",
     "output_type": "stream",
     "text": [
      "SHAPE:  (225, 384, 288)\n",
      "histogram time:  0.30277286609634757\n"
     ]
    },
    {
     "data": {
      "image/png": "[encoded data removed]",
      "text/plain": [
       "<Figure size 432x288 with 1 Axes>"
      ]
     },
     "metadata": {
      "needs_background": "light"
     },
     "output_type": "display_data"
    },
    {
     "name": "stderr",
     "output_type": "stream",
     "text": [
      "\r",
      "  8%|███▍                                        | 1/13 [00:00<00:04,  2.64it/s]"
     ]
    },
    {
     "name": "stdout",
     "output_type": "stream",
     "text": [
      "series:  0\n",
      "984.0\n",
      "SHAPE:  (46, 360, 384)\n",
      "histogram time:  0.06669568177312613\n"
     ]
    },
    {
     "data": {
      "image/png": "[encoded data removed]",
      "text/plain": [
       "<Figure size 432x288 with 1 Axes>"
      ]
     },
     "metadata": {
      "needs_background": "light"
     },
     "output_type": "display_data"
    },
    {
     "name": "stderr",
     "output_type": "stream",
     "text": [
      "\r",
      " 15%|██████▊                                     | 2/13 [00:00<00:02,  4.09it/s]"
     ]
    },
    {
     "name": "stdout",
     "output_type": "stream",
     "text": [
      "series:  1\n",
      "4095.0\n",
      "SHAPE:  (23, 360, 384)\n",
      "histogram time:  0.035378247033804655\n"
     ]
    },
    {
     "data": {
      "image/png": "[encoded data removed]",
      "text/plain": [
       "<Figure size 432x288 with 1 Axes>"
      ]
     },
     "metadata": {
      "needs_background": "light"
     },
     "output_type": "display_data"
    },
    {
     "name": "stderr",
     "output_type": "stream",
     "text": [
      "\r",
      " 23%|██████████▏                                 | 3/13 [00:00<00:01,  5.30it/s]"
     ]
    },
    {
     "name": "stdout",
     "output_type": "stream",
     "text": [
      "series:  2\n",
      "4091.0\n",
      "SHAPE:  (25, 1024, 896)\n",
      "histogram time:  0.2593454923480749\n"
     ]
    },
    {
     "data": {
      "image/png": "[encoded data removed]",
      "text/plain": [
       "<Figure size 432x288 with 1 Axes>"
      ]
     },
     "metadata": {
      "needs_background": "light"
     },
     "output_type": "display_data"
    },
    {
     "name": "stderr",
     "output_type": "stream",
     "text": [
      "\r",
      " 31%|█████████████▌                              | 4/13 [00:00<00:02,  4.00it/s]"
     ]
    },
    {
     "name": "stdout",
     "output_type": "stream",
     "text": [
      "series:  3\n",
      "1686.0\n",
      "SHAPE:  (25, 384, 336)\n",
      "histogram time:  0.060327103827148676\n"
     ]
    },
    {
     "data": {
      "image/png": "[encoded data removed]",
      "text/plain": [
       "<Figure size 432x288 with 1 Axes>"
      ]
     },
     "metadata": {
      "needs_background": "light"
     },
     "output_type": "display_data"
    },
    {
     "name": "stderr",
     "output_type": "stream",
     "text": [
      "\r",
      " 38%|████████████████▉                           | 5/13 [00:01<00:01,  4.82it/s]"
     ]
    },
    {
     "name": "stdout",
     "output_type": "stream",
     "text": [
      "series:  4\n",
      "1086.0\n",
      "SHAPE:  (25, 384, 336)\n",
      "histogram time:  0.05141275189816952\n"
     ]
    },
    {
     "data": {
      "image/png": "[encoded data removed]",
      "text/plain": [
       "<Figure size 432x288 with 1 Axes>"
      ]
     },
     "metadata": {
      "needs_background": "light"
     },
     "output_type": "display_data"
    },
    {
     "name": "stderr",
     "output_type": "stream",
     "text": [
      "\r",
      " 46%|████████████████████▎                       | 6/13 [00:01<00:01,  5.33it/s]"
     ]
    },
    {
     "name": "stdout",
     "output_type": "stream",
     "text": [
      "series:  5\n",
      "1355.0\n",
      "SHAPE:  (35, 512, 464)\n",
      "histogram time:  0.10580535884946585\n"
     ]
    },
    {
     "data": {
      "image/png": "[encoded data removed]",
      "text/plain": [
       "<Figure size 432x288 with 1 Axes>"
      ]
     },
     "metadata": {
      "needs_background": "light"
     },
     "output_type": "display_data"
    },
    {
     "name": "stderr",
     "output_type": "stream",
     "text": [
      "\r",
      " 54%|███████████████████████▋                    | 7/13 [00:01<00:01,  5.45it/s]"
     ]
    },
    {
     "name": "stdout",
     "output_type": "stream",
     "text": [
      "series:  6\n",
      "2272.0\n",
      "SHAPE:  (22, 384, 346)\n",
      "histogram time:  0.03556981310248375\n"
     ]
    },
    {
     "data": {
      "image/png": "[encoded data removed]",
      "text/plain": [
       "<Figure size 432x288 with 1 Axes>"
      ]
     },
     "metadata": {
      "needs_background": "light"
     },
     "output_type": "display_data"
    },
    {
     "name": "stderr",
     "output_type": "stream",
     "text": [
      "\r",
      " 62%|███████████████████████████                 | 8/13 [00:01<00:00,  6.13it/s]"
     ]
    },
    {
     "name": "stdout",
     "output_type": "stream",
     "text": [
      "series:  7\n",
      "2411.0\n",
      "SHAPE:  (25, 384, 336)\n",
      "histogram time:  0.05819080863147974\n"
     ]
    },
    {
     "data": {
      "image/png": "[encoded data removed]",
      "text/plain": [
       "<Figure size 432x288 with 1 Axes>"
      ]
     },
     "metadata": {
      "needs_background": "light"
     },
     "output_type": "display_data"
    },
    {
     "name": "stderr",
     "output_type": "stream",
     "text": [
      "\r",
      " 69%|██████████████████████████████▍             | 9/13 [00:01<00:00,  6.51it/s]"
     ]
    },
    {
     "name": "stdout",
     "output_type": "stream",
     "text": [
      "series:  8\n",
      "2270.0\n",
      "SHAPE:  (22, 384, 348)\n",
      "histogram time:  0.03148865094408393\n"
     ]
    },
    {
     "data": {
      "image/png": "[encoded data removed]",
      "text/plain": [
       "<Figure size 432x288 with 1 Axes>"
      ]
     },
     "metadata": {
      "needs_background": "light"
     },
     "output_type": "display_data"
    },
    {
     "name": "stdout",
     "output_type": "stream",
     "text": [
      "series:  9\n",
      "2511.0\n",
      "SHAPE:  (20,)\n",
      "here in except for  10\n",
      "histogram time:  0.03036493295803666\n"
     ]
    },
    {
     "name": "stderr",
     "output_type": "stream",
     "text": [
      "/tmp/ipykernel_17529/2106381758.py:3: VisibleDeprecationWarning: Creating an ndarray from ragged nested sequences (which is a list-or-tuple of lists-or-tuples-or ndarrays with different lengths or shapes) is deprecated. If you meant to do this, you must specify 'dtype=object' when creating the ndarray.\n",
      "  scan=np.asarray(scan)\n"
     ]
    },
    {
     "data": {
      "image/png": "[encoded data removed]",
      "text/plain": [
       "<Figure size 432x288 with 1 Axes>"
      ]
     },
     "metadata": {
      "needs_background": "light"
     },
     "output_type": "display_data"
    },
    {
     "name": "stderr",
     "output_type": "stream",
     "text": [
      "\r",
      " 85%|████████████████████████████████████▍      | 11/13 [00:01<00:00,  7.67it/s]"
     ]
    },
    {
     "name": "stdout",
     "output_type": "stream",
     "text": [
      "series:  10\n",
      "1062.0\n",
      "SHAPE:  (20,)\n",
      "here in except for  11\n",
      "histogram time:  0.03690909966826439\n"
     ]
    },
    {
     "data": {
      "image/png": "[encoded data removed]",
      "text/plain": [
       "<Figure size 432x288 with 1 Axes>"
      ]
     },
     "metadata": {
      "needs_background": "light"
     },
     "output_type": "display_data"
    },
    {
     "name": "stderr",
     "output_type": "stream",
     "text": [
      "\r",
      " 92%|███████████████████████████████████████▋   | 12/13 [00:02<00:00,  7.90it/s]"
     ]
    },
    {
     "name": "stdout",
     "output_type": "stream",
     "text": [
      "series:  11\n",
      "1043.0\n",
      "SHAPE:  (20,)\n",
      "here in except for  12\n",
      "histogram time:  0.20657650008797646\n"
     ]
    },
    {
     "data": {
      "image/png": "[encoded data removed]",
      "text/plain": [
       "<Figure size 432x288 with 1 Axes>"
      ]
     },
     "metadata": {
      "needs_background": "light"
     },
     "output_type": "display_data"
    },
    {
     "name": "stderr",
     "output_type": "stream",
     "text": [
      "100%|███████████████████████████████████████████| 13/13 [00:02<00:00,  5.63it/s]"
     ]
    },
    {
     "name": "stdout",
     "output_type": "stream",
     "text": [
      "series:  12\n",
      "3416.0\n"
     ]
    },
    {
     "name": "stderr",
     "output_type": "stream",
     "text": [
      "\n"
     ]
    }
   ],
   "source": [
    "for j in tqdm(range(len(scan_seriesi))):\n",
    "    scan, names = scan_seriesi[j],filenamesi[j]\n",
    "    scan=np.asarray(scan)\n",
    "#     dcmData = pydicom.dcmread(os.path.join(ipath,names[int(scan.shape[0]/2)]))\n",
    "#     plt.imshow(dcmData.pixel_array,'gray')\n",
    "#     plt.show()\n",
    "#     plt.imshow()\n",
    "    image= scan #[20,:,:]\n",
    "    print(\"SHAPE: \", image.shape)\n",
    "    start = timeit.default_timer()\n",
    "    try:\n",
    "        histogram, bin_edges = np.histogram(image, bins=256)\n",
    "        check=bin_edges[-1]\n",
    "    except:\n",
    "        print(\"here in except for \", j)\n",
    "        image = []\n",
    "        for i in range(len(scan_seriesi[j])-1):\n",
    "            image.append(np.asarray(scan_seriesi[j][i]))\n",
    "#         print(image.shape)\n",
    "#         imagee = image[:image.shape[0] - 1]\n",
    "#         print(\"subtracted\")\n",
    "#         print(imagee.shape)\n",
    "        histogram, bin_edges = np.histogram(image, bins=256)\n",
    "        check=bin_edges[-1]        \n",
    "    stop = timeit.default_timer()\n",
    "    print(\"histogram time: \", stop - start)\n",
    "\n",
    "    plt.figure()\n",
    "    plt.title(\"Grayscale Histogram\")\n",
    "    plt.xlabel(\"grayscale value\")\n",
    "    plt.ylabel(\"pixel count\")\n",
    "    #plt.xlim([-10.0, 1500.0])  # <- named arguments do not work here\n",
    "\n",
    "    plt.plot(bin_edges[0:-1], histogram)\n",
    "    plt.show()\n",
    "    print(\"series: \", j)\n",
    "    print(check)\n"
   ]
  },
  {
   "cell_type": "code",
   "execution_count": 83,
   "id": "05a74865",
   "metadata": {},
   "outputs": [
    {
     "data": {
      "text/plain": [
       "20"
      ]
     },
     "execution_count": 83,
     "metadata": {},
     "output_type": "execute_result"
    }
   ],
   "source": [
    "len(scan_seriesi[10])"
   ]
  },
  {
   "cell_type": "code",
   "execution_count": 88,
   "id": "32012890",
   "metadata": {},
   "outputs": [
    {
     "name": "stdout",
     "output_type": "stream",
     "text": [
      "(384, 384)\n",
      "(384, 384)\n",
      "(384, 384)\n",
      "(384, 384)\n",
      "(384, 384)\n",
      "(384, 384)\n",
      "(384, 384)\n",
      "(384, 384)\n",
      "(384, 384)\n",
      "(384, 384)\n",
      "(384, 384)\n",
      "(384, 384)\n",
      "(384, 384)\n",
      "(384, 384)\n",
      "(384, 384)\n",
      "(384, 384)\n",
      "(384, 384)\n",
      "(384, 384)\n",
      "(384, 384)\n"
     ]
    }
   ],
   "source": [
    "import copy\n",
    "s0 = np.asarray(scan_seriesi[10][0])\n",
    "s0r = s0.shape[1]\n",
    "s0c = s0.shape[0]\n",
    "for j in range(len(scan_seriesi[10])-1):\n",
    "    s = np.asarray(scan_seriesi[10][j])\n",
    "    if s.shape[0]==s0c and s.shape[1]==s0r:\n",
    "        print(s.shape)\n",
    "    else:\n",
    "        temp = copy.copy(scan_seriesi[10])\n",
    "        temp.remove(temp[j])\n",
    "        print(\"done\")"
   ]
  },
  {
   "cell_type": "code",
   "execution_count": 86,
   "id": "212335b5",
   "metadata": {},
   "outputs": [
    {
     "name": "stdout",
     "output_type": "stream",
     "text": [
      "20\n"
     ]
    }
   ],
   "source": [
    "print(len(scan_seriesi[10]))"
   ]
  },
  {
   "cell_type": "code",
   "execution_count": 87,
   "id": "e439f757",
   "metadata": {},
   "outputs": [
    {
     "name": "stdout",
     "output_type": "stream",
     "text": [
      "19\n"
     ]
    }
   ],
   "source": [
    "print(len(temp))"
   ]
  },
  {
   "cell_type": "code",
   "execution_count": 68,
   "id": "780a47b8",
   "metadata": {},
   "outputs": [
    {
     "name": "stderr",
     "output_type": "stream",
     "text": [
      "\r",
      "  0%|                                                    | 0/13 [00:00<?, ?it/s]"
     ]
    },
    {
     "name": "stdout",
     "output_type": "stream",
     "text": [
      "SHAPE:  (225, 384, 288)\n"
     ]
    },
    {
     "name": "stderr",
     "output_type": "stream",
     "text": [
      " 23%|██████████▏                                 | 3/13 [00:00<00:01,  8.35it/s]"
     ]
    },
    {
     "name": "stdout",
     "output_type": "stream",
     "text": [
      "SHAPE:  (46, 360, 384)\n",
      "SHAPE:  (23, 360, 384)\n",
      "SHAPE:  (25, 1024, 896)\n"
     ]
    },
    {
     "name": "stderr",
     "output_type": "stream",
     "text": [
      " 54%|███████████████████████▋                    | 7/13 [00:00<00:00,  9.87it/s]"
     ]
    },
    {
     "name": "stdout",
     "output_type": "stream",
     "text": [
      "SHAPE:  (25, 384, 336)\n",
      "SHAPE:  (25, 384, 336)\n",
      "SHAPE:  (35, 512, 464)\n",
      "SHAPE:  (22, 384, 346)\n",
      "SHAPE:  (25, 384, 336)\n"
     ]
    },
    {
     "name": "stderr",
     "output_type": "stream",
     "text": [
      " 77%|█████████████████████████████████          | 10/13 [00:00<00:00, 14.46it/s]/tmp/ipykernel_17529/803321014.py:3: VisibleDeprecationWarning: Creating an ndarray from ragged nested sequences (which is a list-or-tuple of lists-or-tuples-or ndarrays with different lengths or shapes) is deprecated. If you meant to do this, you must specify 'dtype=object' when creating the ndarray.\n",
      "  scan=np.asarray(scan)\n",
      "100%|███████████████████████████████████████████| 13/13 [00:00<00:00, 13.67it/s]"
     ]
    },
    {
     "name": "stdout",
     "output_type": "stream",
     "text": [
      "SHAPE:  (22, 384, 348)\n",
      "SHAPE:  (19, 384, 384)\n",
      "SHAPE:  (20,)\n",
      "(20,)\n",
      "SHAPE:  (20,)\n",
      "(20,)\n"
     ]
    },
    {
     "name": "stderr",
     "output_type": "stream",
     "text": [
      "\n"
     ]
    }
   ],
   "source": [
    "for j in tqdm(range(len(scan_seriesi))):\n",
    "    scan, names = scan_seriesi[j],filenamesi[j]\n",
    "    scan=np.asarray(scan)\n",
    "#     dcmData = pydicom.dcmread(os.path.join(ipath,names[int(scan.shape[0]/2)]))\n",
    "#     plt.imshow(dcmData.pixel_array,'gray')\n",
    "#     plt.show()\n",
    "#     plt.imshow()\n",
    "    image= scan #[20,:,:]\n",
    "    print(\"SHAPE: \", image.shape)\n",
    "    start = timeit.default_timer()\n",
    "    try:\n",
    "        histogram, bin_edges = np.histogram(image, bins=256)\n",
    "        check=bin_edges[-1]\n",
    "    except:\n",
    "        print(image.shape)"
   ]
  },
  {
   "cell_type": "code",
   "execution_count": 21,
   "id": "86b9b65e",
   "metadata": {},
   "outputs": [
    {
     "name": "stderr",
     "output_type": "stream",
     "text": [
      "/tmp/ipykernel_17529/460448568.py:1: VisibleDeprecationWarning: Creating an ndarray from ragged nested sequences (which is a list-or-tuple of lists-or-tuples-or ndarrays with different lengths or shapes) is deprecated. If you meant to do this, you must specify 'dtype=object' when creating the ndarray.\n",
      "  scan2 = np.asarray(scan_seriesi[2])\n"
     ]
    },
    {
     "data": {
      "text/plain": [
       "(20,)"
      ]
     },
     "execution_count": 21,
     "metadata": {},
     "output_type": "execute_result"
    }
   ],
   "source": [
    "scan2 = np.asarray(scan_seriesi[2])\n",
    "scan2.shape"
   ]
  },
  {
   "cell_type": "code",
   "execution_count": 89,
   "id": "2d165461",
   "metadata": {
    "scrolled": false
   },
   "outputs": [
    {
     "name": "stderr",
     "output_type": "stream",
     "text": [
      "  1%|▍                                          | 3/338 [00:01<02:15,  2.47it/s]\n"
     ]
    },
    {
     "ename": "RuntimeError",
     "evalue": "Exception thrown in SimpleITK ImageFileReader_Execute: /tmp/SimpleITK/Code/IO/src/sitkImageReaderBase.cxx:105:\nsitk::ERROR: Unable to determine ImageIO reader for \"/home/minha/FARZEEN/face ann/face mri/output_head/00241178/59ce186ce4b07f3535c1ec11.dcm\"",
     "output_type": "error",
     "traceback": [
      "\u001b[0;31m---------------------------------------------------------------------------\u001b[0m",
      "\u001b[0;31mRuntimeError\u001b[0m                              Traceback (most recent call last)",
      "Input \u001b[0;32mIn [89]\u001b[0m, in \u001b[0;36m<cell line: 1>\u001b[0;34m()\u001b[0m\n\u001b[0;32m----> 1\u001b[0m \u001b[43mget_imgs_score\u001b[49m\u001b[43m(\u001b[49m\u001b[43mscan_seriesi\u001b[49m\u001b[43m,\u001b[49m\u001b[43m \u001b[49m\u001b[43mfilenamesi\u001b[49m\u001b[43m,\u001b[49m\u001b[43m \u001b[49m\u001b[43mopath\u001b[49m\u001b[43m)\u001b[49m\n",
      "Input \u001b[0;32mIn [68]\u001b[0m, in \u001b[0;36mget_imgs_score\u001b[0;34m(scani_series, filenamesi, opath)\u001b[0m\n\u001b[1;32m      1\u001b[0m \u001b[38;5;28;01mdef\u001b[39;00m \u001b[38;5;21mget_imgs_score\u001b[39m(scani_series,filenamesi, opath):\n\u001b[1;32m      2\u001b[0m \u001b[38;5;66;03m#     scani_series,filenamesi = scan_func(ipath)\u001b[39;00m\n\u001b[0;32m----> 3\u001b[0m     scano_series,filenameso \u001b[38;5;241m=\u001b[39m \u001b[43mscan_func\u001b[49m\u001b[43m(\u001b[49m\u001b[43mopath\u001b[49m\u001b[43m)\u001b[49m\n\u001b[1;32m      4\u001b[0m \u001b[38;5;66;03m#     pscan, n = get_full_scan(ppath) \u001b[39;00m\n\u001b[1;32m      5\u001b[0m     error\u001b[38;5;241m=\u001b[39m[]\n",
      "Input \u001b[0;32mIn [60]\u001b[0m, in \u001b[0;36mscan_func\u001b[0;34m(path)\u001b[0m\n\u001b[1;32m     41\u001b[0m \u001b[38;5;28;01mdef\u001b[39;00m \u001b[38;5;21mscan_func\u001b[39m(path):\n\u001b[0;32m---> 42\u001b[0m     f\u001b[38;5;241m=\u001b[39m \u001b[43msorted_files\u001b[49m\u001b[43m(\u001b[49m\u001b[43mpath\u001b[49m\u001b[43m)\u001b[49m\n\u001b[1;32m     43\u001b[0m     series\u001b[38;5;241m=\u001b[39m[]\n\u001b[1;32m     44\u001b[0m     files\u001b[38;5;241m=\u001b[39m[]\n",
      "Input \u001b[0;32mIn [60]\u001b[0m, in \u001b[0;36msorted_files\u001b[0;34m(folder)\u001b[0m\n\u001b[1;32m     30\u001b[0m f\u001b[38;5;241m=\u001b[39m os\u001b[38;5;241m.\u001b[39mlistdir(folder)\n\u001b[1;32m     31\u001b[0m \u001b[38;5;28;01mfor\u001b[39;00m name \u001b[38;5;129;01min\u001b[39;00m tqdm( f):\n\u001b[0;32m---> 32\u001b[0m     itkimage \u001b[38;5;241m=\u001b[39m \u001b[43msitk\u001b[49m\u001b[38;5;241;43m.\u001b[39;49m\u001b[43mReadImage\u001b[49m\u001b[43m(\u001b[49m\u001b[43mos\u001b[49m\u001b[38;5;241;43m.\u001b[39;49m\u001b[43mpath\u001b[49m\u001b[38;5;241;43m.\u001b[39;49m\u001b[43mjoin\u001b[49m\u001b[43m(\u001b[49m\u001b[43mfolder\u001b[49m\u001b[43m,\u001b[49m\u001b[43mname\u001b[49m\u001b[43m)\u001b[49m\u001b[43m)\u001b[49m\n\u001b[1;32m     33\u001b[0m     temp\u001b[38;5;241m=\u001b[39m \u001b[38;5;28mfloat\u001b[39m(itkimage\u001b[38;5;241m.\u001b[39mGetMetaData(\u001b[38;5;124m'\u001b[39m\u001b[38;5;124m0020|0013\u001b[39m\u001b[38;5;124m'\u001b[39m)) \u001b[38;5;66;03m# instance number \u001b[39;00m\n\u001b[1;32m     34\u001b[0m     temp1\u001b[38;5;241m=\u001b[39m itkimage\u001b[38;5;241m.\u001b[39mGetMetaData(\u001b[38;5;124m'\u001b[39m\u001b[38;5;124m0020|000e\u001b[39m\u001b[38;5;124m'\u001b[39m) \u001b[38;5;66;03m#series instance UID \u001b[39;00m\n",
      "File \u001b[0;32m~/anaconda3/envs/hyundai1/lib/python3.10/site-packages/SimpleITK/extra.py:357\u001b[0m, in \u001b[0;36mReadImage\u001b[0;34m(fileName, outputPixelType, imageIO)\u001b[0m\n\u001b[1;32m    355\u001b[0m reader\u001b[38;5;241m.\u001b[39mSetImageIO(imageIO)\n\u001b[1;32m    356\u001b[0m reader\u001b[38;5;241m.\u001b[39mSetOutputPixelType(outputPixelType)\n\u001b[0;32m--> 357\u001b[0m \u001b[38;5;28;01mreturn\u001b[39;00m \u001b[43mreader\u001b[49m\u001b[38;5;241;43m.\u001b[39;49m\u001b[43mExecute\u001b[49m\u001b[43m(\u001b[49m\u001b[43m)\u001b[49m\n",
      "File \u001b[0;32m~/anaconda3/envs/hyundai1/lib/python3.10/site-packages/SimpleITK/SimpleITK.py:8438\u001b[0m, in \u001b[0;36mImageFileReader.Execute\u001b[0;34m(self)\u001b[0m\n\u001b[1;32m   8425\u001b[0m \u001b[38;5;28;01mdef\u001b[39;00m \u001b[38;5;21mExecute\u001b[39m(\u001b[38;5;28mself\u001b[39m):\n\u001b[1;32m   8426\u001b[0m     \u001b[38;5;124mr\u001b[39m\u001b[38;5;124;03m\"\"\"\u001b[39;00m\n\u001b[1;32m   8427\u001b[0m \u001b[38;5;124;03m    Execute(ImageFileReader self) -> Image\u001b[39;00m\n\u001b[1;32m   8428\u001b[0m \n\u001b[0;32m   (...)\u001b[0m\n\u001b[1;32m   8436\u001b[0m \n\u001b[1;32m   8437\u001b[0m \u001b[38;5;124;03m    \"\"\"\u001b[39;00m\n\u001b[0;32m-> 8438\u001b[0m     \u001b[38;5;28;01mreturn\u001b[39;00m \u001b[43m_SimpleITK\u001b[49m\u001b[38;5;241;43m.\u001b[39;49m\u001b[43mImageFileReader_Execute\u001b[49m\u001b[43m(\u001b[49m\u001b[38;5;28;43mself\u001b[39;49m\u001b[43m)\u001b[49m\n",
      "\u001b[0;31mRuntimeError\u001b[0m: Exception thrown in SimpleITK ImageFileReader_Execute: /tmp/SimpleITK/Code/IO/src/sitkImageReaderBase.cxx:105:\nsitk::ERROR: Unable to determine ImageIO reader for \"/home/minha/FARZEEN/face ann/face mri/output_head/00241178/59ce186ce4b07f3535c1ec11.dcm\""
     ]
    }
   ],
   "source": [
    "get_imgs_score(scan_seriesi, filenamesi, opath)"
   ]
  },
  {
   "cell_type": "code",
   "execution_count": 60,
   "id": "831c18ce",
   "metadata": {},
   "outputs": [],
   "source": [
    "import timeit\n",
    "def sorted_files_2(folder):\n",
    "    start = timeit.default_timer()\n",
    "    ins=[]\n",
    "    ser=[]\n",
    "#     f= os.listdir(folder)\n",
    "    f= sorted(glob.glob((folder + \"/**/*.dcm\"),recursive = True))\n",
    "    for name in tqdm( f):\n",
    "#         itkimage = sitk.ReadImage(os.path.join(folder,name))\n",
    "#         temp= float(itkimage.GetMetaData('0020|0013')) # instance number \n",
    "#         temp1= itkimage.GetMetaData('0020|000e') #series instance UID \n",
    "#         row = itkimage.GetMetaData()\n",
    "        ds = pydicom.dcmread(os.path.join(folder,name))\n",
    "        temp = ds.InstanceNumber\n",
    "        temp1 = ds.SeriesInstanceUID\n",
    "        ins.append(int(temp))\n",
    "        ser.append(temp1)\n",
    "    stop = timeit.default_timer()\n",
    "    print(\"time for appending: \", stop-start)\n",
    "    series=np.unique(ser)\n",
    "    files=[[x for sr,_,x in sorted(zip(ser,ins,f)) if sr==s] for s in series]\n",
    "    stop2 = timeit.default_timer()\n",
    "    print(\"series time: \", stop2-stop)\n",
    "    return files\n",
    "\n",
    "def scan_func(path):\n",
    "    f= sorted_files(path)\n",
    "    series=[]\n",
    "    files=[]\n",
    "    for i in tqdm (range (len(f))):\n",
    "        img=[]\n",
    "        file=[]\n",
    "        for filename in f[i]:\n",
    "            itkimage = sitk.ReadImage(os.path.join(path,filename))\n",
    "            row= itkimage.GetMetaData('0020|0010')\n",
    "            column = itkimage.GetMetaData('0020|0011')\n",
    "            numpyImage = sitk.GetArrayFromImage(itkimage)\n",
    "            img.append(numpyImage[0,:,:])\n",
    "            file.append(filename)\n",
    "        series.append(img)\n",
    "        files.append(file)\n",
    "    return series,files"
   ]
  },
  {
   "cell_type": "code",
   "execution_count": 62,
   "id": "542737a0",
   "metadata": {},
   "outputs": [
    {
     "name": "stderr",
     "output_type": "stream",
     "text": [
      "100%|██████████████████████████████████████| 2012/2012 [00:06<00:00, 303.88it/s]"
     ]
    },
    {
     "name": "stdout",
     "output_type": "stream",
     "text": [
      "time for appending:  6.63044131686911\n",
      "series time:  0.01256177294999361\n"
     ]
    },
    {
     "name": "stderr",
     "output_type": "stream",
     "text": [
      "\n"
     ]
    }
   ],
   "source": [
    "files = sorted_files_2(ipath)"
   ]
  },
  {
   "cell_type": "code",
   "execution_count": 53,
   "id": "753691a9",
   "metadata": {},
   "outputs": [
    {
     "data": {
      "text/plain": [
       "[['/home/abdullah/mri_fa/MRI_DATA_HB/head/06012257/5ae92d46e4b03ed00fb334fa.dcm',\n",
       "  '/home/abdullah/mri_fa/MRI_DATA_HB/head/06012257/5ae92d4ee4b03ed00fb334fe.dcm',\n",
       "  '/home/abdullah/mri_fa/MRI_DATA_HB/head/06012257/5ae92d57e4b0d2298adad2ed.dcm',\n",
       "  '/home/abdullah/mri_fa/MRI_DATA_HB/head/06012257/5ae92d5fe4b03ed00fb33511.dcm',\n",
       "  '/home/abdullah/mri_fa/MRI_DATA_HB/head/06012257/5ae92d68e4b03ed00fb3351b.dcm',\n",
       "  '/home/abdullah/mri_fa/MRI_DATA_HB/head/06012257/5ae92d70e4b03ed00fb33522.dcm',\n",
       "  '/home/abdullah/mri_fa/MRI_DATA_HB/head/06012257/5ae92d79e4b0d2298adad2fd.dcm',\n",
       "  '/home/abdullah/mri_fa/MRI_DATA_HB/head/06012257/5ae92d84e4b0d2298adad300.dcm',\n",
       "  '/home/abdullah/mri_fa/MRI_DATA_HB/head/06012257/5ae92d8de4b03ed00fb3353f.dcm',\n",
       "  '/home/abdullah/mri_fa/MRI_DATA_HB/head/06012257/5ae92d97e4b03ed00fb3354a.dcm',\n",
       "  '/home/abdullah/mri_fa/MRI_DATA_HB/head/06012257/5ae92da1e4b03ed00fb33557.dcm',\n",
       "  '/home/abdullah/mri_fa/MRI_DATA_HB/head/06012257/5ae92daae4b03ed00fb33564.dcm',\n",
       "  '/home/abdullah/mri_fa/MRI_DATA_HB/head/06012257/5ae92db3e4b03ed00fb33571.dcm',\n",
       "  '/home/abdullah/mri_fa/MRI_DATA_HB/head/06012257/5ae92dbce4b03ed00fb3357e.dcm',\n",
       "  '/home/abdullah/mri_fa/MRI_DATA_HB/head/06012257/5ae92dc5e4b03ed00fb3358b.dcm',\n",
       "  '/home/abdullah/mri_fa/MRI_DATA_HB/head/06012257/5ae92dcee4b03ed00fb33597.dcm',\n",
       "  '/home/abdullah/mri_fa/MRI_DATA_HB/head/06012257/5ae92dd8e4b0d2298adad308.dcm',\n",
       "  '/home/abdullah/mri_fa/MRI_DATA_HB/head/06012257/5ae92de2e4b0d2298adad314.dcm',\n",
       "  '/home/abdullah/mri_fa/MRI_DATA_HB/head/06012257/5ae92deae4b0d2298adad320.dcm',\n",
       "  '/home/abdullah/mri_fa/MRI_DATA_HB/head/06012257/5ae92df3e4b0d2298adad32c.dcm',\n",
       "  '/home/abdullah/mri_fa/MRI_DATA_HB/head/06012257/5ae92dfae4b03ed00fb335ac.dcm',\n",
       "  '/home/abdullah/mri_fa/MRI_DATA_HB/head/06012257/5ae92e00e4b03ed00fb335b4.dcm',\n",
       "  '/home/abdullah/mri_fa/MRI_DATA_HB/head/06012257/5ae92e07e4b0d2298adad33d.dcm',\n",
       "  '/home/abdullah/mri_fa/MRI_DATA_HB/head/06012257/5ae92e0ce4b03ed00fb335be.dcm',\n",
       "  '/home/abdullah/mri_fa/MRI_DATA_HB/head/06012257/5ae92e10e4b0d2298adad341.dcm',\n",
       "  '/home/abdullah/mri_fa/MRI_DATA_HB/head/06012257/5ae92e15e4b0d2298adad348.dcm',\n",
       "  '/home/abdullah/mri_fa/MRI_DATA_HB/head/06012257/5ae92e16e4b0d2298adad34b.dcm',\n",
       "  '/home/abdullah/mri_fa/MRI_DATA_HB/head/06012257/5ae92e17e4b0d2298adad34e.dcm',\n",
       "  '/home/abdullah/mri_fa/MRI_DATA_HB/head/06012257/5ae92e19e4b03ed00fb335c4.dcm',\n",
       "  '/home/abdullah/mri_fa/MRI_DATA_HB/head/06012257/5ae92e1be4b03ed00fb335c7.dcm',\n",
       "  '/home/abdullah/mri_fa/MRI_DATA_HB/head/06012257/5ae92e1ce4b03ed00fb335ca.dcm',\n",
       "  '/home/abdullah/mri_fa/MRI_DATA_HB/head/06012257/5ae92e1ee4b0d2298adad353.dcm',\n",
       "  '/home/abdullah/mri_fa/MRI_DATA_HB/head/06012257/5ae92e20e4b0d2298adad356.dcm',\n",
       "  '/home/abdullah/mri_fa/MRI_DATA_HB/head/06012257/5ae92e21e4b0d2298adad359.dcm',\n",
       "  '/home/abdullah/mri_fa/MRI_DATA_HB/head/06012257/5ae92e23e4b0d2298adad35c.dcm',\n",
       "  '/home/abdullah/mri_fa/MRI_DATA_HB/head/06012257/5ae92e24e4b03ed00fb335cd.dcm',\n",
       "  '/home/abdullah/mri_fa/MRI_DATA_HB/head/06012257/5ae92e25e4b0d2298adad35d.dcm',\n",
       "  '/home/abdullah/mri_fa/MRI_DATA_HB/head/06012257/5ae92e26e4b03ed00fb335d0.dcm',\n",
       "  '/home/abdullah/mri_fa/MRI_DATA_HB/head/06012257/5ae92e27e4b03ed00fb335d2.dcm',\n",
       "  '/home/abdullah/mri_fa/MRI_DATA_HB/head/06012257/5ae92e28e4b03ed00fb335d4.dcm',\n",
       "  '/home/abdullah/mri_fa/MRI_DATA_HB/head/06012257/5ae92e29e4b03ed00fb335d6.dcm',\n",
       "  '/home/abdullah/mri_fa/MRI_DATA_HB/head/06012257/5ae92e29e4b0d2298adad35e.dcm',\n",
       "  '/home/abdullah/mri_fa/MRI_DATA_HB/head/06012257/5ae92e2ae4b0d2298adad362.dcm',\n",
       "  '/home/abdullah/mri_fa/MRI_DATA_HB/head/06012257/5ae92e2be4b0d2298adad364.dcm',\n",
       "  '/home/abdullah/mri_fa/MRI_DATA_HB/head/06012257/5ae92e2ce4b0d2298adad366.dcm',\n",
       "  '/home/abdullah/mri_fa/MRI_DATA_HB/head/06012257/5ae92e2de4b0d2298adad368.dcm',\n",
       "  '/home/abdullah/mri_fa/MRI_DATA_HB/head/06012257/5ae92e2ee4b0d2298adad36a.dcm',\n",
       "  '/home/abdullah/mri_fa/MRI_DATA_HB/head/06012257/5ae92e2ee4b0d2298adad36b.dcm',\n",
       "  '/home/abdullah/mri_fa/MRI_DATA_HB/head/06012257/5ae92e2fe4b0d2298adad36c.dcm',\n",
       "  '/home/abdullah/mri_fa/MRI_DATA_HB/head/06012257/5ae92e2fe4b0d2298adad36d.dcm',\n",
       "  '/home/abdullah/mri_fa/MRI_DATA_HB/head/06012257/5ae92e30e4b0d2298adad36e.dcm',\n",
       "  '/home/abdullah/mri_fa/MRI_DATA_HB/head/06012257/5ae92e30e4b0d2298adad36f.dcm',\n",
       "  '/home/abdullah/mri_fa/MRI_DATA_HB/head/06012257/5ae92e31e4b0d2298adad370.dcm',\n",
       "  '/home/abdullah/mri_fa/MRI_DATA_HB/head/06012257/5ae92e31e4b0d2298adad371.dcm',\n",
       "  '/home/abdullah/mri_fa/MRI_DATA_HB/head/06012257/5ae92e32e4b0d2298adad372.dcm',\n",
       "  '/home/abdullah/mri_fa/MRI_DATA_HB/head/06012257/5ae92e32e4b0d2298adad373.dcm',\n",
       "  '/home/abdullah/mri_fa/MRI_DATA_HB/head/06012257/5ae92e32e4b0d2298adad374.dcm',\n",
       "  '/home/abdullah/mri_fa/MRI_DATA_HB/head/06012257/5ae92e33e4b0d2298adad375.dcm',\n",
       "  '/home/abdullah/mri_fa/MRI_DATA_HB/head/06012257/5ae92e33e4b0d2298adad376.dcm',\n",
       "  '/home/abdullah/mri_fa/MRI_DATA_HB/head/06012257/5ae92e34e4b0d2298adad377.dcm',\n",
       "  '/home/abdullah/mri_fa/MRI_DATA_HB/head/06012257/5ae92e34e4b0d2298adad378.dcm',\n",
       "  '/home/abdullah/mri_fa/MRI_DATA_HB/head/06012257/5ae92e34e4b0d2298adad379.dcm',\n",
       "  '/home/abdullah/mri_fa/MRI_DATA_HB/head/06012257/5ae92e35e4b0d2298adad37a.dcm',\n",
       "  '/home/abdullah/mri_fa/MRI_DATA_HB/head/06012257/5ae92e35e4b0d2298adad37b.dcm',\n",
       "  '/home/abdullah/mri_fa/MRI_DATA_HB/head/06012257/5ae92e36e4b0d2298adad37c.dcm',\n",
       "  '/home/abdullah/mri_fa/MRI_DATA_HB/head/06012257/5ae92e36e4b0d2298adad37d.dcm',\n",
       "  '/home/abdullah/mri_fa/MRI_DATA_HB/head/06012257/5ae92e36e4b0d2298adad37e.dcm',\n",
       "  '/home/abdullah/mri_fa/MRI_DATA_HB/head/06012257/5ae92e37e4b0d2298adad37f.dcm',\n",
       "  '/home/abdullah/mri_fa/MRI_DATA_HB/head/06012257/5ae92e37e4b0d2298adad380.dcm',\n",
       "  '/home/abdullah/mri_fa/MRI_DATA_HB/head/06012257/5ae92e38e4b0d2298adad381.dcm',\n",
       "  '/home/abdullah/mri_fa/MRI_DATA_HB/head/06012257/5ae92e38e4b0d2298adad382.dcm',\n",
       "  '/home/abdullah/mri_fa/MRI_DATA_HB/head/06012257/5ae92e38e4b0d2298adad383.dcm',\n",
       "  '/home/abdullah/mri_fa/MRI_DATA_HB/head/06012257/5ae92e39e4b0d2298adad384.dcm',\n",
       "  '/home/abdullah/mri_fa/MRI_DATA_HB/head/06012257/5ae92e39e4b0d2298adad385.dcm',\n",
       "  '/home/abdullah/mri_fa/MRI_DATA_HB/head/06012257/5ae92e3ae4b0d2298adad386.dcm',\n",
       "  '/home/abdullah/mri_fa/MRI_DATA_HB/head/06012257/5ae92e3ae4b0d2298adad387.dcm',\n",
       "  '/home/abdullah/mri_fa/MRI_DATA_HB/head/06012257/5ae92e3be4b0d2298adad388.dcm',\n",
       "  '/home/abdullah/mri_fa/MRI_DATA_HB/head/06012257/5ae92e3be4b0d2298adad389.dcm',\n",
       "  '/home/abdullah/mri_fa/MRI_DATA_HB/head/06012257/5ae92e3ce4b0d2298adad38a.dcm',\n",
       "  '/home/abdullah/mri_fa/MRI_DATA_HB/head/06012257/5ae92e3ce4b0d2298adad38b.dcm',\n",
       "  '/home/abdullah/mri_fa/MRI_DATA_HB/head/06012257/5ae92e3ce4b0d2298adad38c.dcm',\n",
       "  '/home/abdullah/mri_fa/MRI_DATA_HB/head/06012257/5ae92e3de4b0d2298adad38d.dcm',\n",
       "  '/home/abdullah/mri_fa/MRI_DATA_HB/head/06012257/5ae92e3de4b0d2298adad38e.dcm',\n",
       "  '/home/abdullah/mri_fa/MRI_DATA_HB/head/06012257/5ae92e3de4b0d2298adad38f.dcm',\n",
       "  '/home/abdullah/mri_fa/MRI_DATA_HB/head/06012257/5ae92e3ee4b0d2298adad390.dcm',\n",
       "  '/home/abdullah/mri_fa/MRI_DATA_HB/head/06012257/5ae92e3ee4b0d2298adad391.dcm',\n",
       "  '/home/abdullah/mri_fa/MRI_DATA_HB/head/06012257/5ae92e3fe4b0d2298adad392.dcm',\n",
       "  '/home/abdullah/mri_fa/MRI_DATA_HB/head/06012257/5ae92e3fe4b0d2298adad393.dcm',\n",
       "  '/home/abdullah/mri_fa/MRI_DATA_HB/head/06012257/5ae92e3fe4b0d2298adad394.dcm',\n",
       "  '/home/abdullah/mri_fa/MRI_DATA_HB/head/06012257/5ae92e40e4b0d2298adad395.dcm',\n",
       "  '/home/abdullah/mri_fa/MRI_DATA_HB/head/06012257/5ae92e40e4b0d2298adad396.dcm',\n",
       "  '/home/abdullah/mri_fa/MRI_DATA_HB/head/06012257/5ae92e41e4b0d2298adad397.dcm',\n",
       "  '/home/abdullah/mri_fa/MRI_DATA_HB/head/06012257/5ae92e41e4b0d2298adad398.dcm',\n",
       "  '/home/abdullah/mri_fa/MRI_DATA_HB/head/06012257/5ae92e42e4b0d2298adad399.dcm',\n",
       "  '/home/abdullah/mri_fa/MRI_DATA_HB/head/06012257/5ae92e42e4b0d2298adad39a.dcm',\n",
       "  '/home/abdullah/mri_fa/MRI_DATA_HB/head/06012257/5ae92e42e4b0d2298adad39b.dcm',\n",
       "  '/home/abdullah/mri_fa/MRI_DATA_HB/head/06012257/5ae92e43e4b0d2298adad39c.dcm',\n",
       "  '/home/abdullah/mri_fa/MRI_DATA_HB/head/06012257/5ae92e43e4b0d2298adad39d.dcm',\n",
       "  '/home/abdullah/mri_fa/MRI_DATA_HB/head/06012257/5ae92e44e4b0d2298adad39e.dcm',\n",
       "  '/home/abdullah/mri_fa/MRI_DATA_HB/head/06012257/5ae92e45e4b03ed00fb335d8.dcm',\n",
       "  '/home/abdullah/mri_fa/MRI_DATA_HB/head/06012257/5ae92e45e4b0d2298adad39f.dcm',\n",
       "  '/home/abdullah/mri_fa/MRI_DATA_HB/head/06012257/5ae92e46e4b0d2298adad3a0.dcm',\n",
       "  '/home/abdullah/mri_fa/MRI_DATA_HB/head/06012257/5ae92e46e4b0d2298adad3a1.dcm',\n",
       "  '/home/abdullah/mri_fa/MRI_DATA_HB/head/06012257/5ae92e47e4b0d2298adad3a2.dcm',\n",
       "  '/home/abdullah/mri_fa/MRI_DATA_HB/head/06012257/5ae92e47e4b0d2298adad3a3.dcm',\n",
       "  '/home/abdullah/mri_fa/MRI_DATA_HB/head/06012257/5ae92e48e4b0d2298adad3a4.dcm',\n",
       "  '/home/abdullah/mri_fa/MRI_DATA_HB/head/06012257/5ae92e48e4b0d2298adad3a5.dcm',\n",
       "  '/home/abdullah/mri_fa/MRI_DATA_HB/head/06012257/5ae92e49e4b0d2298adad3a6.dcm',\n",
       "  '/home/abdullah/mri_fa/MRI_DATA_HB/head/06012257/5ae92e49e4b0d2298adad3a7.dcm',\n",
       "  '/home/abdullah/mri_fa/MRI_DATA_HB/head/06012257/5ae92e49e4b0d2298adad3a8.dcm',\n",
       "  '/home/abdullah/mri_fa/MRI_DATA_HB/head/06012257/5ae92e4ae4b0d2298adad3a9.dcm',\n",
       "  '/home/abdullah/mri_fa/MRI_DATA_HB/head/06012257/5ae92e4ae4b0d2298adad3aa.dcm',\n",
       "  '/home/abdullah/mri_fa/MRI_DATA_HB/head/06012257/5ae92e4be4b0d2298adad3ab.dcm',\n",
       "  '/home/abdullah/mri_fa/MRI_DATA_HB/head/06012257/5ae92e4be4b0d2298adad3ac.dcm',\n",
       "  '/home/abdullah/mri_fa/MRI_DATA_HB/head/06012257/5ae92e4ce4b0d2298adad3ad.dcm',\n",
       "  '/home/abdullah/mri_fa/MRI_DATA_HB/head/06012257/5ae92e4ce4b0d2298adad3ae.dcm',\n",
       "  '/home/abdullah/mri_fa/MRI_DATA_HB/head/06012257/5ae92e4de4b0d2298adad3af.dcm',\n",
       "  '/home/abdullah/mri_fa/MRI_DATA_HB/head/06012257/5ae92e4de4b0d2298adad3b0.dcm',\n",
       "  '/home/abdullah/mri_fa/MRI_DATA_HB/head/06012257/5ae92e4ee4b0d2298adad3b1.dcm',\n",
       "  '/home/abdullah/mri_fa/MRI_DATA_HB/head/06012257/5ae92e4ee4b0d2298adad3b2.dcm',\n",
       "  '/home/abdullah/mri_fa/MRI_DATA_HB/head/06012257/5ae92e4ee4b0d2298adad3b3.dcm',\n",
       "  '/home/abdullah/mri_fa/MRI_DATA_HB/head/06012257/5ae92e4fe4b0d2298adad3b4.dcm',\n",
       "  '/home/abdullah/mri_fa/MRI_DATA_HB/head/06012257/5ae92e4fe4b0d2298adad3b5.dcm',\n",
       "  '/home/abdullah/mri_fa/MRI_DATA_HB/head/06012257/5ae92e50e4b0d2298adad3b6.dcm',\n",
       "  '/home/abdullah/mri_fa/MRI_DATA_HB/head/06012257/5ae92e50e4b0d2298adad3b7.dcm',\n",
       "  '/home/abdullah/mri_fa/MRI_DATA_HB/head/06012257/5ae92e51e4b0d2298adad3b8.dcm',\n",
       "  '/home/abdullah/mri_fa/MRI_DATA_HB/head/06012257/5ae92e51e4b0d2298adad3b9.dcm',\n",
       "  '/home/abdullah/mri_fa/MRI_DATA_HB/head/06012257/5ae92e52e4b0d2298adad3ba.dcm',\n",
       "  '/home/abdullah/mri_fa/MRI_DATA_HB/head/06012257/5ae92e52e4b0d2298adad3bb.dcm',\n",
       "  '/home/abdullah/mri_fa/MRI_DATA_HB/head/06012257/5ae92e52e4b0d2298adad3bc.dcm',\n",
       "  '/home/abdullah/mri_fa/MRI_DATA_HB/head/06012257/5ae92e53e4b0d2298adad3bd.dcm',\n",
       "  '/home/abdullah/mri_fa/MRI_DATA_HB/head/06012257/5ae92e54e4b0d2298adad3be.dcm',\n",
       "  '/home/abdullah/mri_fa/MRI_DATA_HB/head/06012257/5ae92e55e4b0d2298adad3bf.dcm',\n",
       "  '/home/abdullah/mri_fa/MRI_DATA_HB/head/06012257/5ae92e55e4b0d2298adad3c0.dcm',\n",
       "  '/home/abdullah/mri_fa/MRI_DATA_HB/head/06012257/5ae92e56e4b0d2298adad3c1.dcm',\n",
       "  '/home/abdullah/mri_fa/MRI_DATA_HB/head/06012257/5ae92e56e4b0d2298adad3c2.dcm',\n",
       "  '/home/abdullah/mri_fa/MRI_DATA_HB/head/06012257/5ae92e56e4b0d2298adad3c3.dcm',\n",
       "  '/home/abdullah/mri_fa/MRI_DATA_HB/head/06012257/5ae92e57e4b0d2298adad3c4.dcm',\n",
       "  '/home/abdullah/mri_fa/MRI_DATA_HB/head/06012257/5ae92e58e4b0d2298adad3c5.dcm',\n",
       "  '/home/abdullah/mri_fa/MRI_DATA_HB/head/06012257/5ae92e58e4b0d2298adad3c6.dcm',\n",
       "  '/home/abdullah/mri_fa/MRI_DATA_HB/head/06012257/5ae92e58e4b0d2298adad3c7.dcm',\n",
       "  '/home/abdullah/mri_fa/MRI_DATA_HB/head/06012257/5ae92e59e4b0d2298adad3c8.dcm',\n",
       "  '/home/abdullah/mri_fa/MRI_DATA_HB/head/06012257/5ae92e59e4b0d2298adad3c9.dcm',\n",
       "  '/home/abdullah/mri_fa/MRI_DATA_HB/head/06012257/5ae92e5ae4b0d2298adad3ca.dcm',\n",
       "  '/home/abdullah/mri_fa/MRI_DATA_HB/head/06012257/5ae92e5ae4b0d2298adad3cb.dcm',\n",
       "  '/home/abdullah/mri_fa/MRI_DATA_HB/head/06012257/5ae92e5be4b0d2298adad3cc.dcm',\n",
       "  '/home/abdullah/mri_fa/MRI_DATA_HB/head/06012257/5ae92e5be4b0d2298adad3cd.dcm',\n",
       "  '/home/abdullah/mri_fa/MRI_DATA_HB/head/06012257/5ae92e5ce4b0d2298adad3ce.dcm',\n",
       "  '/home/abdullah/mri_fa/MRI_DATA_HB/head/06012257/5ae92e5ce4b0d2298adad3cf.dcm',\n",
       "  '/home/abdullah/mri_fa/MRI_DATA_HB/head/06012257/5ae92e5de4b0d2298adad3d0.dcm',\n",
       "  '/home/abdullah/mri_fa/MRI_DATA_HB/head/06012257/5ae92e5de4b0d2298adad3d1.dcm',\n",
       "  '/home/abdullah/mri_fa/MRI_DATA_HB/head/06012257/5ae92e5ee4b0d2298adad3d2.dcm',\n",
       "  '/home/abdullah/mri_fa/MRI_DATA_HB/head/06012257/5ae92e5ee4b0d2298adad3d3.dcm',\n",
       "  '/home/abdullah/mri_fa/MRI_DATA_HB/head/06012257/5ae92e5fe4b0d2298adad3d4.dcm',\n",
       "  '/home/abdullah/mri_fa/MRI_DATA_HB/head/06012257/5ae92e60e4b0d2298adad3d5.dcm',\n",
       "  '/home/abdullah/mri_fa/MRI_DATA_HB/head/06012257/5ae92e60e4b0d2298adad3d6.dcm',\n",
       "  '/home/abdullah/mri_fa/MRI_DATA_HB/head/06012257/5ae92e61e4b0d2298adad3d7.dcm',\n",
       "  '/home/abdullah/mri_fa/MRI_DATA_HB/head/06012257/5ae92e61e4b0d2298adad3d8.dcm',\n",
       "  '/home/abdullah/mri_fa/MRI_DATA_HB/head/06012257/5ae92e61e4b0d2298adad3d9.dcm',\n",
       "  '/home/abdullah/mri_fa/MRI_DATA_HB/head/06012257/5ae92e62e4b0d2298adad3da.dcm',\n",
       "  '/home/abdullah/mri_fa/MRI_DATA_HB/head/06012257/5ae92e62e4b0d2298adad3db.dcm',\n",
       "  '/home/abdullah/mri_fa/MRI_DATA_HB/head/06012257/5ae92e63e4b0d2298adad3dc.dcm',\n",
       "  '/home/abdullah/mri_fa/MRI_DATA_HB/head/06012257/5ae92e63e4b0d2298adad3dd.dcm',\n",
       "  '/home/abdullah/mri_fa/MRI_DATA_HB/head/06012257/5ae92e64e4b0d2298adad3de.dcm',\n",
       "  '/home/abdullah/mri_fa/MRI_DATA_HB/head/06012257/5ae92e65e4b0d2298adad3df.dcm',\n",
       "  '/home/abdullah/mri_fa/MRI_DATA_HB/head/06012257/5ae92e65e4b0d2298adad3e0.dcm',\n",
       "  '/home/abdullah/mri_fa/MRI_DATA_HB/head/06012257/5ae92e66e4b0d2298adad3e1.dcm',\n",
       "  '/home/abdullah/mri_fa/MRI_DATA_HB/head/06012257/5ae92e66e4b0d2298adad3e2.dcm',\n",
       "  '/home/abdullah/mri_fa/MRI_DATA_HB/head/06012257/5ae92e67e4b0d2298adad3e3.dcm',\n",
       "  '/home/abdullah/mri_fa/MRI_DATA_HB/head/06012257/5ae92e67e4b0d2298adad3e4.dcm',\n",
       "  '/home/abdullah/mri_fa/MRI_DATA_HB/head/06012257/5ae92e68e4b0d2298adad3e5.dcm',\n",
       "  '/home/abdullah/mri_fa/MRI_DATA_HB/head/06012257/5ae92e68e4b0d2298adad3e6.dcm',\n",
       "  '/home/abdullah/mri_fa/MRI_DATA_HB/head/06012257/5ae92e69e4b0d2298adad3e7.dcm',\n",
       "  '/home/abdullah/mri_fa/MRI_DATA_HB/head/06012257/5ae92e69e4b0d2298adad3e8.dcm',\n",
       "  '/home/abdullah/mri_fa/MRI_DATA_HB/head/06012257/5ae92e6ae4b0d2298adad3e9.dcm',\n",
       "  '/home/abdullah/mri_fa/MRI_DATA_HB/head/06012257/5ae92e6be4b0d2298adad3ea.dcm',\n",
       "  '/home/abdullah/mri_fa/MRI_DATA_HB/head/06012257/5ae92e6be4b0d2298adad3eb.dcm',\n",
       "  '/home/abdullah/mri_fa/MRI_DATA_HB/head/06012257/5ae92e6ce4b0d2298adad3ec.dcm',\n",
       "  '/home/abdullah/mri_fa/MRI_DATA_HB/head/06012257/5ae92e6ce4b0d2298adad3ed.dcm',\n",
       "  '/home/abdullah/mri_fa/MRI_DATA_HB/head/06012257/5ae92e6ce4b0d2298adad3ee.dcm',\n",
       "  '/home/abdullah/mri_fa/MRI_DATA_HB/head/06012257/5ae92e6de4b0d2298adad3ef.dcm',\n",
       "  '/home/abdullah/mri_fa/MRI_DATA_HB/head/06012257/5ae92e6de4b0d2298adad3f0.dcm',\n",
       "  '/home/abdullah/mri_fa/MRI_DATA_HB/head/06012257/5ae92e6ee4b0d2298adad3f1.dcm',\n",
       "  '/home/abdullah/mri_fa/MRI_DATA_HB/head/06012257/5ae92e6ee4b0d2298adad3f2.dcm',\n",
       "  '/home/abdullah/mri_fa/MRI_DATA_HB/head/06012257/5ae92e6fe4b0d2298adad3f3.dcm',\n",
       "  '/home/abdullah/mri_fa/MRI_DATA_HB/head/06012257/5ae92e70e4b0d2298adad3f5.dcm',\n",
       "  '/home/abdullah/mri_fa/MRI_DATA_HB/head/06012257/5ae92e70e4b0d2298adad3f6.dcm',\n",
       "  '/home/abdullah/mri_fa/MRI_DATA_HB/head/06012257/5ae92e71e4b0d2298adad3f7.dcm',\n",
       "  '/home/abdullah/mri_fa/MRI_DATA_HB/head/06012257/5ae92e71e4b0d2298adad3f8.dcm',\n",
       "  '/home/abdullah/mri_fa/MRI_DATA_HB/head/06012257/5ae92e73e4b0d2298adad3f9.dcm',\n",
       "  '/home/abdullah/mri_fa/MRI_DATA_HB/head/06012257/5ae92e73e4b0d2298adad3fa.dcm',\n",
       "  '/home/abdullah/mri_fa/MRI_DATA_HB/head/06012257/5ae92e73e4b0d2298adad3fb.dcm',\n",
       "  '/home/abdullah/mri_fa/MRI_DATA_HB/head/06012257/5ae92e74e4b0d2298adad3fc.dcm',\n",
       "  '/home/abdullah/mri_fa/MRI_DATA_HB/head/06012257/5ae92e74e4b0d2298adad3fd.dcm',\n",
       "  '/home/abdullah/mri_fa/MRI_DATA_HB/head/06012257/5ae92e75e4b0d2298adad3fe.dcm',\n",
       "  '/home/abdullah/mri_fa/MRI_DATA_HB/head/06012257/5ae92e76e4b0d2298adad3ff.dcm',\n",
       "  '/home/abdullah/mri_fa/MRI_DATA_HB/head/06012257/5ae92e76e4b0d2298adad400.dcm',\n",
       "  '/home/abdullah/mri_fa/MRI_DATA_HB/head/06012257/5ae92e77e4b0d2298adad401.dcm',\n",
       "  '/home/abdullah/mri_fa/MRI_DATA_HB/head/06012257/5ae92e77e4b0d2298adad402.dcm',\n",
       "  '/home/abdullah/mri_fa/MRI_DATA_HB/head/06012257/5ae92e78e4b0d2298adad403.dcm',\n",
       "  '/home/abdullah/mri_fa/MRI_DATA_HB/head/06012257/5ae92e78e4b0d2298adad404.dcm',\n",
       "  '/home/abdullah/mri_fa/MRI_DATA_HB/head/06012257/5ae92e79e4b0d2298adad405.dcm',\n",
       "  '/home/abdullah/mri_fa/MRI_DATA_HB/head/06012257/5ae92e79e4b0d2298adad406.dcm',\n",
       "  '/home/abdullah/mri_fa/MRI_DATA_HB/head/06012257/5ae92e79e4b0d2298adad407.dcm',\n",
       "  '/home/abdullah/mri_fa/MRI_DATA_HB/head/06012257/5ae92e7ae4b0d2298adad408.dcm',\n",
       "  '/home/abdullah/mri_fa/MRI_DATA_HB/head/06012257/5ae92e7ae4b0d2298adad409.dcm',\n",
       "  '/home/abdullah/mri_fa/MRI_DATA_HB/head/06012257/5ae92e7be4b0d2298adad40a.dcm',\n",
       "  '/home/abdullah/mri_fa/MRI_DATA_HB/head/06012257/5ae92e7be4b0d2298adad40b.dcm',\n",
       "  '/home/abdullah/mri_fa/MRI_DATA_HB/head/06012257/5ae92e7ce4b0d2298adad40c.dcm',\n",
       "  '/home/abdullah/mri_fa/MRI_DATA_HB/head/06012257/5ae92e7ce4b0d2298adad40d.dcm',\n",
       "  '/home/abdullah/mri_fa/MRI_DATA_HB/head/06012257/5ae92e7de4b0d2298adad40e.dcm',\n",
       "  '/home/abdullah/mri_fa/MRI_DATA_HB/head/06012257/5ae92e7de4b0d2298adad40f.dcm',\n",
       "  '/home/abdullah/mri_fa/MRI_DATA_HB/head/06012257/5ae92e7ee4b0d2298adad410.dcm',\n",
       "  '/home/abdullah/mri_fa/MRI_DATA_HB/head/06012257/5ae92e7ee4b0d2298adad411.dcm',\n",
       "  '/home/abdullah/mri_fa/MRI_DATA_HB/head/06012257/5ae92e7fe4b0d2298adad412.dcm',\n",
       "  '/home/abdullah/mri_fa/MRI_DATA_HB/head/06012257/5ae92e7fe4b0d2298adad413.dcm',\n",
       "  '/home/abdullah/mri_fa/MRI_DATA_HB/head/06012257/5ae92e80e4b0d2298adad414.dcm',\n",
       "  '/home/abdullah/mri_fa/MRI_DATA_HB/head/06012257/5ae92e80e4b03ed00fb335db.dcm',\n",
       "  '/home/abdullah/mri_fa/MRI_DATA_HB/head/06012257/5ae92e81e4b0d2298adad415.dcm',\n",
       "  '/home/abdullah/mri_fa/MRI_DATA_HB/head/06012257/5ae92e81e4b0d2298adad416.dcm',\n",
       "  '/home/abdullah/mri_fa/MRI_DATA_HB/head/06012257/5ae92e82e4b0d2298adad417.dcm',\n",
       "  '/home/abdullah/mri_fa/MRI_DATA_HB/head/06012257/5ae92e82e4b0d2298adad418.dcm',\n",
       "  '/home/abdullah/mri_fa/MRI_DATA_HB/head/06012257/5ae92e83e4b0d2298adad419.dcm',\n",
       "  '/home/abdullah/mri_fa/MRI_DATA_HB/head/06012257/5ae92e83e4b0d2298adad41a.dcm',\n",
       "  '/home/abdullah/mri_fa/MRI_DATA_HB/head/06012257/5ae92e84e4b0d2298adad41b.dcm'],\n",
       " ['/home/abdullah/mri_fa/MRI_DATA_HB/head/06012257/5ae92d47e4b0d2298adad2e1.dcm',\n",
       "  '/home/abdullah/mri_fa/MRI_DATA_HB/head/06012257/5ae92d50e4b03ed00fb33500.dcm',\n",
       "  '/home/abdullah/mri_fa/MRI_DATA_HB/head/06012257/5ae92d59e4b0d2298adad2ef.dcm',\n",
       "  '/home/abdullah/mri_fa/MRI_DATA_HB/head/06012257/5ae92d61e4b03ed00fb33514.dcm',\n",
       "  '/home/abdullah/mri_fa/MRI_DATA_HB/head/06012257/5ae92d6ae4b0d2298adad2f3.dcm',\n",
       "  '/home/abdullah/mri_fa/MRI_DATA_HB/head/06012257/5ae92d72e4b03ed00fb33524.dcm',\n",
       "  '/home/abdullah/mri_fa/MRI_DATA_HB/head/06012257/5ae92d7be4b03ed00fb3352c.dcm',\n",
       "  '/home/abdullah/mri_fa/MRI_DATA_HB/head/06012257/5ae92d85e4b03ed00fb33536.dcm',\n",
       "  '/home/abdullah/mri_fa/MRI_DATA_HB/head/06012257/5ae92d8ee4b03ed00fb33542.dcm',\n",
       "  '/home/abdullah/mri_fa/MRI_DATA_HB/head/06012257/5ae92d99e4b03ed00fb3354d.dcm',\n",
       "  '/home/abdullah/mri_fa/MRI_DATA_HB/head/06012257/5ae92da3e4b03ed00fb3355a.dcm',\n",
       "  '/home/abdullah/mri_fa/MRI_DATA_HB/head/06012257/5ae92dace4b03ed00fb33567.dcm',\n",
       "  '/home/abdullah/mri_fa/MRI_DATA_HB/head/06012257/5ae92db4e4b03ed00fb33574.dcm',\n",
       "  '/home/abdullah/mri_fa/MRI_DATA_HB/head/06012257/5ae92dbee4b03ed00fb33581.dcm',\n",
       "  '/home/abdullah/mri_fa/MRI_DATA_HB/head/06012257/5ae92dc7e4b03ed00fb3358d.dcm',\n",
       "  '/home/abdullah/mri_fa/MRI_DATA_HB/head/06012257/5ae92dd0e4b03ed00fb3359a.dcm',\n",
       "  '/home/abdullah/mri_fa/MRI_DATA_HB/head/06012257/5ae92ddae4b0d2298adad30a.dcm',\n",
       "  '/home/abdullah/mri_fa/MRI_DATA_HB/head/06012257/5ae92de3e4b0d2298adad317.dcm',\n",
       "  '/home/abdullah/mri_fa/MRI_DATA_HB/head/06012257/5ae92dece4b0d2298adad323.dcm',\n",
       "  '/home/abdullah/mri_fa/MRI_DATA_HB/head/06012257/5ae92df5e4b03ed00fb335a7.dcm',\n",
       "  '/home/abdullah/mri_fa/MRI_DATA_HB/head/06012257/5ae92dfbe4b03ed00fb335ad.dcm',\n",
       "  '/home/abdullah/mri_fa/MRI_DATA_HB/head/06012257/5ae92e02e4b0d2298adad338.dcm',\n",
       "  '/home/abdullah/mri_fa/MRI_DATA_HB/head/06012257/5ae92e08e4b03ed00fb335b9.dcm',\n",
       "  '/home/abdullah/mri_fa/MRI_DATA_HB/head/06012257/5ae92e0de4b03ed00fb335bf.dcm',\n",
       "  '/home/abdullah/mri_fa/MRI_DATA_HB/head/06012257/5ae92e11e4b0d2298adad342.dcm',\n",
       "  '/home/abdullah/mri_fa/MRI_DATA_HB/head/06012257/5ae92e15e4b0d2298adad349.dcm',\n",
       "  '/home/abdullah/mri_fa/MRI_DATA_HB/head/06012257/5ae92e16e4b0d2298adad34c.dcm',\n",
       "  '/home/abdullah/mri_fa/MRI_DATA_HB/head/06012257/5ae92e18e4b0d2298adad34f.dcm',\n",
       "  '/home/abdullah/mri_fa/MRI_DATA_HB/head/06012257/5ae92e19e4b03ed00fb335c5.dcm',\n",
       "  '/home/abdullah/mri_fa/MRI_DATA_HB/head/06012257/5ae92e1be4b03ed00fb335c8.dcm',\n",
       "  '/home/abdullah/mri_fa/MRI_DATA_HB/head/06012257/5ae92e1de4b0d2298adad351.dcm',\n",
       "  '/home/abdullah/mri_fa/MRI_DATA_HB/head/06012257/5ae92e1fe4b0d2298adad354.dcm',\n",
       "  '/home/abdullah/mri_fa/MRI_DATA_HB/head/06012257/5ae92e20e4b0d2298adad357.dcm',\n",
       "  '/home/abdullah/mri_fa/MRI_DATA_HB/head/06012257/5ae92e22e4b0d2298adad35a.dcm',\n",
       "  '/home/abdullah/mri_fa/MRI_DATA_HB/head/06012257/5ae92e23e4b03ed00fb335cb.dcm',\n",
       "  '/home/abdullah/mri_fa/MRI_DATA_HB/head/06012257/5ae92e25e4b03ed00fb335ce.dcm',\n",
       "  '/home/abdullah/mri_fa/MRI_DATA_HB/head/06012257/5ae92e26e4b03ed00fb335cf.dcm',\n",
       "  '/home/abdullah/mri_fa/MRI_DATA_HB/head/06012257/5ae92e26e4b03ed00fb335d1.dcm',\n",
       "  '/home/abdullah/mri_fa/MRI_DATA_HB/head/06012257/5ae92e27e4b03ed00fb335d3.dcm',\n",
       "  '/home/abdullah/mri_fa/MRI_DATA_HB/head/06012257/5ae92e28e4b03ed00fb335d5.dcm',\n",
       "  '/home/abdullah/mri_fa/MRI_DATA_HB/head/06012257/5ae92e29e4b03ed00fb335d7.dcm',\n",
       "  '/home/abdullah/mri_fa/MRI_DATA_HB/head/06012257/5ae92e2ae4b0d2298adad360.dcm',\n",
       "  '/home/abdullah/mri_fa/MRI_DATA_HB/head/06012257/5ae92e2be4b0d2298adad363.dcm',\n",
       "  '/home/abdullah/mri_fa/MRI_DATA_HB/head/06012257/5ae92e2ce4b0d2298adad365.dcm',\n",
       "  '/home/abdullah/mri_fa/MRI_DATA_HB/head/06012257/5ae92e2ce4b0d2298adad367.dcm',\n",
       "  '/home/abdullah/mri_fa/MRI_DATA_HB/head/06012257/5ae92e2de4b0d2298adad369.dcm'],\n",
       " ['/home/abdullah/mri_fa/MRI_DATA_HB/head/06012257/5ae92d48e4b0d2298adad2e2.dcm',\n",
       "  '/home/abdullah/mri_fa/MRI_DATA_HB/head/06012257/5ae92d50e4b0d2298adad2ea.dcm',\n",
       "  '/home/abdullah/mri_fa/MRI_DATA_HB/head/06012257/5ae92d59e4b03ed00fb33508.dcm',\n",
       "  '/home/abdullah/mri_fa/MRI_DATA_HB/head/06012257/5ae92d62e4b0d2298adad2f0.dcm',\n",
       "  '/home/abdullah/mri_fa/MRI_DATA_HB/head/06012257/5ae92d6ae4b0d2298adad2f4.dcm',\n",
       "  '/home/abdullah/mri_fa/MRI_DATA_HB/head/06012257/5ae92d73e4b03ed00fb33525.dcm',\n",
       "  '/home/abdullah/mri_fa/MRI_DATA_HB/head/06012257/5ae92d7ce4b03ed00fb3352d.dcm',\n",
       "  '/home/abdullah/mri_fa/MRI_DATA_HB/head/06012257/5ae92d86e4b03ed00fb33537.dcm',\n",
       "  '/home/abdullah/mri_fa/MRI_DATA_HB/head/06012257/5ae92d8fe4b03ed00fb33543.dcm',\n",
       "  '/home/abdullah/mri_fa/MRI_DATA_HB/head/06012257/5ae92d9ae4b03ed00fb3354e.dcm',\n",
       "  '/home/abdullah/mri_fa/MRI_DATA_HB/head/06012257/5ae92da3e4b03ed00fb3355b.dcm',\n",
       "  '/home/abdullah/mri_fa/MRI_DATA_HB/head/06012257/5ae92dace4b03ed00fb33568.dcm',\n",
       "  '/home/abdullah/mri_fa/MRI_DATA_HB/head/06012257/5ae92db5e4b03ed00fb33575.dcm',\n",
       "  '/home/abdullah/mri_fa/MRI_DATA_HB/head/06012257/5ae92dbee4b03ed00fb33582.dcm',\n",
       "  '/home/abdullah/mri_fa/MRI_DATA_HB/head/06012257/5ae92dc7e4b03ed00fb3358e.dcm',\n",
       "  '/home/abdullah/mri_fa/MRI_DATA_HB/head/06012257/5ae92dd1e4b03ed00fb3359b.dcm',\n",
       "  '/home/abdullah/mri_fa/MRI_DATA_HB/head/06012257/5ae92ddbe4b0d2298adad30b.dcm',\n",
       "  '/home/abdullah/mri_fa/MRI_DATA_HB/head/06012257/5ae92de4e4b0d2298adad318.dcm',\n",
       "  '/home/abdullah/mri_fa/MRI_DATA_HB/head/06012257/5ae92dede4b0d2298adad324.dcm',\n",
       "  '/home/abdullah/mri_fa/MRI_DATA_HB/head/06012257/5ae92df5e4b03ed00fb335a8.dcm',\n",
       "  '/home/abdullah/mri_fa/MRI_DATA_HB/head/06012257/5ae92dfbe4b03ed00fb335af.dcm',\n",
       "  '/home/abdullah/mri_fa/MRI_DATA_HB/head/06012257/5ae92e02e4b0d2298adad339.dcm',\n",
       "  '/home/abdullah/mri_fa/MRI_DATA_HB/head/06012257/5ae92e08e4b03ed00fb335ba.dcm'],\n",
       " ['/home/abdullah/mri_fa/MRI_DATA_HB/head/06012257/5ae92d49e4b0d2298adad2e3.dcm',\n",
       "  '/home/abdullah/mri_fa/MRI_DATA_HB/head/06012257/5ae92d51e4b03ed00fb33501.dcm',\n",
       "  '/home/abdullah/mri_fa/MRI_DATA_HB/head/06012257/5ae92d5ae4b03ed00fb33509.dcm',\n",
       "  '/home/abdullah/mri_fa/MRI_DATA_HB/head/06012257/5ae92d62e4b0d2298adad2f1.dcm',\n",
       "  '/home/abdullah/mri_fa/MRI_DATA_HB/head/06012257/5ae92d6be4b0d2298adad2f5.dcm',\n",
       "  '/home/abdullah/mri_fa/MRI_DATA_HB/head/06012257/5ae92d74e4b03ed00fb33526.dcm',\n",
       "  '/home/abdullah/mri_fa/MRI_DATA_HB/head/06012257/5ae92d7de4b03ed00fb3352e.dcm',\n",
       "  '/home/abdullah/mri_fa/MRI_DATA_HB/head/06012257/5ae92d87e4b03ed00fb33538.dcm',\n",
       "  '/home/abdullah/mri_fa/MRI_DATA_HB/head/06012257/5ae92d90e4b03ed00fb33544.dcm',\n",
       "  '/home/abdullah/mri_fa/MRI_DATA_HB/head/06012257/5ae92d9be4b03ed00fb3354f.dcm',\n",
       "  '/home/abdullah/mri_fa/MRI_DATA_HB/head/06012257/5ae92da4e4b03ed00fb3355c.dcm',\n",
       "  '/home/abdullah/mri_fa/MRI_DATA_HB/head/06012257/5ae92dade4b03ed00fb33569.dcm',\n",
       "  '/home/abdullah/mri_fa/MRI_DATA_HB/head/06012257/5ae92db6e4b03ed00fb33576.dcm',\n",
       "  '/home/abdullah/mri_fa/MRI_DATA_HB/head/06012257/5ae92dbfe4b03ed00fb33583.dcm',\n",
       "  '/home/abdullah/mri_fa/MRI_DATA_HB/head/06012257/5ae92dc8e4b03ed00fb3358f.dcm',\n",
       "  '/home/abdullah/mri_fa/MRI_DATA_HB/head/06012257/5ae92dd2e4b0d2298adad306.dcm',\n",
       "  '/home/abdullah/mri_fa/MRI_DATA_HB/head/06012257/5ae92ddce4b0d2298adad30c.dcm',\n",
       "  '/home/abdullah/mri_fa/MRI_DATA_HB/head/06012257/5ae92de5e4b0d2298adad319.dcm',\n",
       "  '/home/abdullah/mri_fa/MRI_DATA_HB/head/06012257/5ae92deee4b0d2298adad325.dcm',\n",
       "  '/home/abdullah/mri_fa/MRI_DATA_HB/head/06012257/5ae92df6e4b03ed00fb335a9.dcm',\n",
       "  '/home/abdullah/mri_fa/MRI_DATA_HB/head/06012257/5ae92dfce4b03ed00fb335b0.dcm',\n",
       "  '/home/abdullah/mri_fa/MRI_DATA_HB/head/06012257/5ae92e03e4b03ed00fb335b5.dcm',\n",
       "  '/home/abdullah/mri_fa/MRI_DATA_HB/head/06012257/5ae92e09e4b0d2298adad33e.dcm',\n",
       "  '/home/abdullah/mri_fa/MRI_DATA_HB/head/06012257/5ae92e0ee4b03ed00fb335c0.dcm',\n",
       "  '/home/abdullah/mri_fa/MRI_DATA_HB/head/06012257/5ae92e12e4b0d2298adad343.dcm'],\n",
       " ['/home/abdullah/mri_fa/MRI_DATA_HB/head/06012257/5ae92d4ae4b0d2298adad2e4.dcm',\n",
       "  '/home/abdullah/mri_fa/MRI_DATA_HB/head/06012257/5ae92d52e4b03ed00fb33502.dcm',\n",
       "  '/home/abdullah/mri_fa/MRI_DATA_HB/head/06012257/5ae92d5be4b03ed00fb3350a.dcm',\n",
       "  '/home/abdullah/mri_fa/MRI_DATA_HB/head/06012257/5ae92d63e4b03ed00fb33515.dcm',\n",
       "  '/home/abdullah/mri_fa/MRI_DATA_HB/head/06012257/5ae92d6ce4b0d2298adad2f6.dcm',\n",
       "  '/home/abdullah/mri_fa/MRI_DATA_HB/head/06012257/5ae92d75e4b03ed00fb33527.dcm',\n",
       "  '/home/abdullah/mri_fa/MRI_DATA_HB/head/06012257/5ae92d7ee4b03ed00fb3352f.dcm',\n",
       "  '/home/abdullah/mri_fa/MRI_DATA_HB/head/06012257/5ae92d88e4b03ed00fb33539.dcm',\n",
       "  '/home/abdullah/mri_fa/MRI_DATA_HB/head/06012257/5ae92d91e4b03ed00fb33545.dcm',\n",
       "  '/home/abdullah/mri_fa/MRI_DATA_HB/head/06012257/5ae92d9ce4b03ed00fb33550.dcm',\n",
       "  '/home/abdullah/mri_fa/MRI_DATA_HB/head/06012257/5ae92da5e4b03ed00fb3355d.dcm',\n",
       "  '/home/abdullah/mri_fa/MRI_DATA_HB/head/06012257/5ae92daee4b03ed00fb3356a.dcm',\n",
       "  '/home/abdullah/mri_fa/MRI_DATA_HB/head/06012257/5ae92db7e4b03ed00fb33577.dcm',\n",
       "  '/home/abdullah/mri_fa/MRI_DATA_HB/head/06012257/5ae92dc0e4b03ed00fb33584.dcm',\n",
       "  '/home/abdullah/mri_fa/MRI_DATA_HB/head/06012257/5ae92dc9e4b03ed00fb33590.dcm',\n",
       "  '/home/abdullah/mri_fa/MRI_DATA_HB/head/06012257/5ae92dd3e4b03ed00fb3359c.dcm',\n",
       "  '/home/abdullah/mri_fa/MRI_DATA_HB/head/06012257/5ae92ddde4b0d2298adad30d.dcm',\n",
       "  '/home/abdullah/mri_fa/MRI_DATA_HB/head/06012257/5ae92de6e4b03ed00fb335a3.dcm',\n",
       "  '/home/abdullah/mri_fa/MRI_DATA_HB/head/06012257/5ae92defe4b0d2298adad326.dcm',\n",
       "  '/home/abdullah/mri_fa/MRI_DATA_HB/head/06012257/5ae92df7e4b0d2298adad32f.dcm',\n",
       "  '/home/abdullah/mri_fa/MRI_DATA_HB/head/06012257/5ae92dfde4b03ed00fb335b1.dcm',\n",
       "  '/home/abdullah/mri_fa/MRI_DATA_HB/head/06012257/5ae92e04e4b0d2298adad33a.dcm',\n",
       "  '/home/abdullah/mri_fa/MRI_DATA_HB/head/06012257/5ae92e0ae4b0d2298adad33f.dcm',\n",
       "  '/home/abdullah/mri_fa/MRI_DATA_HB/head/06012257/5ae92e0ee4b03ed00fb335c1.dcm',\n",
       "  '/home/abdullah/mri_fa/MRI_DATA_HB/head/06012257/5ae92e13e4b0d2298adad344.dcm'],\n",
       " ['/home/abdullah/mri_fa/MRI_DATA_HB/head/06012257/5ae92d4be4b03ed00fb334fc.dcm',\n",
       "  '/home/abdullah/mri_fa/MRI_DATA_HB/head/06012257/5ae92d53e4b03ed00fb33503.dcm',\n",
       "  '/home/abdullah/mri_fa/MRI_DATA_HB/head/06012257/5ae92d5be4b03ed00fb3350b.dcm',\n",
       "  '/home/abdullah/mri_fa/MRI_DATA_HB/head/06012257/5ae92d64e4b0d2298adad2f2.dcm',\n",
       "  '/home/abdullah/mri_fa/MRI_DATA_HB/head/06012257/5ae92d6ce4b03ed00fb3351e.dcm',\n",
       "  '/home/abdullah/mri_fa/MRI_DATA_HB/head/06012257/5ae92d75e4b03ed00fb33528.dcm',\n",
       "  '/home/abdullah/mri_fa/MRI_DATA_HB/head/06012257/5ae92d7fe4b03ed00fb33530.dcm',\n",
       "  '/home/abdullah/mri_fa/MRI_DATA_HB/head/06012257/5ae92d88e4b03ed00fb3353a.dcm',\n",
       "  '/home/abdullah/mri_fa/MRI_DATA_HB/head/06012257/5ae92d92e4b03ed00fb33546.dcm',\n",
       "  '/home/abdullah/mri_fa/MRI_DATA_HB/head/06012257/5ae92d9ce4b03ed00fb33551.dcm',\n",
       "  '/home/abdullah/mri_fa/MRI_DATA_HB/head/06012257/5ae92da6e4b03ed00fb3355e.dcm',\n",
       "  '/home/abdullah/mri_fa/MRI_DATA_HB/head/06012257/5ae92dafe4b03ed00fb3356b.dcm',\n",
       "  '/home/abdullah/mri_fa/MRI_DATA_HB/head/06012257/5ae92db7e4b03ed00fb33578.dcm',\n",
       "  '/home/abdullah/mri_fa/MRI_DATA_HB/head/06012257/5ae92dc1e4b03ed00fb33585.dcm',\n",
       "  '/home/abdullah/mri_fa/MRI_DATA_HB/head/06012257/5ae92dcae4b03ed00fb33591.dcm',\n",
       "  '/home/abdullah/mri_fa/MRI_DATA_HB/head/06012257/5ae92dd4e4b03ed00fb3359d.dcm',\n",
       "  '/home/abdullah/mri_fa/MRI_DATA_HB/head/06012257/5ae92ddde4b0d2298adad30e.dcm',\n",
       "  '/home/abdullah/mri_fa/MRI_DATA_HB/head/06012257/5ae92de6e4b0d2298adad31a.dcm',\n",
       "  '/home/abdullah/mri_fa/MRI_DATA_HB/head/06012257/5ae92defe4b0d2298adad327.dcm',\n",
       "  '/home/abdullah/mri_fa/MRI_DATA_HB/head/06012257/5ae92df7e4b0d2298adad330.dcm',\n",
       "  '/home/abdullah/mri_fa/MRI_DATA_HB/head/06012257/5ae92dfee4b0d2298adad335.dcm',\n",
       "  '/home/abdullah/mri_fa/MRI_DATA_HB/head/06012257/5ae92e04e4b0d2298adad33b.dcm',\n",
       "  '/home/abdullah/mri_fa/MRI_DATA_HB/head/06012257/5ae92e0ae4b03ed00fb335bb.dcm',\n",
       "  '/home/abdullah/mri_fa/MRI_DATA_HB/head/06012257/5ae92e0fe4b03ed00fb335c2.dcm',\n",
       "  '/home/abdullah/mri_fa/MRI_DATA_HB/head/06012257/5ae92e13e4b0d2298adad345.dcm'],\n",
       " ['/home/abdullah/mri_fa/MRI_DATA_HB/head/06012257/5ae92d4be4b03ed00fb334fd.dcm',\n",
       "  '/home/abdullah/mri_fa/MRI_DATA_HB/head/06012257/5ae92d54e4b03ed00fb33504.dcm',\n",
       "  '/home/abdullah/mri_fa/MRI_DATA_HB/head/06012257/5ae92d5ce4b03ed00fb3350c.dcm',\n",
       "  '/home/abdullah/mri_fa/MRI_DATA_HB/head/06012257/5ae92d65e4b03ed00fb33516.dcm',\n",
       "  '/home/abdullah/mri_fa/MRI_DATA_HB/head/06012257/5ae92d6de4b0d2298adad2f7.dcm',\n",
       "  '/home/abdullah/mri_fa/MRI_DATA_HB/head/06012257/5ae92d76e4b0d2298adad2fa.dcm',\n",
       "  '/home/abdullah/mri_fa/MRI_DATA_HB/head/06012257/5ae92d80e4b03ed00fb33531.dcm',\n",
       "  '/home/abdullah/mri_fa/MRI_DATA_HB/head/06012257/5ae92d89e4b0d2298adad302.dcm',\n",
       "  '/home/abdullah/mri_fa/MRI_DATA_HB/head/06012257/5ae92d92e4b03ed00fb33547.dcm',\n",
       "  '/home/abdullah/mri_fa/MRI_DATA_HB/head/06012257/5ae92d9de4b03ed00fb33552.dcm',\n",
       "  '/home/abdullah/mri_fa/MRI_DATA_HB/head/06012257/5ae92da6e4b03ed00fb3355f.dcm',\n",
       "  '/home/abdullah/mri_fa/MRI_DATA_HB/head/06012257/5ae92dafe4b03ed00fb3356c.dcm',\n",
       "  '/home/abdullah/mri_fa/MRI_DATA_HB/head/06012257/5ae92db8e4b03ed00fb33579.dcm',\n",
       "  '/home/abdullah/mri_fa/MRI_DATA_HB/head/06012257/5ae92dc2e4b03ed00fb33586.dcm',\n",
       "  '/home/abdullah/mri_fa/MRI_DATA_HB/head/06012257/5ae92dcbe4b03ed00fb33592.dcm',\n",
       "  '/home/abdullah/mri_fa/MRI_DATA_HB/head/06012257/5ae92dd4e4b03ed00fb3359e.dcm',\n",
       "  '/home/abdullah/mri_fa/MRI_DATA_HB/head/06012257/5ae92ddee4b0d2298adad30f.dcm',\n",
       "  '/home/abdullah/mri_fa/MRI_DATA_HB/head/06012257/5ae92de7e4b0d2298adad31b.dcm',\n",
       "  '/home/abdullah/mri_fa/MRI_DATA_HB/head/06012257/5ae92df0e4b0d2298adad328.dcm',\n",
       "  '/home/abdullah/mri_fa/MRI_DATA_HB/head/06012257/5ae92df8e4b03ed00fb335aa.dcm',\n",
       "  '/home/abdullah/mri_fa/MRI_DATA_HB/head/06012257/5ae92dfee4b0d2298adad336.dcm',\n",
       "  '/home/abdullah/mri_fa/MRI_DATA_HB/head/06012257/5ae92e05e4b03ed00fb335b6.dcm',\n",
       "  '/home/abdullah/mri_fa/MRI_DATA_HB/head/06012257/5ae92e0be4b03ed00fb335bc.dcm',\n",
       "  '/home/abdullah/mri_fa/MRI_DATA_HB/head/06012257/5ae92e0fe4b03ed00fb335c3.dcm',\n",
       "  '/home/abdullah/mri_fa/MRI_DATA_HB/head/06012257/5ae92e14e4b0d2298adad346.dcm',\n",
       "  '/home/abdullah/mri_fa/MRI_DATA_HB/head/06012257/5ae92e15e4b0d2298adad34a.dcm',\n",
       "  '/home/abdullah/mri_fa/MRI_DATA_HB/head/06012257/5ae92e17e4b0d2298adad34d.dcm',\n",
       "  '/home/abdullah/mri_fa/MRI_DATA_HB/head/06012257/5ae92e18e4b0d2298adad350.dcm',\n",
       "  '/home/abdullah/mri_fa/MRI_DATA_HB/head/06012257/5ae92e1ae4b03ed00fb335c6.dcm',\n",
       "  '/home/abdullah/mri_fa/MRI_DATA_HB/head/06012257/5ae92e1ce4b03ed00fb335c9.dcm',\n",
       "  '/home/abdullah/mri_fa/MRI_DATA_HB/head/06012257/5ae92e1ee4b0d2298adad352.dcm',\n",
       "  '/home/abdullah/mri_fa/MRI_DATA_HB/head/06012257/5ae92e1fe4b0d2298adad355.dcm',\n",
       "  '/home/abdullah/mri_fa/MRI_DATA_HB/head/06012257/5ae92e21e4b0d2298adad358.dcm',\n",
       "  '/home/abdullah/mri_fa/MRI_DATA_HB/head/06012257/5ae92e22e4b0d2298adad35b.dcm',\n",
       "  '/home/abdullah/mri_fa/MRI_DATA_HB/head/06012257/5ae92e24e4b03ed00fb335cc.dcm'],\n",
       " ['/home/abdullah/mri_fa/MRI_DATA_HB/head/06012257/5ae92d4ce4b0d2298adad2e5.dcm',\n",
       "  '/home/abdullah/mri_fa/MRI_DATA_HB/head/06012257/5ae92d54e4b03ed00fb33505.dcm',\n",
       "  '/home/abdullah/mri_fa/MRI_DATA_HB/head/06012257/5ae92d5de4b03ed00fb3350d.dcm',\n",
       "  '/home/abdullah/mri_fa/MRI_DATA_HB/head/06012257/5ae92d65e4b03ed00fb33517.dcm',\n",
       "  '/home/abdullah/mri_fa/MRI_DATA_HB/head/06012257/5ae92d6de4b0d2298adad2f8.dcm',\n",
       "  '/home/abdullah/mri_fa/MRI_DATA_HB/head/06012257/5ae92d77e4b03ed00fb33529.dcm',\n",
       "  '/home/abdullah/mri_fa/MRI_DATA_HB/head/06012257/5ae92d80e4b03ed00fb33532.dcm',\n",
       "  '/home/abdullah/mri_fa/MRI_DATA_HB/head/06012257/5ae92d8ae4b03ed00fb3353b.dcm',\n",
       "  '/home/abdullah/mri_fa/MRI_DATA_HB/head/06012257/5ae92d93e4b03ed00fb33548.dcm',\n",
       "  '/home/abdullah/mri_fa/MRI_DATA_HB/head/06012257/5ae92d9ee4b03ed00fb33553.dcm',\n",
       "  '/home/abdullah/mri_fa/MRI_DATA_HB/head/06012257/5ae92da7e4b03ed00fb33560.dcm',\n",
       "  '/home/abdullah/mri_fa/MRI_DATA_HB/head/06012257/5ae92db0e4b03ed00fb3356d.dcm',\n",
       "  '/home/abdullah/mri_fa/MRI_DATA_HB/head/06012257/5ae92db9e4b03ed00fb3357a.dcm',\n",
       "  '/home/abdullah/mri_fa/MRI_DATA_HB/head/06012257/5ae92dc2e4b03ed00fb33587.dcm',\n",
       "  '/home/abdullah/mri_fa/MRI_DATA_HB/head/06012257/5ae92dcbe4b03ed00fb33593.dcm',\n",
       "  '/home/abdullah/mri_fa/MRI_DATA_HB/head/06012257/5ae92dd5e4b03ed00fb3359f.dcm',\n",
       "  '/home/abdullah/mri_fa/MRI_DATA_HB/head/06012257/5ae92ddfe4b0d2298adad310.dcm',\n",
       "  '/home/abdullah/mri_fa/MRI_DATA_HB/head/06012257/5ae92de8e4b0d2298adad31c.dcm',\n",
       "  '/home/abdullah/mri_fa/MRI_DATA_HB/head/06012257/5ae92df1e4b0d2298adad329.dcm',\n",
       "  '/home/abdullah/mri_fa/MRI_DATA_HB/head/06012257/5ae92df9e4b03ed00fb335ab.dcm',\n",
       "  '/home/abdullah/mri_fa/MRI_DATA_HB/head/06012257/5ae92dffe4b0d2298adad337.dcm',\n",
       "  '/home/abdullah/mri_fa/MRI_DATA_HB/head/06012257/5ae92e06e4b03ed00fb335b7.dcm'],\n",
       " ['/home/abdullah/mri_fa/MRI_DATA_HB/head/06012257/5ae92d4ce4b0d2298adad2e6.dcm',\n",
       "  '/home/abdullah/mri_fa/MRI_DATA_HB/head/06012257/5ae92d55e4b0d2298adad2eb.dcm',\n",
       "  '/home/abdullah/mri_fa/MRI_DATA_HB/head/06012257/5ae92d5de4b03ed00fb3350e.dcm',\n",
       "  '/home/abdullah/mri_fa/MRI_DATA_HB/head/06012257/5ae92d66e4b03ed00fb33518.dcm',\n",
       "  '/home/abdullah/mri_fa/MRI_DATA_HB/head/06012257/5ae92d6ee4b03ed00fb3351f.dcm',\n",
       "  '/home/abdullah/mri_fa/MRI_DATA_HB/head/06012257/5ae92d77e4b0d2298adad2fb.dcm',\n",
       "  '/home/abdullah/mri_fa/MRI_DATA_HB/head/06012257/5ae92d81e4b03ed00fb33533.dcm',\n",
       "  '/home/abdullah/mri_fa/MRI_DATA_HB/head/06012257/5ae92d8ae4b03ed00fb3353c.dcm',\n",
       "  '/home/abdullah/mri_fa/MRI_DATA_HB/head/06012257/5ae92d94e4b0d2298adad303.dcm',\n",
       "  '/home/abdullah/mri_fa/MRI_DATA_HB/head/06012257/5ae92d9ee4b03ed00fb33554.dcm',\n",
       "  '/home/abdullah/mri_fa/MRI_DATA_HB/head/06012257/5ae92da8e4b03ed00fb33561.dcm',\n",
       "  '/home/abdullah/mri_fa/MRI_DATA_HB/head/06012257/5ae92db1e4b03ed00fb3356e.dcm',\n",
       "  '/home/abdullah/mri_fa/MRI_DATA_HB/head/06012257/5ae92dbae4b03ed00fb3357b.dcm',\n",
       "  '/home/abdullah/mri_fa/MRI_DATA_HB/head/06012257/5ae92dc3e4b03ed00fb33588.dcm',\n",
       "  '/home/abdullah/mri_fa/MRI_DATA_HB/head/06012257/5ae92dcce4b03ed00fb33594.dcm',\n",
       "  '/home/abdullah/mri_fa/MRI_DATA_HB/head/06012257/5ae92dd6e4b0d2298adad307.dcm',\n",
       "  '/home/abdullah/mri_fa/MRI_DATA_HB/head/06012257/5ae92ddfe4b0d2298adad311.dcm',\n",
       "  '/home/abdullah/mri_fa/MRI_DATA_HB/head/06012257/5ae92de8e4b0d2298adad31d.dcm',\n",
       "  '/home/abdullah/mri_fa/MRI_DATA_HB/head/06012257/5ae92df1e4b0d2298adad32b.dcm',\n",
       "  '/home/abdullah/mri_fa/MRI_DATA_HB/head/06012257/5ae92df9e4b0d2298adad331.dcm',\n",
       "  '/home/abdullah/mri_fa/MRI_DATA_HB/head/06012257/5ae92e00e4b03ed00fb335b2.dcm',\n",
       "  '/home/abdullah/mri_fa/MRI_DATA_HB/head/06012257/5ae92e06e4b03ed00fb335b8.dcm',\n",
       "  '/home/abdullah/mri_fa/MRI_DATA_HB/head/06012257/5ae92e0ce4b03ed00fb335bd.dcm',\n",
       "  '/home/abdullah/mri_fa/MRI_DATA_HB/head/06012257/5ae92e10e4b0d2298adad340.dcm',\n",
       "  '/home/abdullah/mri_fa/MRI_DATA_HB/head/06012257/5ae92e14e4b0d2298adad347.dcm'],\n",
       " ['/home/abdullah/mri_fa/MRI_DATA_HB/head/06012257/5ae92d4de4b0d2298adad2e7.dcm',\n",
       "  '/home/abdullah/mri_fa/MRI_DATA_HB/head/06012257/5ae92d55e4b03ed00fb33506.dcm',\n",
       "  '/home/abdullah/mri_fa/MRI_DATA_HB/head/06012257/5ae92d5ee4b03ed00fb3350f.dcm',\n",
       "  '/home/abdullah/mri_fa/MRI_DATA_HB/head/06012257/5ae92d66e4b03ed00fb33519.dcm',\n",
       "  '/home/abdullah/mri_fa/MRI_DATA_HB/head/06012257/5ae92d6ee4b03ed00fb33520.dcm',\n",
       "  '/home/abdullah/mri_fa/MRI_DATA_HB/head/06012257/5ae92d78e4b03ed00fb3352a.dcm',\n",
       "  '/home/abdullah/mri_fa/MRI_DATA_HB/head/06012257/5ae92d82e4b03ed00fb33534.dcm',\n",
       "  '/home/abdullah/mri_fa/MRI_DATA_HB/head/06012257/5ae92d8be4b03ed00fb3353d.dcm',\n",
       "  '/home/abdullah/mri_fa/MRI_DATA_HB/head/06012257/5ae92d94e4b03ed00fb33549.dcm',\n",
       "  '/home/abdullah/mri_fa/MRI_DATA_HB/head/06012257/5ae92d9fe4b03ed00fb33555.dcm',\n",
       "  '/home/abdullah/mri_fa/MRI_DATA_HB/head/06012257/5ae92da8e4b03ed00fb33562.dcm',\n",
       "  '/home/abdullah/mri_fa/MRI_DATA_HB/head/06012257/5ae92db1e4b03ed00fb3356f.dcm',\n",
       "  '/home/abdullah/mri_fa/MRI_DATA_HB/head/06012257/5ae92dbae4b03ed00fb3357c.dcm',\n",
       "  '/home/abdullah/mri_fa/MRI_DATA_HB/head/06012257/5ae92dc3e4b03ed00fb33589.dcm',\n",
       "  '/home/abdullah/mri_fa/MRI_DATA_HB/head/06012257/5ae92dcde4b03ed00fb33595.dcm',\n",
       "  '/home/abdullah/mri_fa/MRI_DATA_HB/head/06012257/5ae92dd7e4b03ed00fb335a0.dcm',\n",
       "  '/home/abdullah/mri_fa/MRI_DATA_HB/head/06012257/5ae92de0e4b0d2298adad312.dcm',\n",
       "  '/home/abdullah/mri_fa/MRI_DATA_HB/head/06012257/5ae92de9e4b0d2298adad31e.dcm',\n",
       "  '/home/abdullah/mri_fa/MRI_DATA_HB/head/06012257/5ae92df2e4b03ed00fb335a5.dcm',\n",
       "  '/home/abdullah/mri_fa/MRI_DATA_HB/head/06012257/5ae92dfae4b0d2298adad332.dcm',\n",
       "  '/home/abdullah/mri_fa/MRI_DATA_HB/head/06012257/5ae92e00e4b03ed00fb335b3.dcm',\n",
       "  '/home/abdullah/mri_fa/MRI_DATA_HB/head/06012257/5ae92e07e4b0d2298adad33c.dcm'],\n",
       " ['/home/abdullah/mri_fa/MRI_DATA_HB/head/06012257/5ae92d46e4b0d2298adad2e0.dcm',\n",
       "  '/home/abdullah/mri_fa/MRI_DATA_HB/head/06012257/5ae92d4fe4b03ed00fb334ff.dcm',\n",
       "  '/home/abdullah/mri_fa/MRI_DATA_HB/head/06012257/5ae92d57e4b03ed00fb33507.dcm',\n",
       "  '/home/abdullah/mri_fa/MRI_DATA_HB/head/06012257/5ae92d60e4b03ed00fb33512.dcm',\n",
       "  '/home/abdullah/mri_fa/MRI_DATA_HB/head/06012257/5ae92d69e4b03ed00fb3351c.dcm',\n",
       "  '/home/abdullah/mri_fa/MRI_DATA_HB/head/06012257/5ae92d71e4b03ed00fb33523.dcm',\n",
       "  '/home/abdullah/mri_fa/MRI_DATA_HB/head/06012257/5ae92d7ae4b03ed00fb3352b.dcm',\n",
       "  '/home/abdullah/mri_fa/MRI_DATA_HB/head/06012257/5ae92d84e4b03ed00fb33535.dcm',\n",
       "  '/home/abdullah/mri_fa/MRI_DATA_HB/head/06012257/5ae92d8de4b03ed00fb33540.dcm',\n",
       "  '/home/abdullah/mri_fa/MRI_DATA_HB/head/06012257/5ae92d98e4b03ed00fb3354b.dcm',\n",
       "  '/home/abdullah/mri_fa/MRI_DATA_HB/head/06012257/5ae92da2e4b03ed00fb33558.dcm',\n",
       "  '/home/abdullah/mri_fa/MRI_DATA_HB/head/06012257/5ae92daae4b03ed00fb33565.dcm',\n",
       "  '/home/abdullah/mri_fa/MRI_DATA_HB/head/06012257/5ae92db3e4b03ed00fb33572.dcm',\n",
       "  '/home/abdullah/mri_fa/MRI_DATA_HB/head/06012257/5ae92dbde4b03ed00fb3357f.dcm',\n",
       "  '/home/abdullah/mri_fa/MRI_DATA_HB/head/06012257/5ae92dc6e4b03ed00fb3358c.dcm',\n",
       "  '/home/abdullah/mri_fa/MRI_DATA_HB/head/06012257/5ae92dcfe4b03ed00fb33598.dcm',\n",
       "  '/home/abdullah/mri_fa/MRI_DATA_HB/head/06012257/5ae92dd9e4b0d2298adad309.dcm',\n",
       "  '/home/abdullah/mri_fa/MRI_DATA_HB/head/06012257/5ae92de2e4b0d2298adad315.dcm',\n",
       "  '/home/abdullah/mri_fa/MRI_DATA_HB/head/06012257/5ae92debe4b0d2298adad321.dcm',\n",
       "  '/home/abdullah/mri_fa/MRI_DATA_HB/head/06012257/5ae92df4e4b0d2298adad32d.dcm'],\n",
       " ['/home/abdullah/mri_fa/MRI_DATA_HB/head/06012257/5ae92d47e4b03ed00fb334fb.dcm',\n",
       "  '/home/abdullah/mri_fa/MRI_DATA_HB/head/06012257/5ae92d4fe4b0d2298adad2e9.dcm',\n",
       "  '/home/abdullah/mri_fa/MRI_DATA_HB/head/06012257/5ae92d58e4b0d2298adad2ee.dcm',\n",
       "  '/home/abdullah/mri_fa/MRI_DATA_HB/head/06012257/5ae92d60e4b03ed00fb33513.dcm',\n",
       "  '/home/abdullah/mri_fa/MRI_DATA_HB/head/06012257/5ae92d69e4b03ed00fb3351d.dcm',\n",
       "  '/home/abdullah/mri_fa/MRI_DATA_HB/head/06012257/5ae92d71e4b0d2298adad2f9.dcm',\n",
       "  '/home/abdullah/mri_fa/MRI_DATA_HB/head/06012257/5ae92d7be4b0d2298adad2fe.dcm',\n",
       "  '/home/abdullah/mri_fa/MRI_DATA_HB/head/06012257/5ae92d85e4b0d2298adad301.dcm',\n",
       "  '/home/abdullah/mri_fa/MRI_DATA_HB/head/06012257/5ae92d8ee4b03ed00fb33541.dcm',\n",
       "  '/home/abdullah/mri_fa/MRI_DATA_HB/head/06012257/5ae92d99e4b03ed00fb3354c.dcm',\n",
       "  '/home/abdullah/mri_fa/MRI_DATA_HB/head/06012257/5ae92da2e4b03ed00fb33559.dcm',\n",
       "  '/home/abdullah/mri_fa/MRI_DATA_HB/head/06012257/5ae92dabe4b03ed00fb33566.dcm',\n",
       "  '/home/abdullah/mri_fa/MRI_DATA_HB/head/06012257/5ae92db4e4b03ed00fb33573.dcm',\n",
       "  '/home/abdullah/mri_fa/MRI_DATA_HB/head/06012257/5ae92dbde4b03ed00fb33580.dcm',\n",
       "  '/home/abdullah/mri_fa/MRI_DATA_HB/head/06012257/5ae92dc6e4b0d2298adad305.dcm',\n",
       "  '/home/abdullah/mri_fa/MRI_DATA_HB/head/06012257/5ae92dd0e4b03ed00fb33599.dcm',\n",
       "  '/home/abdullah/mri_fa/MRI_DATA_HB/head/06012257/5ae92ddae4b03ed00fb335a2.dcm',\n",
       "  '/home/abdullah/mri_fa/MRI_DATA_HB/head/06012257/5ae92de3e4b0d2298adad316.dcm',\n",
       "  '/home/abdullah/mri_fa/MRI_DATA_HB/head/06012257/5ae92dece4b0d2298adad322.dcm',\n",
       "  '/home/abdullah/mri_fa/MRI_DATA_HB/head/06012257/5ae92df4e4b0d2298adad32e.dcm'],\n",
       " ['/home/abdullah/mri_fa/MRI_DATA_HB/head/06012257/5ae92d4de4b0d2298adad2e8.dcm',\n",
       "  '/home/abdullah/mri_fa/MRI_DATA_HB/head/06012257/5ae92d56e4b0d2298adad2ec.dcm',\n",
       "  '/home/abdullah/mri_fa/MRI_DATA_HB/head/06012257/5ae92d5ee4b03ed00fb33510.dcm',\n",
       "  '/home/abdullah/mri_fa/MRI_DATA_HB/head/06012257/5ae92d67e4b03ed00fb3351a.dcm',\n",
       "  '/home/abdullah/mri_fa/MRI_DATA_HB/head/06012257/5ae92d6fe4b03ed00fb33521.dcm',\n",
       "  '/home/abdullah/mri_fa/MRI_DATA_HB/head/06012257/5ae92d79e4b0d2298adad2fc.dcm',\n",
       "  '/home/abdullah/mri_fa/MRI_DATA_HB/head/06012257/5ae92d83e4b0d2298adad2ff.dcm',\n",
       "  '/home/abdullah/mri_fa/MRI_DATA_HB/head/06012257/5ae92d8ce4b03ed00fb3353e.dcm',\n",
       "  '/home/abdullah/mri_fa/MRI_DATA_HB/head/06012257/5ae92d95e4b0d2298adad304.dcm',\n",
       "  '/home/abdullah/mri_fa/MRI_DATA_HB/head/06012257/5ae92da0e4b03ed00fb33556.dcm',\n",
       "  '/home/abdullah/mri_fa/MRI_DATA_HB/head/06012257/5ae92da9e4b03ed00fb33563.dcm',\n",
       "  '/home/abdullah/mri_fa/MRI_DATA_HB/head/06012257/5ae92db2e4b03ed00fb33570.dcm',\n",
       "  '/home/abdullah/mri_fa/MRI_DATA_HB/head/06012257/5ae92dbbe4b03ed00fb3357d.dcm',\n",
       "  '/home/abdullah/mri_fa/MRI_DATA_HB/head/06012257/5ae92dc4e4b03ed00fb3358a.dcm',\n",
       "  '/home/abdullah/mri_fa/MRI_DATA_HB/head/06012257/5ae92dcde4b03ed00fb33596.dcm',\n",
       "  '/home/abdullah/mri_fa/MRI_DATA_HB/head/06012257/5ae92dd7e4b03ed00fb335a1.dcm',\n",
       "  '/home/abdullah/mri_fa/MRI_DATA_HB/head/06012257/5ae92de1e4b0d2298adad313.dcm',\n",
       "  '/home/abdullah/mri_fa/MRI_DATA_HB/head/06012257/5ae92de9e4b0d2298adad31f.dcm',\n",
       "  '/home/abdullah/mri_fa/MRI_DATA_HB/head/06012257/5ae92df2e4b03ed00fb335a6.dcm',\n",
       "  '/home/abdullah/mri_fa/MRI_DATA_HB/head/06012257/5ae92dfae4b0d2298adad333.dcm']]"
      ]
     },
     "execution_count": 53,
     "metadata": {},
     "output_type": "execute_result"
    }
   ],
   "source": [
    "files"
   ]
  },
  {
   "cell_type": "code",
   "execution_count": null,
   "id": "c31af032",
   "metadata": {},
   "outputs": [],
   "source": []
  }
 ],
 "metadata": {
  "kernelspec": {
   "display_name": "Python 3 (ipykernel)",
   "language": "python",
   "name": "python3"
  },
  "language_info": {
   "codemirror_mode": {
    "name": "ipython",
    "version": 3
   },
   "file_extension": ".py",
   "mimetype": "text/x-python",
   "name": "python",
   "nbconvert_exporter": "python",
   "pygments_lexer": "ipython3",
   "version": "3.10.4"
  }
 },
 "nbformat": 4,
 "nbformat_minor": 5
}
