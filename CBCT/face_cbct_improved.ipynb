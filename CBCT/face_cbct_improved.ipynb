pip list
import os
os.environ["CUDA_VISIBLE_DEVICES"]="1,2"
#!/usr/bin/env python
# coding: utf-8

# In[ ]:

import timeit
import matplotlib.pyplot as plt
import pydicom
from pydicom.data import get_testdata_file
import cv2
import os
from skimage import morphology
import math
import numpy as np
from tqdm import tqdm
import glob as glob
import SimpleITK as sitk
import json
import sys
from skimage.metrics import structural_similarity
import copy

def get_full_scan(folder_path):
    files_List = glob.glob(folder_path + '/**/*.dcm', recursive=True)
    itkimage = sitk.ReadImage(files_List[0])
    rows = int(itkimage.GetMetaData('0028|0010'))
    cols = int(itkimage.GetMetaData('0028|0011'))
    mn = 1000
    mx = 0
    for file in tqdm(files_List):
        itkimage = sitk.ReadImage(file)
        mn = np.min([mn, int(itkimage.GetMetaData('0020|0013'))])
        mx = np.max([mx, int(itkimage.GetMetaData('0020|0013'))])
    full_scan = np.ndarray(shape=(mx - mn + 1, rows, cols), dtype=float, order='F')
    new_list = np.ndarray(shape=(mx - mn + 1), dtype=object)
    for file in tqdm(files_List):
        img, n = dcm_image(file)
        n = int(n)
        full_scan[n - mn, :, :] = img[0, :, :]
        new_list[n-mn] = file
    return full_scan,new_list

def dcm_image(filename):
    itkimage = sitk.ReadImage(filename)
    numpyImage = sitk.GetArrayFromImage(itkimage)
    ins = float(itkimage.GetMetaData('0020|0013'))
    return numpyImage, ins

def get_normalized(scan,mn,mx):
    scann = copy.copy(scan)
    mn = max(mn,np.amin(scann))
    mx = min(mx,np.amax(scann))
    np.clip(scann, mn, mx, out=scann)
    d = mx - mn
    scann = (scann-mn)/d
    return scann

def dynamic_windowing(scan):
    counts,bins,bars = plt.hist(scan.flatten())
    plt.close()
    if bins[-1]>3200:
        a  = 2
        print("Type 2")
        scan = get_normalized(scan, -800, 2500)
    else:
        scan = scan
        a = 1
    return scan,a

#         counts = sorted(counts)
# #         c1 = counts[-1]/counts[-2]

#         if counts[0]<7000:
        
#             print('Type 1')
#             a=1
#             scan = get_normalized(scan,-250,1800)
#         else:
#             a=3
#             print('Type 3')
#             scan = get_normalized(scan,-250,3000)
#     return scan,a

def blur_1(image, prev = 0, s = 0):
    gray = np.zeros((image.shape[0], image.shape[1]) , dtype=int)
    for i in range(gray.shape[0]):
        for j in range(gray.shape[1]):
            if image[i,j] > -300 and image[i,j] < 500:
                gray[i,j] = 1
#         plt.imshow(gray , cmap = 'gray')
#         plt.title("org gray")
#         plt.show()
#         print(np.min(gray), np.max(gray))


    ker1 = cv2.getStructuringElement(cv2.MORPH_ELLIPSE,(1,1))
    ker2 = cv2.getStructuringElement(cv2.MORPH_ELLIPSE,(5,5))
    gray = cv2.morphologyEx(np.float32(gray), cv2.MORPH_CLOSE, ker1)
    gray = cv2.morphologyEx(np.float32(gray), cv2.MORPH_CLOSE, ker2)
#     plt.imshow(gray , cmap = 'gray')
#     plt.title("gray after closing")
#     plt.show()
    gray = gray>0
    gray = morphology.remove_small_objects(gray, min_size=200)
#     plt.imshow(gray , cmap = 'gray')
#     plt.title("after removing small objects")
#     plt.show()
    gray = gray.astype(np.uint8)
    kernel = np.ones((30, 30), np.uint8)
    gray = cv2.morphologyEx(gray, cv2.MORPH_CLOSE, kernel)
    gray = gray.astype(np.uint8)
#     plt.imshow(gray , cmap = 'gray')
#     plt.title("closing")
#     plt.show()
    contours, hierarchy = cv2.findContours(gray, cv2.RETR_EXTERNAL, cv2.CHAIN_APPROX_NONE)
    gray = cv2.drawContours(gray, contours,-1, 255, 10)
#     plt.imshow(gray , cmap = 'gray')
#     plt.title("contours")
#     plt.show()
    gray[300:,:] = 0
#     plt.imshow(gray, cmap ='gray')
#     plt.show()
    seg = gray
    seg = np.where((seg==255),seg,0)
    z=0
    if not s==0:
        diff = np.subtract(seg,prev)
        diff = diff>1
        xx = int((diff.shape[1])/2)
        diff[:,0:(xx-100)] =0
        diff[:,(xx+100):] = 0
        diff = morphology.remove_small_objects(diff, min_size=500)
        if np.any(diff):
            for l in range(diff.shape[1]):
                for j in range(diff.shape[0]):
                    if diff[j,l]==True:
                        if np.any(prev[(j-10):(j+10),l]):
                            diff[j,l] = False
            seg = np.where((diff==True),0,seg)
            z=1

    blurred_img = cv2.GaussianBlur(image, (101, 101), 400)
    out = np.where((seg==255), blurred_img, image)
#     plt.imshow(out,'gray')
#     plt.show()
    out = out.astype(np.int16)
#         plt.imshow(out,'gray')
#         plt.show()
    if z==0:
        return out , seg
    else:
        return out, prev

    
def blur_2(img, ds,low, high, prev = 0, s=0):
    # print("low n high: ",low, high)
    dcm = img*np.max(ds.pixel_array) #*2048#*np.max(scan)
#     plt.imshow(dcm,'gray')
#     plt.show()
    # print(np.min(dcm),np.max(dcm))
    gray = np.zeros((dcm.shape[0], dcm.shape[1]) , dtype=int)
    for i in range(gray.shape[0]):
        for j in range(gray.shape[1]):
            if dcm[i,j] > low and dcm[i,j] < high:
                gray[i,j] = 1
#     plt.imshow(gray , cmap = 'gray')
#     plt.title("org gray")
#     plt.show()
    #         print(np.min(gray), np.max(gray))

    ker1 = cv2.getStructuringElement(cv2.MORPH_ELLIPSE,(1,1))
    ker2 = cv2.getStructuringElement(cv2.MORPH_ELLIPSE,(5,5))
    gray = cv2.morphologyEx(np.float32(gray), cv2.MORPH_CLOSE, ker1)
    gray = cv2.morphologyEx(np.float32(gray), cv2.MORPH_CLOSE, ker2)
    #     plt.imshow(gray , cmap = 'gray')
    #     plt.title("gray after closing")
    #     plt.show()
    gray = gray>0
    gray = morphology.remove_small_objects(gray, min_size=200)
    #     plt.imshow(gray , cmap = 'gray')
    #     plt.title("after removing small objects")
    #     plt.show()
    gray = gray.astype(np.uint8)
    kernel = np.ones((30, 30), np.uint8)
    gray = cv2.morphologyEx(gray, cv2.MORPH_CLOSE, kernel)
    gray = gray.astype(np.uint8)
    #     plt.imshow(gray , cmap = 'gray')
    #     plt.title("closing")
    #     plt.show()
    contours, hierarchy = cv2.findContours(gray, cv2.RETR_EXTERNAL, cv2.CHAIN_APPROX_NONE)
    gray = cv2.drawContours(gray, contours,-1, 255, 10)
    #     plt.imshow(gray , cmap = 'gray')
    #     plt.title("contours")
    #     plt.show()
    gray[400:,:] = 0
#     plt.imshow(gray, cmap ='gray')
#     plt.show()

    seg = gray
    seg = np.where((seg==255),seg,0)
    z=0
    if not s==0:
        diff = np.subtract(seg,prev)
        diff = diff>1
        xx = int((diff.shape[1])/2)
        diff[:,0:(xx-100)] =0
        diff[:,(xx+100):] = 0
        diff = morphology.remove_small_objects(diff, min_size=500)
        if np.any(diff):
            for l in range(diff.shape[1]):
                for j in range(diff.shape[0]):
                    if diff[j,l]==True:
                        if np.any(prev[(j-10):(j+10),l]):
                            diff[j,l] = False
            seg = np.where((diff==True),0,seg)
            z=1

    blurred_img = cv2.GaussianBlur(ds.pixel_array, (101, 101), 800)
    
    out = np.where((seg==255), blurred_img, ds.pixel_array)
#     plt.imshow(out,'gray')

    out = out.astype(np.int16)

#     print(np.min(ds.pixel_array),np.max(ds.pixel_array))
#     ds.PixelData = out.tobytes()

#     plt.imshow(ds.pixel_array,'gray')
#     plt.title("bytes")
#     plt.show()

#     print(np.min(ds.pixel_array),np.max(ds.pixel_array))

    if z==0:
        return out , seg
    else:
        return out, prev   
    

# from skimage.metrics import structural_similarity

# def signaltonoise(a, axis=0, ddof=0):
#     a = np.asanyarray(a)
#     m = a.mean(axis)
#     sd = a.std(axis=axis, ddof=ddof)
#     return np.where(sd == 0, 0, m/sd)


def prediction_CBCT_1(scann, names, output_folder):
    output_list= []
    classUID = []
    annotations=[]

    iscan = copy.copy(scann)
    oscan = copy.copy(scann)    
    
    for i in tqdm(range(scann.shape[0])):
        name = names[i]
        img = scann[i, :, :]

        dcmData = pydicom.dcmread(name)
        dicom_img = dcmData.pixel_array #for calculating parameters
        iscan[i] = dicom_img

        if i == 0:
            out, prev_img = blur_1(img)
        else:
            out, prev_img = blur_1(img, prev_img, s=1)
#             print(np.min(out),np.max(out))    
#             plt.imshow(out,'gray')
#             plt.title("after ct_blur")
#             plt.show()

        out = out.astype(np.int16)
        oscan[i] = out
#             plt.imshow(out,'gray')
#             plt.title("after int16")
#             plt.show()
#             print("after blue and np16: ", np.min(out),np.max(out))

#             dcmData = pydicom.dcmread(name)
        outbytes = out.tobytes()

#             print("bytes min and maximum",np.min(outbytes.pixel_array),np.max(outbytes.pixel_array))
        dcmData.PixelData = outbytes

        # print("pixel data min and maximum",np.min(dcmData.pixel_array),np.max(dcmData.pixel_array))
        # plt.imshow(dcmData.pixel_array,'gray')
        # plt.title("bytes")
        # plt.show()

        _, tail = os.path.split(name)
        des_path = os.path.join(output_folder, tail)
        dcmData.file_meta.TransferSyntaxUID= '1.2.840.10008.1.2.1'
        dcmData.save_as(des_path)

        classUID.append(str(dcmData.SOPClassUID))
        output_list.append(des_path)
        annotations.append(None)    
    
    # isnr = signaltonoise(iscan, axis=None, ddof=0)
    # osnr = signaltonoise(oscan,axis=None, ddof=0)
    # (ss, dd) = structural_similarity(iscan, oscan, full=True)

    # print(isnr, osnr, ss)
    
    return output_list, classUID, annotations

def prediction_CBCT_2(scann, names, output_folder):
    
    output_list= []
    classUID = []
    annotations=[]    
    
    iscan = copy.copy(scann)
    oscan = copy.copy(scann)
    
    for i in tqdm(range(scann.shape[0])):
        name = names[i]
        img = scann[i, :, :]
        low = 350
        high = 2000
        dcmData = pydicom.dcmread(name)
        if dcmData.file_meta.TransferSyntaxUID == "1.2.840.10008.1.2.4.70":
            dcmData.decompress('pylibjpeg')
            low = 250
            high = 3000
            
        dicom_img = dcmData.pixel_array
        iscan[i] = dicom_img
        
        if i == 0:
            out, prev_img = blur_2(img, dcmData, low, high)
        else:
            out, prev_img = blur_2(img, dcmData, low, high, prev_img, s=1)
#             print(np.min(out),np.max(out))    
#             plt.imshow(out,'gray')
#             plt.title("after ct_blur")
#             plt.show()

        out = out.astype(np.int16)
        oscan[i] = out
#             plt.imshow(out,'gray')
#             plt.title("after int16")
#             plt.show()
#             print("after blue and np16: ", np.min(out),np.max(out))

#             dcmData = pydicom.dcmread(name)
        outbytes = out.tobytes()

#             print("bytes min and maximum",np.min(outbytes.pixel_array),np.max(outbytes.pixel_array))
        dcmData.PixelData = outbytes

        # print("pixel data min and maximum",np.min(dcmData.pixel_array),np.max(dcmData.pixel_array))
        # plt.imshow(dcmData.pixel_array,'gray')
        # plt.title("bytes")
        # plt.show()

        _, tail = os.path.split(name)
        des_path = os.path.join(output_folder, tail)
        dcmData.file_meta.TransferSyntaxUID= '1.2.840.10008.1.2.1'
        dcmData.save_as(des_path)
        
#         test_ds = pydicom.dcmread(des_path)
#         test_s = test_ds.pixel_array
#         plt.imshow(test_s,'gray')
#         plt.title("read output")
#         plt.show()
        
        classUID.append(str(dcmData.SOPClassUID))
        output_list.append(des_path)
        annotations.append(None)
    
    # isnr = signaltonoise(iscan, axis=None, ddof=0)
    # osnr = signaltonoise(oscan,axis=None, ddof=0)
    # (ss, dd) = structural_similarity(iscan, oscan, full=True)

    # print(isnr, osnr, ss)
    
    return output_list, classUID, annotations

def predictions_cbct(input_folder, output_folder):
    if not os.path.exists(output_folder):
        os.makedirs(output_folder)
    files_list = sorted(glob.glob((input_folder+ "/**/*.dcm"),recursive = True))
    
    initialdata = pydicom.dcmread(files_list[0])
    mode = str(initialdata.Modality)
    # start_AI = timeit.default_timer()
    if (mode=='CT') or (mode=='ct'):
        i = 0
        # start_files = timeit.default_timer()
        scan, names = get_full_scan(input_folder)
        # stop_files = timeit.default_timer()
        # print("time for reading files: ", (stop_files - start_files))
        
        inscan = copy.copy(scan)
        scann,a = dynamic_windowing(inscan)
        
        if a == 1:
            # print("Type 1, org alg")
            output_list, classUID, annotations = prediction_CBCT_1(scan, names, output_folder)
        elif a == 2:
            # print("Type 2, improv alg")
            output_list, classUID, annotations = prediction_CBCT_2(scann, names, output_folder)
        

#             i = i + 1
    # stop_ai = timeit.default_timer()
    # print("Time taken by AI: ", stop_ai - start_AI)
    

#     mimeType = "application/dicom"
    mimeType = []
    for i in range(len(output_list)):
        mimeType.append("application/dicom")
    image=[]
    print("in AI",len(classUID))
    for i in range(len(classUID)):
        image.append(None)
    recommendation_string = {"finding": "dummy finding","conclusion":"dummy conclusion","recommendation":"dummy recommendation"} 
    all_result={"output_list":output_list, "classUID":classUID, "mimeType":mimeType,"annotations":annotations, "recommendation_string": recommendation_string,"image":image}
    with open(input_folder+"/values.json", "w") as outfile:
        json.dump(all_result, outfile)
    # print(recommendation_string)
        

#     return all_result
    return 1

from skimage.metrics import structural_similarity

def signaltonoise(a, axis=0, ddof=0):
    a = np.asanyarray(a)
    m = a.mean(axis)
    sd = a.std(axis=axis, ddof=ddof)
    return np.where(sd == 0, 0, m/sd)
import copy
def get_blurred_area(scan): #to get skin area type 1 scans
    plt.imshow(np.amax(scan, axis=0),'gray')
    plt.show()
    scann = copy.copy(scan)
    scann = np.where((scan==np.min(scan)),scan,np.min(scan))
    for i in range(scan.shape[0]):
        scann[i] = np.where((-150>scan[i]), scan[i] ,np.min(scan[i]))
        
    return scann
def main(ipath, opath): 
    predictions(ipath, opath)
ipath = "/home/azka/Face Anonymyzation Testing/CBCT/00423"
opath = "/home/minha/FARZEEN/face ann/face cbct/output/00423/"
main(ipath, opath)
iscan = get_full_scan(ipath)
i_files = sorted(glob.glob(ipath + '/**/*.dcm', recursive=True))
ofiles = sorted(glob.glob(opath + '/**/*.dcm', recursive=True))

for i in range(0,len(i_files),50):
    ds = pydicom.dcmread(i_files[i])
    plt.imshow(ds.pixel_array,'gray')
    plt.title("org dicom")
    plt.show()
    
    ds1 = pydicom.dcmread(ofiles[i])
    plt.imshow(ds1.pixel_array,'gray')
    plt.title("out dicom")
    plt.show()

dir_path = "/home/azka/Face Anonymyzation Testing/CBCT/"
out_path = "/home/minha/FARZEEN/face ann/face cbct/output/"
dir_list = sorted(os.listdir(dir_path))
# Iterate directory
error=[]
for i in range(14,len(dir_list)):
    # check if current path is a file
    print("****************************************************************************************************\n",
         "*****************************************************************************************************\n", dir_list[i])
    try:
        print(dir_list[i])
        ipath = os.path.join(dir_path, dir_list[i])
        opath = os.path.join(out_path, dir_list[i])
        main(ipath, opath)
    except Exception as e:
        error.append((dir_list[i], e))
error
