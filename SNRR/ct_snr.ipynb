{
 "cells": [
  {
   "cell_type": "code",
   "execution_count": 5,
   "id": "91f35fdf",
   "metadata": {},
   "outputs": [],
   "source": [
    "import tempfile\n",
    "import matplotlib.pyplot as plt\n",
    "import pydicom\n",
    "from pydicom.data import get_testdata_file\n",
    "import cv2\n",
    "import os\n",
    "from skimage import morphology\n",
    "import math\n",
    "import numpy as np\n",
    "from scipy import ndimage\n",
    "from tqdm import tqdm\n",
    "import glob as glob\n",
    "import SimpleITK as sitk\n",
    "import sys\n",
    "from pydicom.encaps import encapsulate\n",
    "from pydicom.uid import JPEG2000\n",
    "from pydicom.pixel_data_handlers.util import apply_modality_lut\n",
    "from imagecodecs import jpeg_encode\n",
    "import imagecodecs\n",
    "import random\n",
    "from pydicom.uid import ExplicitVRLittleEndian\n",
    "from imagecodecs import jpeg_encode\n",
    "import imagecodecs\n",
    "import pylibjpeg\n",
    "import timeit\n",
    "import copy\n",
    "# # CT\n",
    "\n",
    "# In[ ]:\n",
    "\n",
    "\n",
    "\n",
    "def sorted_files(folder):\n",
    "    ins=[]\n",
    "    ser=[]\n",
    "    f= os.listdir(folder)\n",
    "    for name in tqdm( f):\n",
    "        itkimage = sitk.ReadImage(os.path.join(folder,name))\n",
    "        temp= float(itkimage.GetMetaData('0020|0013')) # instance number \n",
    "        temp1= itkimage.GetMetaData('0020|000e') #series instance UID \n",
    "        ins.append(int(temp))\n",
    "        ser.append(temp1)\n",
    "    series=np.unique(ser)\n",
    "    files=[[x for sr,_,x in sorted(zip(ser,ins,f)) if sr==s] for s in series]\n",
    "    return files\n",
    "\n",
    "def get_scan(path):\n",
    "    f= sorted_files(path)\n",
    "    series=[]\n",
    "    files=[]\n",
    "    for i in tqdm (range (len(f))):\n",
    "        img=[]\n",
    "        file=[]\n",
    "        for filename in f[i]:\n",
    "            itkimage = sitk.ReadImage(os.path.join(path,filename))\n",
    "            numpyImage = sitk.GetArrayFromImage(itkimage)\n",
    "            img.append(numpyImage[0,:,:])\n",
    "            file.append(filename)\n",
    "        series.append(img)\n",
    "        files.append(file)\n",
    "    return series,files\n",
    "\n",
    "def CT_blurred_sag(image,dicom_img,rows,columns):\n",
    "    imagee = image>-800\n",
    "#     #plt.imshow(imagee,'gray')\n",
    "#     #plt.title(\"image greater than -400\")\n",
    "#     #plt.show()\n",
    "\n",
    "    skull = image>1200\n",
    "#     #plt.imshow(skull,'gray')\n",
    "#     #plt.title(\"skull; image greater than 1000\")\n",
    "#     #plt.show()\n",
    "\n",
    "    kernel = np.ones((30, 30), np.uint8)\n",
    "    imagee = cv2.morphologyEx(imagee.astype(np.uint8), cv2.MORPH_CLOSE, kernel)\n",
    "    imagee = ndimage.binary_fill_holes(imagee)\n",
    "    imagee = imagee.astype(np.uint8)\n",
    "    contours, hierarchy = cv2.findContours(imagee, cv2.RETR_EXTERNAL, cv2.CHAIN_APPROX_NONE)    \n",
    "    gray = np.zeros_like(imagee)\n",
    "    gray = cv2.drawContours(gray, contours,-1, 255,-1 )\n",
    "#     #plt.imshow(gray,'gray')\n",
    "#     #plt.title(\"contours\")\n",
    "#     #plt.show()\n",
    "\n",
    "    mid = int(image.shape[0]/2)\n",
    "\n",
    "    gray = np.where((gray==255), 0, 255)\n",
    "    gray[:,mid:] = 0\n",
    "    gray1 = np.zeros_like(imagee)\n",
    "    gray1 = cv2.drawContours(gray1, contours,-1, 255,10)\n",
    "#     #plt.imshow(gray1,'gray')\n",
    "#     #plt.title(\"contours2\")\n",
    "#     #plt.show()\n",
    "    gray1[:,mid:] = 0\n",
    "    gray=np.where((gray1==255), gray1, gray)\n",
    "    gray=np.where((gray==255),1,0)\n",
    "\n",
    "#     #plt.imshow(out,'gray')\n",
    "#     #plt.title(\"out\")\n",
    "#     #plt.show()\n",
    "\n",
    "    if np.min(image) == np.min(dicom_img) and np.max(image) == np.max(dicom_img):\n",
    "#         #print(\"equal\")\n",
    "        blurred_img = cv2.GaussianBlur(image, (101, 101), 400)\n",
    "        out = np.where((gray==1), blurred_img, image)\n",
    "        out = np.where(skull>0,image,out)\n",
    "        out = out.astype(np.int16)\n",
    "        #print(np.min(out),np.max(out))\n",
    "        \n",
    "        dum = copy.copy(image)\n",
    "        dum[:,:] = 0\n",
    "        input_skin = np.where(gray==1, image, dum)\n",
    "        #plt.imshow(input_skin,'gray')\n",
    "        #plt.show()\n",
    "\n",
    "        dum2 = copy.copy(out)\n",
    "        dum2[:,:] = 0\n",
    "        output_skin = np.where(gray==1, out, dum2)\n",
    "        #plt.imshow(output_skin,'gray')\n",
    "        #plt.show()\n",
    "        return out, input_skin, output_skin\n",
    "    else: \n",
    "#         #print(\"not equal\")\n",
    "        blurred_img = cv2.GaussianBlur(dicom_img, (101, 101), 50)\n",
    "        out = np.where((gray==1), blurred_img, dicom_img)\n",
    "        out = np.where(skull>0,dicom_img,out)\n",
    "        out = out.astype(np.int16)\n",
    "        #print(np.min(out),np.max(out))\n",
    "        \n",
    "#     for i in range(np.shape(out)[0]):\n",
    "#         if not np.any(temp[i]):\n",
    "#             out[i]=np.multiply(out[i],0)\n",
    "#             out = out.astype(np.int16)\n",
    "    \n",
    "        dum = copy.copy(dicom_img)\n",
    "        dum[:,:] = 0\n",
    "        input_skin = np.where(gray==1, dicom_img, dum)\n",
    "        #plt.imshow(input_skin,'gray')\n",
    "        #plt.show()\n",
    "\n",
    "        dum2 = copy.copy(out)\n",
    "        dum2[:,:] = 0\n",
    "        output_skin = np.where(gray==1, out, dum2)\n",
    "        #plt.imshow(output_skin,'gray')\n",
    "        #plt.show()\n",
    "        return out, input_skin, output_skin\n",
    "    \n",
    "def CT_blurred_axial(image, dicom_img, rows, columns):\n",
    "    #print(\"axial\")\n",
    "    imagee = image>-50\n",
    "#     #plt.imshow(imagee,'gray')\n",
    "#     #plt.title(\"image greater than -50\")\n",
    "#     #plt.show()\n",
    "    \n",
    "    skull = image>500\n",
    "#     #plt.imshow(skull,'gray')\n",
    "#     #plt.title(\"skull; image greater than 500\")\n",
    "#     #plt.show()\n",
    "    \n",
    "    kernel = np.ones((30, 30), np.uint8)\n",
    "    imagee = cv2.morphologyEx(imagee.astype(np.uint8), cv2.MORPH_CLOSE, kernel)\n",
    "    imagee = ndimage.binary_fill_holes(imagee)\n",
    "    imagee = imagee.astype(np.uint8)\n",
    "    contours, hierarchy = cv2.findContours(imagee, cv2.RETR_EXTERNAL, cv2.CHAIN_APPROX_NONE)    \n",
    "    gray = np.zeros_like(imagee)\n",
    "    gray = cv2.drawContours(gray, contours,-1, 255,-1 )\n",
    "#     #plt.imshow(gray,'gray')\n",
    "#     #plt.title(\"contours\")\n",
    "#     #plt.show()\n",
    "    gray = np.where((gray==255), 0, 255)\n",
    "    gray[300:,:] = 0\n",
    "    gray1 = np.zeros_like(imagee)\n",
    "    gray1 = cv2.drawContours(gray1, contours,-1, 255,7)\n",
    "#     #plt.imshow(gray1,'gray')\n",
    "#     #plt.title(\"contours2\")\n",
    "#     #plt.show()\n",
    "    gray1[300:,:] = 0\n",
    "    gray=np.where((gray1==255), gray1, gray)\n",
    "    gray=np.where((gray==255),1,0)\n",
    "    \n",
    "    if np.min(image) == np.min(dicom_img) and np.max(image) == np.max(dicom_img):\n",
    "#         #print(\"equal\")\n",
    "        blurred_img = cv2.GaussianBlur(image, (101, 101), 400)\n",
    "        out = np.where((gray==1), blurred_img, image)\n",
    "        out = np.where(skull>0,image,out)\n",
    "        out = out.astype(np.int16)\n",
    "        #print(np.min(out),np.max(out))\n",
    "        dum = copy.copy(image)\n",
    "        dum[:,:] = 0\n",
    "        input_skin = np.where(gray==1, image, dum)\n",
    "        #plt.imshow(input_skin,'gray')\n",
    "        #plt.show()\n",
    "        #print(input_skin)\n",
    "        dum2 = copy.copy(out)\n",
    "        dum2[:,:] = 0\n",
    "        output_skin = np.where(gray==1, out, dum2)\n",
    "        #plt.imshow(output_skin,'gray')\n",
    "        #plt.show()\n",
    "        return out, input_skin, output_skin\n",
    "    else: \n",
    "#         #print(\"not equal\")\n",
    "        blurred_img = cv2.GaussianBlur(dicom_img, (101, 101), 50)\n",
    "        out = np.where((gray==1), blurred_img, dicom_img)\n",
    "        out = np.where(skull>0,dicom_img,out)\n",
    "        out = out.astype(np.int16)\n",
    "        #print(np.min(out),np.max(out))\n",
    "        \n",
    "        dum = copy.copy(dicom_img)\n",
    "        dum[:,:] = 0\n",
    "        input_skin = np.where(gray==1, dicom_img, dum)\n",
    "        #plt.imshow(input_skin,'gray')\n",
    "        #plt.show()\n",
    "\n",
    "        dum2 = copy.copy(out)\n",
    "        dum2[:,:] = 0\n",
    "        output_skin = np.where(gray==1, out, dum2)\n",
    "        #plt.imshow(output_skin,'gray')\n",
    "        #plt.show()\n",
    "        return out, input_skin, output_skin\n",
    "        \n",
    "def CT_blurred_coronal(image, dicom_img, rows, columns):\n",
    "\n",
    "    imagee = image>-400\n",
    "#     #plt.imshow(imagee,'gray')\n",
    "#     #plt.title(\"image greater than -400\")\n",
    "#     #plt.show()\n",
    "\n",
    "    skull = image>1000\n",
    "#     #plt.imshow(skull,'gray')\n",
    "#     #plt.title(\"skull; image greater than 1000\")\n",
    "#     #plt.show()\n",
    "\n",
    "    kernel = np.ones((30, 30), np.uint8)\n",
    "    imagee = cv2.morphologyEx(imagee.astype(np.uint8), cv2.MORPH_CLOSE, kernel)\n",
    "    imagee = ndimage.binary_fill_holes(imagee)\n",
    "    imagee = imagee.astype(np.uint8)\n",
    "    contours, hierarchy = cv2.findContours(imagee, cv2.RETR_EXTERNAL, cv2.CHAIN_APPROX_NONE)    \n",
    "    gray = np.zeros_like(imagee)\n",
    "    gray = cv2.drawContours(gray, contours,-1, 255,-1 )\n",
    "#     #plt.imshow(gray,'gray')\n",
    "#     #plt.title(\"contours\")\n",
    "#     #plt.show()\n",
    "\n",
    "    mid = int(image.shape[0]/2)\n",
    "\n",
    "    gray = np.where((gray==255), 0, 255)\n",
    "    gray[:200,:] = 0\n",
    "    gray1 = np.zeros_like(imagee)\n",
    "    gray1 = cv2.drawContours(gray1, contours,-1, 255,10)\n",
    "#     #plt.imshow(gray1,'gray')\n",
    "#     #plt.title(\"contours2\")\n",
    "#     #plt.show()\n",
    "    gray1[:200,:] = 0\n",
    "    gray=np.where((gray1==255), gray1, gray)\n",
    "    gray=np.where((gray==255),1,0)\n",
    "\n",
    "    if np.min(image) == np.min(dicom_img) and np.max(image) == np.max(dicom_img):\n",
    "#         #print(\"equal\")\n",
    "        blurred_img = cv2.GaussianBlur(image, (101, 101), 400)\n",
    "        out = np.where((gray==1), blurred_img, image)\n",
    "        out = np.where(skull>0,image,out)\n",
    "        out = out.astype(np.int16)\n",
    "        #print(np.min(out),np.max(out))\n",
    "        dum = copy.copy(image)\n",
    "        dum[:,:] = 0\n",
    "        input_skin = np.where(gray==1, image, dum)\n",
    "        #plt.imshow(input_skin,'gray')\n",
    "        #plt.show()\n",
    "\n",
    "        dum2 = copy.copy(out)\n",
    "        dum2[:,:] = 0\n",
    "        output_skin = np.where(gray==1, out, dum2)\n",
    "        #plt.imshow(output_skin,'gray')\n",
    "        #plt.show()\n",
    "        return out, input_skin, output_skin\n",
    "    else: \n",
    "#         #print(\"not equal\")\n",
    "        blurred_img = cv2.GaussianBlur(dicom_img, (101, 101), 50)\n",
    "        out = np.where((gray==1), blurred_img, dicom_img)\n",
    "        out = np.where(skull>0,dicom_img,out)\n",
    "        out = out.astype(np.int16)\n",
    "        #print(np.min(out),np.max(out))\n",
    "        dum = copy.copy(dicom_img)\n",
    "        dum[:,:] = 0\n",
    "        input_skin = np.where(gray==1, dicom_img, dum)\n",
    "        #plt.imshow(input_skin,'gray')\n",
    "        #plt.show()\n",
    "\n",
    "        dum2 = copy.copy(out)\n",
    "        dum2[:,:] = 0\n",
    "        output_skin = np.where(gray==1, out, dum2)\n",
    "        #plt.imshow(output_skin,'gray')\n",
    "        #plt.show()\n",
    "        return out, input_skin, output_skin\n",
    "    \n",
    "def predictions_ct(path, output):\n",
    "    if not os.path.exists(output):\n",
    "        os.makedirs(output)\n",
    "    output_list= []\n",
    "    classUID = []\n",
    "#     start_files = timeit.default_timer()\n",
    "    scan_series,filenames=get_scan(path)\n",
    "#     stop_files = timeit.default_timer()\n",
    "#     #print(\"time for files: \", stop_files - start_files)\n",
    "    iskin = []\n",
    "    oskin = []\n",
    "#     start_ai = timeit.default_timer()\n",
    "    for j in tqdm(range(len(scan_series))):\n",
    "        scan, names = scan_series[j],filenames[j]\n",
    "        scan=np.asarray(scan)\n",
    "        #print(scan.shape[0])\n",
    "        #print(\"no.of files: \",len(names))\n",
    "        dcmData = pydicom.dcmread(os.path.join(path,names[0]))\n",
    "        \n",
    "#         #plt.imshow(dcmData.pixel_array,'gray')\n",
    "#         #plt.show()\n",
    "        \n",
    "        axial  =  np.array([1., 0., 0., 0., 1., 0.])\n",
    "#         sagittal = np.array([-1, 0., 0., 0., 0., -1.])\n",
    "        sagittal = np.array([0, 1., 0., 0., 0., -1.])\n",
    "        coronal = np.array([1., 0., 0., 0., 0., -1.])\n",
    "        if (0x0020,0x0037) in dcmData:\n",
    "            a = (np.around(dcmData.ImageOrientationPatient, 0))\n",
    "            #print(a)\n",
    "            if (a == axial).all():\n",
    "                iiskin = []\n",
    "                ooskin = []\n",
    "#                 #print(\"in axial\")\n",
    "                for i in range(scan.shape[0]):\n",
    "                    name = names[i]\n",
    "                    img = scan[i, :, :]\n",
    "#                     #print(\"max and min of scan sitk \",np.min(img),np.max(img))\n",
    "                    dcmData = pydicom.dcmread(os.path.join(path,name)) ##read file to change it's pixel data to anonymized\n",
    "                    dicom_img = dcmData.pixel_array\n",
    "#                     #print(\"max and min of input dicom \",np.min(dcmData.pixel_array),np.max(dcmData.pixel_array))\n",
    "                    r= dcmData.Rows\n",
    "                    c=dcmData.Columns\n",
    "                    out, input_skin, output_skin= CT_blurred_axial(img,dicom_img,r,c)\n",
    "                    iiskin.append(input_skin)\n",
    "                    ooskin.append(output_skin)\n",
    "                    out = out.astype(np.int16)\n",
    "                    dcmData.file_meta.TransferSyntaxUID= '1.2.840.10008.1.2.1'\n",
    "                    dcmData.PixelData = out.tobytes()\n",
    "#                     #print(\"max and min of output \",np.min(dcmData.pixel_array),np.max(dcmData.pixel_array))\n",
    "                    \n",
    "#                     #plt.imshow(dcmData.pixel_array,'gray')\n",
    "#                     #plt.title(\"axial blurred\")\n",
    "#                     #plt.show()\n",
    "                    \n",
    "                    des_path = os.path.join(output, name)\n",
    "                    dcmData.save_as(des_path) ##save file in anonym folder\n",
    "                    classUID.append(str(dcmData.SOPClassUID))\n",
    "                    output_list.append(des_path)\n",
    "                iskin.append(iiskin)\n",
    "                oskin.append(ooskin)\n",
    "            elif (a==sagittal).all():\n",
    "                iiskin = []\n",
    "                ooskin = []\n",
    "#                 #print(\"in sagittal\")\n",
    "                for i in range(scan.shape[0]):\n",
    "                    name = names[i]\n",
    "                    img = scan[i, :, :]\n",
    "                    dcmData = pydicom.dcmread(os.path.join(path,name)) ##read file to change it's pixel data to anonymized\n",
    "                    r= dcmData.Rows\n",
    "                    c=dcmData.Columns\n",
    "                    dicom_img = dcmData.pixel_array\n",
    "\n",
    "                    out, input_skin, output_skin = CT_blurred_sag(img,dicom_img,r,c)\n",
    "                    iiskin.append(input_skin)\n",
    "                    ooskin.append(output_skin)\n",
    "                    out = out.astype(np.int16)\n",
    "                    dcmData.file_meta.TransferSyntaxUID= '1.2.840.10008.1.2.1'\n",
    "                    dcmData.PixelData = out.tobytes()\n",
    "                    \n",
    "#                     #plt.imshow(dcmData.pixel_array,'gray')\n",
    "#                     #plt.title(\"sagittal blurred\")\n",
    "#                     #plt.show()\n",
    "                    \n",
    "                    des_path = os.path.join(output, name)\n",
    "                    dcmData.save_as(des_path) ##save file in anonym folder\n",
    "                    classUID.append(str(dcmData.SOPClassUID))\n",
    "                    output_list.append(des_path)\n",
    "                iskin.append(iiskin)\n",
    "                oskin.append(ooskin)\n",
    "            elif (a==coronal).all():\n",
    "                iiskin = []\n",
    "                ooskin = []\n",
    "#                 #print(\"in coronal\")\n",
    "                for i in range(scan.shape[0]):\n",
    "                    name = names[i]\n",
    "                    img = scan[i, :, :]\n",
    "                    dcmData = pydicom.dcmread(os.path.join(path,name))\n",
    "                    dicom_img = dcmData.pixel_array\n",
    "#                     #print(\"max and min of input dicom \",np.min(dcmData.pixel_array),np.max(dcmData.pixel_array))\n",
    "                    r= dcmData.Rows\n",
    "                    c=dcmData.Columns\n",
    "                    out, input_skin, output_skin = CT_blurred_coronal(img,dicom_img,r,c)\n",
    "                    iiskin.append(input_skin)\n",
    "                    ooskin.append(output_skin)\n",
    "                    out = out.astype(np.int16)\n",
    "                    dcmData.file_meta.TransferSyntaxUID= '1.2.840.10008.1.2.1'\n",
    "                    dcmData.PixelData = out.tobytes()\n",
    "#                     #print(\"max and min of output \",np.min(dcmData.pixel_array),np.max(dcmData.pixel_array))\n",
    "                    \n",
    "#                     #plt.imshow(dcmData.pixel_array,'gray')\n",
    "#                     #plt.title(\"coronal blurred\")\n",
    "#                     #plt.show()\n",
    "                    \n",
    "                    des_path = os.path.join(output, name)\n",
    "                    dcmData.save_as(des_path) ##save file in anonym folder\n",
    "                    classUID.append(str(dcmData.SOPClassUID))\n",
    "                    output_list.append(des_path)\n",
    "                iskin.append(iiskin)\n",
    "                oskin.append(ooskin)\n",
    "            else:\n",
    "                for i in range(scan.shape[0]):\n",
    "                    name = names[i]\n",
    "                    img = scan[i, :, :]\n",
    "                    dcmData = pydicom.dcmread(os.path.join(path,name)) \n",
    "                    des_path = os.path.join(output, name)\n",
    "                    dcmData.save_as(des_path) \n",
    "                    classUID.append(str(dcmData.SOPClassUID))\n",
    "                    output_list.append(des_path)\n",
    "        else:\n",
    "            for i in range(scan.shape[0]):\n",
    "                name = names[i]\n",
    "                img = scan[i, :, :]\n",
    "                dcmData = pydicom.dcmread(os.path.join(path,name)) \n",
    "                des_path = os.path.join(output, name)\n",
    "                dcmData.save_as(des_path) \n",
    "                classUID.append(str(dcmData.SOPClassUID))\n",
    "                output_list.append(des_path)\n",
    "#     stop_ai = timeit.default_timer()\n",
    "#     #print(\"time for AI: \", stop_ai - start_ai)\n",
    "#     mimeType = \"application/dicom\"\n",
    "#     recommendation_string = {\"finding\": \"finding\",\"conclusion\":\"conclusion\",\"recommendation\":\"recommendation\"} \n",
    "#     return output_list, classUID, mimeType, recommendation_string\n",
    "    return iskin, oskin"
   ]
  },
  {
   "cell_type": "code",
   "execution_count": 6,
   "id": "2f48f84d",
   "metadata": {},
   "outputs": [],
   "source": [
    "def same_range(imggr, imggf):\n",
    "    min1 = np.min(imggr)\n",
    "    max1 = np.max(imggr)\n",
    "\n",
    "    # Find min and max of image2\n",
    "    min2 = np.min(imggf)\n",
    "    max2 = np.max(imggf)\n",
    "\n",
    "    # Find overall min and max\n",
    "    min_overall = min(min1, min2)\n",
    "    max_overall = max(max1, max2)\n",
    "\n",
    "    # Scale image1 to the overall range\n",
    "    imggdd = (imggr - min1) / (max1 - min1) * ((max_overall - min_overall) + min_overall)\n",
    "\n",
    "    # Scale image2 to the overall range\n",
    "    imggff = (imggf - min2) / (max2 - min2) * ((max_overall - min_overall) + min_overall)\n",
    "    \n",
    "#     maxi = np.max(imggdd)\n",
    "#     imggdd = imggdd/1024\n",
    "#     imggff = imggff/1024\n",
    "    return imggdd, imggff"
   ]
  },
  {
   "cell_type": "code",
   "execution_count": 7,
   "id": "18500b26",
   "metadata": {},
   "outputs": [],
   "source": [
    "ll = []\n",
    "path = [\"/home/minha/FARZEEN/face ann/face ct/7124319_GiSungyoon/1.2.392.200036.9116.2.6.1.48.1211376315.1667261776.240966/\",\n",
    "       \"/home/minha/FARZEEN/face ann/face ct/7122308_HongSungok/1.2.392.200036.9116.2.6.1.48.1211376315.1660290675.708521/\",\n",
    "       \"/home/minha/FARZEEN/face ann/face ct/7106608_KimJiyoon/1.2.392.200036.9116.2.6.1.48.1211376315.1600048726.383271/\",\n",
    "       \"/home/minha/FARZEEN/face ann/face ct/7019115_KimHwaKyoung/1.2.392.200036.9116.2.6.1.48.1211376315.1375921545.238520/\"]\n",
    "for p in path:\n",
    "    s = os.listdir(p)\n",
    "    for ss in s:\n",
    "        h = os.path.join(p,ss)\n",
    "        ll.append(h)"
   ]
  },
  {
   "cell_type": "code",
   "execution_count": 11,
   "id": "fe7eba56",
   "metadata": {},
   "outputs": [],
   "source": [
    "from math import log10, sqrt\n",
    "import cv2\n",
    "import numpy as np\n",
    "  \n",
    "def PSNR(original, compressed):\n",
    "    mse = np.mean((original - compressed) ** 2)\n",
    "    if(mse == 0):  # MSE is zero means no noise is present in the signal .\n",
    "                  # Therefore PSNR have no importance.\n",
    "        return 100\n",
    "    max_pixel = np.max(original)#65536#np.max(np.sum(original)**2)\n",
    "    psnr = 20 * log10(abs((max_pixel-1) / sqrt(mse)))\n",
    "    return psnr"
   ]
  },
  {
   "cell_type": "code",
   "execution_count": 13,
   "id": "3812bf6e",
   "metadata": {
    "scrolled": false
   },
   "outputs": [
    {
     "name": "stdout",
     "output_type": "stream",
     "text": [
      "/home/minha/FARZEEN/face ann/face ct/7124319_GiSungyoon/1.2.392.200036.9116.2.6.1.48.1211376315.1667261776.240966/Neck_2_0_post_35secCONTRASTCoronal_3_CE\n"
     ]
    },
    {
     "name": "stderr",
     "output_type": "stream",
     "text": [
      "100%|██████████████████████████████████████████| 91/91 [00:00<00:00, 468.79it/s]\n",
      "100%|█████████████████████████████████████████████| 1/1 [00:00<00:00,  5.93it/s]\n",
      "100%|█████████████████████████████████████████████| 1/1 [00:02<00:00,  2.84s/it]\n"
     ]
    },
    {
     "name": "stdout",
     "output_type": "stream",
     "text": [
      "0\n",
      "0.6904180842951166\n",
      "***************                                                   *****************\n",
      "/home/minha/FARZEEN/face ann/face ct/7124319_GiSungyoon/1.2.392.200036.9116.2.6.1.48.1211376315.1667261776.240966/3_post_1m20sCONTRAST_CE\n"
     ]
    },
    {
     "name": "stderr",
     "output_type": "stream",
     "text": [
      "100%|████████████████████████████████████████████| 2/2 [00:00<00:00, 605.24it/s]\n",
      "100%|████████████████████████████████████████████| 1/1 [00:00<00:00, 355.87it/s]\n",
      "100%|████████████████████████████████████████████| 1/1 [00:00<00:00, 131.14it/s]\n"
     ]
    },
    {
     "name": "stdout",
     "output_type": "stream",
     "text": [
      "/home/minha/FARZEEN/face ann/face ct/7124319_GiSungyoon/1.2.392.200036.9116.2.6.1.48.1211376315.1667261776.240966/Neck_2_0_post_35secCONTRAST_CE\n"
     ]
    },
    {
     "name": "stderr",
     "output_type": "stream",
     "text": [
      "100%|████████████████████████████████████████| 151/151 [00:00<00:00, 623.46it/s]\n",
      "100%|█████████████████████████████████████████████| 1/1 [00:00<00:00,  4.65it/s]\n",
      "100%|█████████████████████████████████████████████| 1/1 [00:02<00:00,  2.69s/it]\n"
     ]
    },
    {
     "name": "stdout",
     "output_type": "stream",
     "text": [
      "0\n",
      "0.603517108485309\n",
      "***************                                                   *****************\n",
      "/home/minha/FARZEEN/face ann/face ct/7124319_GiSungyoon/1.2.392.200036.9116.2.6.1.48.1211376315.1667261776.240966/2_0\n"
     ]
    },
    {
     "name": "stderr",
     "output_type": "stream",
     "text": [
      "100%|████████████████████████████████████████████| 2/2 [00:00<00:00, 226.60it/s]\n",
      "100%|████████████████████████████████████████████| 1/1 [00:00<00:00, 172.48it/s]\n",
      "100%|█████████████████████████████████████████████| 1/1 [00:00<00:00, 78.78it/s]\n"
     ]
    },
    {
     "name": "stdout",
     "output_type": "stream",
     "text": [
      "/home/minha/FARZEEN/face ann/face ct/7124319_GiSungyoon/1.2.392.200036.9116.2.6.1.48.1211376315.1667261776.240966/Neck_2_0\n"
     ]
    },
    {
     "name": "stderr",
     "output_type": "stream",
     "text": [
      "100%|████████████████████████████████████████| 151/151 [00:00<00:00, 599.87it/s]\n",
      "100%|█████████████████████████████████████████████| 1/1 [00:00<00:00,  4.67it/s]\n",
      "100%|█████████████████████████████████████████████| 1/1 [00:03<00:00,  3.13s/it]\n"
     ]
    },
    {
     "name": "stdout",
     "output_type": "stream",
     "text": [
      "0\n",
      "0.5254934203047292\n",
      "***************                                                   *****************\n",
      "/home/minha/FARZEEN/face ann/face ct/7124319_GiSungyoon/1.2.392.200036.9116.2.6.1.48.1211376315.1667261776.240966/Basic_Text_SR\n"
     ]
    },
    {
     "name": "stderr",
     "output_type": "stream",
     "text": [
      "  0%|                                                     | 0/1 [00:00<?, ?it/s]\n"
     ]
    },
    {
     "name": "stdout",
     "output_type": "stream",
     "text": [
      "Error in:  /home/minha/FARZEEN/face ann/face ct/7124319_GiSungyoon/1.2.392.200036.9116.2.6.1.48.1211376315.1667261776.240966/Basic_Text_SR\n",
      "Exception thrown in SimpleITK ImageFileReader_Execute: /tmp/SimpleITK/Code/IO/src/sitkImageReaderBase.cxx:105:\n",
      "sitk::ERROR: Unable to determine ImageIO reader for \"/home/minha/FARZEEN/face ann/face ct/7124319_GiSungyoon/1.2.392.200036.9116.2.6.1.48.1211376315.1667261776.240966/Basic_Text_SR/I001.dcm\"\n",
      "/home/minha/FARZEEN/face ann/face ct/7124319_GiSungyoon/1.2.392.200036.9116.2.6.1.48.1211376315.1667261776.240966/Neck_2_0_post_1m20sCONTRAST_CE\n"
     ]
    },
    {
     "name": "stderr",
     "output_type": "stream",
     "text": [
      "100%|████████████████████████████████████████| 151/151 [00:00<00:00, 729.44it/s]\n",
      "100%|█████████████████████████████████████████████| 1/1 [00:00<00:00,  4.59it/s]\n",
      "100%|█████████████████████████████████████████████| 1/1 [00:02<00:00,  2.66s/it]\n"
     ]
    },
    {
     "name": "stdout",
     "output_type": "stream",
     "text": [
      "0\n",
      "0.6531044016161028\n",
      "***************                                                   *****************\n",
      "/home/minha/FARZEEN/face ann/face ct/7124319_GiSungyoon/1.2.392.200036.9116.2.6.1.48.1211376315.1667261776.240966/Neck_2_0_post_35secCONTRASTSagittal_5_CE\n"
     ]
    },
    {
     "name": "stderr",
     "output_type": "stream",
     "text": [
      "100%|██████████████████████████████████████████| 83/83 [00:00<00:00, 576.96it/s]\n",
      "100%|█████████████████████████████████████████████| 1/1 [00:00<00:00,  6.51it/s]\n",
      "100%|█████████████████████████████████████████████| 1/1 [00:03<00:00,  3.29s/it]\n"
     ]
    },
    {
     "name": "stdout",
     "output_type": "stream",
     "text": [
      "0\n",
      "0.7568392530235385\n",
      "***************                                                   *****************\n",
      "/home/minha/FARZEEN/face ann/face ct/7122308_HongSungok/1.2.392.200036.9116.2.6.1.48.1211376315.1660290675.708521/Bone_2_0_Sagittal_6\n"
     ]
    },
    {
     "name": "stderr",
     "output_type": "stream",
     "text": [
      "100%|██████████████████████████████████████████| 81/81 [00:00<00:00, 695.99it/s]\n",
      "100%|█████████████████████████████████████████████| 1/1 [00:00<00:00,  8.18it/s]\n",
      "100%|█████████████████████████████████████████████| 1/1 [00:01<00:00,  1.61s/it]\n"
     ]
    },
    {
     "name": "stdout",
     "output_type": "stream",
     "text": [
      "0\n",
      "0.7052191563657779\n",
      "***************                                                   *****************\n",
      "/home/minha/FARZEEN/face ann/face ct/7122308_HongSungok/1.2.392.200036.9116.2.6.1.48.1211376315.1660290675.708521/Body_0_5\n"
     ]
    },
    {
     "name": "stderr",
     "output_type": "stream",
     "text": [
      "100%|██████████████████████████████████████████| 29/29 [00:00<00:00, 372.85it/s]\n",
      "100%|█████████████████████████████████████████████| 1/1 [00:00<00:00, 19.82it/s]\n",
      "100%|█████████████████████████████████████████████| 1/1 [00:00<00:00, 12.00it/s]\n"
     ]
    },
    {
     "name": "stdout",
     "output_type": "stream",
     "text": [
      "/home/minha/FARZEEN/face ann/face ct/7122308_HongSungok/1.2.392.200036.9116.2.6.1.48.1211376315.1660290675.708521/Body_0_5 (3)\n"
     ]
    },
    {
     "name": "stderr",
     "output_type": "stream",
     "text": [
      "100%|██████████████████████████████████████████| 29/29 [00:00<00:00, 590.80it/s]\n",
      "100%|█████████████████████████████████████████████| 1/1 [00:00<00:00, 19.50it/s]\n",
      "100%|█████████████████████████████████████████████| 1/1 [00:00<00:00,  1.47it/s]\n"
     ]
    },
    {
     "name": "stdout",
     "output_type": "stream",
     "text": [
      "/home/minha/FARZEEN/face ann/face ct/7122308_HongSungok/1.2.392.200036.9116.2.6.1.48.1211376315.1660290675.708521/Body_0_5 (2)\n"
     ]
    },
    {
     "name": "stderr",
     "output_type": "stream",
     "text": [
      "100%|██████████████████████████████████████████| 29/29 [00:00<00:00, 366.23it/s]\n",
      "100%|█████████████████████████████████████████████| 1/1 [00:00<00:00, 17.27it/s]\n",
      "100%|█████████████████████████████████████████████| 1/1 [00:00<00:00,  7.94it/s]\n"
     ]
    },
    {
     "name": "stdout",
     "output_type": "stream",
     "text": [
      "/home/minha/FARZEEN/face ann/face ct/7122308_HongSungok/1.2.392.200036.9116.2.6.1.48.1211376315.1660290675.708521/2\n"
     ]
    },
    {
     "name": "stderr",
     "output_type": "stream",
     "text": [
      "100%|████████████████████████████████████████████| 2/2 [00:00<00:00, 260.06it/s]\n",
      "100%|████████████████████████████████████████████| 1/1 [00:00<00:00, 147.26it/s]\n",
      "100%|█████████████████████████████████████████████| 1/1 [00:00<00:00, 74.14it/s]\n"
     ]
    },
    {
     "name": "stdout",
     "output_type": "stream",
     "text": [
      "/home/minha/FARZEEN/face ann/face ct/7122308_HongSungok/1.2.392.200036.9116.2.6.1.48.1211376315.1660290675.708521/Body_0_5 (5)\n"
     ]
    },
    {
     "name": "stderr",
     "output_type": "stream",
     "text": [
      "100%|██████████████████████████████████████████| 29/29 [00:00<00:00, 445.85it/s]\n",
      "100%|█████████████████████████████████████████████| 1/1 [00:00<00:00, 19.96it/s]\n",
      "100%|█████████████████████████████████████████████| 1/1 [00:00<00:00,  9.52it/s]\n"
     ]
    },
    {
     "name": "stdout",
     "output_type": "stream",
     "text": [
      "/home/minha/FARZEEN/face ann/face ct/7122308_HongSungok/1.2.392.200036.9116.2.6.1.48.1211376315.1660290675.708521/2_0\n"
     ]
    },
    {
     "name": "stderr",
     "output_type": "stream",
     "text": [
      "100%|████████████████████████████████████████████| 2/2 [00:00<00:00, 592.79it/s]\n",
      "100%|████████████████████████████████████████████| 1/1 [00:00<00:00, 325.09it/s]\n",
      "100%|████████████████████████████████████████████| 1/1 [00:00<00:00, 128.09it/s]\n"
     ]
    },
    {
     "name": "stdout",
     "output_type": "stream",
     "text": [
      "/home/minha/FARZEEN/face ann/face ct/7122308_HongSungok/1.2.392.200036.9116.2.6.1.48.1211376315.1660290675.708521/Body_0_5 (4)\n"
     ]
    },
    {
     "name": "stderr",
     "output_type": "stream",
     "text": [
      "100%|██████████████████████████████████████████| 29/29 [00:00<00:00, 617.49it/s]\n",
      "100%|█████████████████████████████████████████████| 1/1 [00:00<00:00, 20.19it/s]\n",
      "100%|█████████████████████████████████████████████| 1/1 [00:00<00:00, 12.18it/s]\n"
     ]
    },
    {
     "name": "stdout",
     "output_type": "stream",
     "text": [
      "/home/minha/FARZEEN/face ann/face ct/7122308_HongSungok/1.2.392.200036.9116.2.6.1.48.1211376315.1660290675.708521/Body_2_0\n"
     ]
    },
    {
     "name": "stderr",
     "output_type": "stream",
     "text": [
      "100%|████████████████████████████████████████| 119/119 [00:00<00:00, 745.95it/s]\n",
      "100%|█████████████████████████████████████████████| 1/1 [00:00<00:00,  5.91it/s]\n",
      "100%|█████████████████████████████████████████████| 1/1 [00:02<00:00,  2.14s/it]\n"
     ]
    },
    {
     "name": "stdout",
     "output_type": "stream",
     "text": [
      "0\n",
      "0.6382128153164874\n",
      "***************                                                   *****************\n",
      "/home/minha/FARZEEN/face ann/face ct/7122308_HongSungok/1.2.392.200036.9116.2.6.1.48.1211376315.1660290675.708521/Bone_2_0_Coronal_5\n"
     ]
    },
    {
     "name": "stderr",
     "output_type": "stream",
     "text": [
      "100%|████████████████████████████████████████| 102/102 [00:00<00:00, 701.46it/s]\n",
      "100%|█████████████████████████████████████████████| 1/1 [00:00<00:00,  6.45it/s]\n",
      "100%|█████████████████████████████████████████████| 1/1 [00:02<00:00,  2.02s/it]\n"
     ]
    },
    {
     "name": "stdout",
     "output_type": "stream",
     "text": [
      "0\n",
      "0.6405175483517503\n",
      "***************                                                   *****************\n",
      "/home/minha/FARZEEN/face ann/face ct/7122308_HongSungok/1.2.392.200036.9116.2.6.1.48.1211376315.1660290675.708521/Body_0_5 (1)\n"
     ]
    },
    {
     "name": "stderr",
     "output_type": "stream",
     "text": [
      "100%|██████████████████████████████████████████| 29/29 [00:00<00:00, 584.29it/s]\n",
      "100%|█████████████████████████████████████████████| 1/1 [00:00<00:00, 19.61it/s]\n",
      "100%|█████████████████████████████████████████████| 1/1 [00:01<00:00,  1.24s/it]\n"
     ]
    },
    {
     "name": "stdout",
     "output_type": "stream",
     "text": [
      "/home/minha/FARZEEN/face ann/face ct/7122308_HongSungok/1.2.392.200036.9116.2.6.1.48.1211376315.1660290675.708521/Bone_2_0\n"
     ]
    },
    {
     "name": "stderr",
     "output_type": "stream",
     "text": [
      "100%|████████████████████████████████████████| 119/119 [00:00<00:00, 719.25it/s]\n",
      "100%|█████████████████████████████████████████████| 1/1 [00:00<00:00,  5.93it/s]\n",
      "100%|█████████████████████████████████████████████| 1/1 [00:02<00:00,  2.06s/it]\n"
     ]
    },
    {
     "name": "stdout",
     "output_type": "stream",
     "text": [
      "0\n",
      "0.5703053474947262\n",
      "***************                                                   *****************\n",
      "/home/minha/FARZEEN/face ann/face ct/7106608_KimJiyoon/1.2.392.200036.9116.2.6.1.48.1211376315.1600048726.383271/0_CE\n"
     ]
    },
    {
     "name": "stderr",
     "output_type": "stream",
     "text": [
      "100%|████████████████████████████████████████████| 2/2 [00:00<00:00, 615.63it/s]\n",
      "100%|████████████████████████████████████████████| 1/1 [00:00<00:00, 365.17it/s]\n",
      "100%|████████████████████████████████████████████| 1/1 [00:00<00:00, 146.93it/s]\n"
     ]
    },
    {
     "name": "stdout",
     "output_type": "stream",
     "text": [
      "/home/minha/FARZEEN/face ann/face ct/7106608_KimJiyoon/1.2.392.200036.9116.2.6.1.48.1211376315.1600048726.383271/Body_0_5\n"
     ]
    },
    {
     "name": "stderr",
     "output_type": "stream",
     "text": [
      "100%|██████████████████████████████████████████| 29/29 [00:00<00:00, 599.95it/s]\n",
      "100%|█████████████████████████████████████████████| 1/1 [00:00<00:00, 19.56it/s]\n",
      "100%|█████████████████████████████████████████████| 1/1 [00:00<00:00, 11.98it/s]\n"
     ]
    },
    {
     "name": "stdout",
     "output_type": "stream",
     "text": [
      "/home/minha/FARZEEN/face ann/face ct/7106608_KimJiyoon/1.2.392.200036.9116.2.6.1.48.1211376315.1600048726.383271/Body_2_0_CE\n"
     ]
    },
    {
     "name": "stderr",
     "output_type": "stream",
     "text": [
      "100%|██████████████████████████████████████████| 57/57 [00:00<00:00, 557.40it/s]\n",
      "100%|█████████████████████████████████████████████| 1/1 [00:00<00:00, 12.29it/s]\n",
      "100%|█████████████████████████████████████████████| 1/1 [00:00<00:00,  1.05it/s]\n"
     ]
    },
    {
     "name": "stdout",
     "output_type": "stream",
     "text": [
      "0\n",
      "0.7570024868111918\n",
      "***************                                                   *****************\n",
      "/home/minha/FARZEEN/face ann/face ct/7106608_KimJiyoon/1.2.392.200036.9116.2.6.1.48.1211376315.1600048726.383271/Body_2_0_Coronal_1_CE\n"
     ]
    },
    {
     "name": "stderr",
     "output_type": "stream",
     "text": [
      "100%|██████████████████████████████████████████| 64/64 [00:00<00:00, 715.58it/s]\n",
      "100%|█████████████████████████████████████████████| 1/1 [00:00<00:00, 10.60it/s]\n",
      "100%|█████████████████████████████████████████████| 1/1 [00:01<00:00,  1.36s/it]\n"
     ]
    },
    {
     "name": "stdout",
     "output_type": "stream",
     "text": [
      "0\n",
      "0.7912336194250639\n",
      "***************                                                   *****************\n",
      "/home/minha/FARZEEN/face ann/face ct/7106608_KimJiyoon/1.2.392.200036.9116.2.6.1.48.1211376315.1600048726.383271/2_0\n"
     ]
    },
    {
     "name": "stderr",
     "output_type": "stream",
     "text": [
      "100%|████████████████████████████████████████████| 2/2 [00:00<00:00, 564.81it/s]\n",
      "100%|████████████████████████████████████████████| 1/1 [00:00<00:00, 118.22it/s]\n",
      "100%|█████████████████████████████████████████████| 1/1 [00:00<00:00, 51.94it/s]\n"
     ]
    },
    {
     "name": "stdout",
     "output_type": "stream",
     "text": [
      "/home/minha/FARZEEN/face ann/face ct/7106608_KimJiyoon/1.2.392.200036.9116.2.6.1.48.1211376315.1600048726.383271/Body_2_0\n"
     ]
    },
    {
     "name": "stderr",
     "output_type": "stream",
     "text": [
      "100%|██████████████████████████████████████████| 57/57 [00:00<00:00, 536.65it/s]\n",
      "100%|█████████████████████████████████████████████| 1/1 [00:00<00:00, 12.47it/s]\n",
      "100%|█████████████████████████████████████████████| 1/1 [00:00<00:00,  1.07it/s]\n"
     ]
    },
    {
     "name": "stdout",
     "output_type": "stream",
     "text": [
      "0\n",
      "0.7579504608031928\n",
      "***************                                                   *****************\n",
      "/home/minha/FARZEEN/face ann/face ct/7106608_KimJiyoon/1.2.392.200036.9116.2.6.1.48.1211376315.1600048726.383271/Bone_2_0_Sagittal_9\n"
     ]
    },
    {
     "name": "stderr",
     "output_type": "stream",
     "text": [
      "100%|██████████████████████████████████████████| 66/66 [00:00<00:00, 747.94it/s]\n",
      "100%|█████████████████████████████████████████████| 1/1 [00:00<00:00, 10.71it/s]\n",
      "100%|█████████████████████████████████████████████| 1/1 [00:01<00:00,  1.12s/it]\n"
     ]
    },
    {
     "name": "stdout",
     "output_type": "stream",
     "text": [
      "0\n",
      "0.7218645304776787\n",
      "***************                                                   *****************\n",
      "/home/minha/FARZEEN/face ann/face ct/7106608_KimJiyoon/1.2.392.200036.9116.2.6.1.48.1211376315.1600048726.383271/Body_2_0_Sagittal_2_CE\n"
     ]
    },
    {
     "name": "stderr",
     "output_type": "stream",
     "text": [
      "100%|██████████████████████████████████████████| 66/66 [00:00<00:00, 740.08it/s]\n",
      "100%|█████████████████████████████████████████████| 1/1 [00:00<00:00, 10.61it/s]\n",
      "100%|█████████████████████████████████████████████| 1/1 [00:01<00:00,  1.23s/it]\n"
     ]
    },
    {
     "name": "stdout",
     "output_type": "stream",
     "text": [
      "0\n",
      "0.7572581934881704\n",
      "***************                                                   *****************\n",
      "/home/minha/FARZEEN/face ann/face ct/7106608_KimJiyoon/1.2.392.200036.9116.2.6.1.48.1211376315.1600048726.383271/Body_0_5 (1)\n"
     ]
    },
    {
     "name": "stderr",
     "output_type": "stream",
     "text": [
      "100%|██████████████████████████████████████████| 29/29 [00:00<00:00, 593.34it/s]\n",
      "100%|█████████████████████████████████████████████| 1/1 [00:00<00:00, 19.81it/s]\n",
      "100%|█████████████████████████████████████████████| 1/1 [00:00<00:00, 12.00it/s]\n"
     ]
    },
    {
     "name": "stdout",
     "output_type": "stream",
     "text": [
      "/home/minha/FARZEEN/face ann/face ct/7106608_KimJiyoon/1.2.392.200036.9116.2.6.1.48.1211376315.1600048726.383271/Bone_2_0_Coronal_3\n"
     ]
    },
    {
     "name": "stderr",
     "output_type": "stream",
     "text": [
      "100%|██████████████████████████████████████████| 64/64 [00:00<00:00, 743.06it/s]\n",
      "100%|█████████████████████████████████████████████| 1/1 [00:00<00:00, 11.03it/s]\n",
      "100%|█████████████████████████████████████████████| 1/1 [00:01<00:00,  1.06s/it]\n"
     ]
    },
    {
     "name": "stdout",
     "output_type": "stream",
     "text": [
      "0\n",
      "0.7148420009915382\n",
      "***************                                                   *****************\n",
      "/home/minha/FARZEEN/face ann/face ct/7106608_KimJiyoon/1.2.392.200036.9116.2.6.1.48.1211376315.1600048726.383271/Bone_2_0\n"
     ]
    },
    {
     "name": "stderr",
     "output_type": "stream",
     "text": [
      "100%|██████████████████████████████████████████| 57/57 [00:00<00:00, 755.32it/s]\n",
      "100%|█████████████████████████████████████████████| 1/1 [00:00<00:00, 12.46it/s]\n",
      "100%|█████████████████████████████████████████████| 1/1 [00:00<00:00,  1.03it/s]\n"
     ]
    },
    {
     "name": "stdout",
     "output_type": "stream",
     "text": [
      "0\n",
      "0.7582901134186354\n",
      "***************                                                   *****************\n",
      "/home/minha/FARZEEN/face ann/face ct/7019115_KimHwaKyoung/1.2.392.200036.9116.2.6.1.48.1211376315.1375921545.238520/3\n"
     ]
    },
    {
     "name": "stderr",
     "output_type": "stream",
     "text": [
      "100%|████████████████████████████████████████████| 2/2 [00:00<00:00, 547.60it/s]\n",
      "100%|████████████████████████████████████████████| 1/1 [00:00<00:00, 322.39it/s]\n",
      "100%|████████████████████████████████████████████| 1/1 [00:00<00:00, 137.45it/s]\n"
     ]
    },
    {
     "name": "stdout",
     "output_type": "stream",
     "text": [
      "/home/minha/FARZEEN/face ann/face ct/7019115_KimHwaKyoung/1.2.392.200036.9116.2.6.1.48.1211376315.1375921545.238520/Bone_3_0\n"
     ]
    },
    {
     "name": "stderr",
     "output_type": "stream",
     "text": [
      "100%|██████████████████████████████████████████| 66/66 [00:00<00:00, 651.65it/s]\n",
      "100%|█████████████████████████████████████████████| 1/1 [00:00<00:00,  9.35it/s]\n",
      "100%|█████████████████████████████████████████████| 1/1 [00:02<00:00,  2.91s/it]\n",
      "/tmp/ipykernel_16715/1644663470.py:17: RuntimeWarning: overflow encountered in short_scalars\n",
      "  imggff = (imggf - min2) / (max2 - min2) * ((max_overall - min_overall) + min_overall)\n"
     ]
    },
    {
     "name": "stdout",
     "output_type": "stream",
     "text": [
      "0\n",
      "-0.0011938633574060642\n",
      "***************                                                   *****************\n",
      "/home/minha/FARZEEN/face ann/face ct/7019115_KimHwaKyoung/1.2.392.200036.9116.2.6.1.48.1211376315.1375921545.238520/Head_3_0\n"
     ]
    },
    {
     "name": "stderr",
     "output_type": "stream",
     "text": [
      "100%|██████████████████████████████████████████| 66/66 [00:00<00:00, 646.56it/s]\n",
      "100%|█████████████████████████████████████████████| 1/1 [00:00<00:00,  9.41it/s]\n",
      "100%|█████████████████████████████████████████████| 1/1 [00:02<00:00,  2.70s/it]\n"
     ]
    },
    {
     "name": "stdout",
     "output_type": "stream",
     "text": [
      "0\n",
      "-0.0023802688377772617\n",
      "***************                                                   *****************\n",
      "/home/minha/FARZEEN/face ann/face ct/7019115_KimHwaKyoung/1.2.392.200036.9116.2.6.1.48.1211376315.1375921545.238520/2_0\n"
     ]
    },
    {
     "name": "stderr",
     "output_type": "stream",
     "text": [
      "100%|████████████████████████████████████████████| 2/2 [00:00<00:00, 450.98it/s]\n",
      "100%|████████████████████████████████████████████| 1/1 [00:00<00:00, 260.31it/s]\n",
      "100%|████████████████████████████████████████████| 1/1 [00:00<00:00, 126.99it/s]\n"
     ]
    },
    {
     "name": "stdout",
     "output_type": "stream",
     "text": [
      "/home/minha/FARZEEN/face ann/face ct/7019115_KimHwaKyoung/1.2.392.200036.9116.2.6.1.48.1211376315.1375921545.238520/Head_3_0_Sagittal_1\n"
     ]
    },
    {
     "name": "stderr",
     "output_type": "stream",
     "text": [
      "100%|██████████████████████████████████████████| 47/47 [00:00<00:00, 647.43it/s]\n",
      "100%|█████████████████████████████████████████████| 1/1 [00:00<00:00, 13.22it/s]\n",
      "100%|█████████████████████████████████████████████| 1/1 [00:01<00:00,  1.91s/it]\n"
     ]
    },
    {
     "name": "stdout",
     "output_type": "stream",
     "text": [
      "0\n",
      "-0.008781479423725156\n",
      "***************                                                   *****************\n",
      "/home/minha/FARZEEN/face ann/face ct/7019115_KimHwaKyoung/1.2.392.200036.9116.2.6.1.48.1211376315.1375921545.238520/Head_3_0_Coronal_5\n"
     ]
    },
    {
     "name": "stderr",
     "output_type": "stream",
     "text": [
      "100%|██████████████████████████████████████████| 57/57 [00:00<00:00, 452.43it/s]\n",
      "100%|█████████████████████████████████████████████| 1/1 [00:00<00:00, 11.04it/s]\n",
      "100%|█████████████████████████████████████████████| 1/1 [00:02<00:00,  2.37s/it]\n"
     ]
    },
    {
     "name": "stdout",
     "output_type": "stream",
     "text": [
      "0\n",
      "-2.2422236884326408e-08\n",
      "***************                                                   *****************\n"
     ]
    }
   ],
   "source": [
    "from skimage.metrics import structural_similarity\n",
    "opath = \"/home/minha/FARZEEN/face ann/face ct/7019115/improved/test/\"\n",
    "for l in ll:\n",
    "    try:\n",
    "        print(l)\n",
    "        iskin, oskin = predictions_ct(l, opath)\n",
    "        for i in range(len(iskin)):\n",
    "            print(i)\n",
    "            skin_mask,After_annonymization_skin_mask = same_range(iskin[i], oskin[i])\n",
    "            score,diff = structural_similarity(np.array(skin_mask), np.array(After_annonymization_skin_mask), full=True)\n",
    "            print (score)\n",
    "#             value = PSNR(np.array(skin_mask ), np.array(After_annonymization_skin_mask ))\n",
    "#             print(f\"PSNR value for skin matched is {value} dB\")\n",
    "#             plt.imshow(iskin[i][int(len(iskin[i])/2)],'gray')\n",
    "#             plt.show()\n",
    "#             Power_of_signall = (np.sum(iskin)**2)\n",
    "#             Power_of_noisee = (np.sum(oskin)**2)\n",
    "#             SNRR = Power_of_signall/Power_of_noisee\n",
    "#             print(\"Before Matching: \", SNRR)\n",
    "#             skin_mask,After_annonymization_skin_mask = same_range(iskin, oskin)\n",
    "#             Power_of_signal = (np.sum(skin_mask)**2)\n",
    "#             Power_of_noise = (np.sum(After_annonymization_skin_mask)**2)\n",
    "#             SNR = Power_of_signal/Power_of_noise\n",
    "#             print(\"After Matching: \",SNR)\n",
    "#             snrr=[]\n",
    "#             for j in range(len(iskin[i])):\n",
    "#                 skin_maskk,After_annonymization_skin_maskk = same_range(iskin[i][j], oskin[i][j])\n",
    "#                 Power_of_signalll = (np.sum(skin_maskk)**2)\n",
    "#                 Power_of_noiseee = (np.sum(After_annonymization_skin_maskk)**2)\n",
    "#                 SNRRr = Power_of_signalll/Power_of_noiseee\n",
    "#         #         print(SNRR)\n",
    "#                 snrr.append(SNRRr)\n",
    "#             newList = list()\n",
    "#             for element in snrr:\n",
    "#                 if str(element) != \"nan\":\n",
    "#                     newList.append(element)\n",
    "#             ss = sum(newList) / len(newList)\n",
    "#             print(\"avg per slice matched\",ss)\n",
    "#             print(\"###########################\")                \n",
    "            print(\"***************                                                   *****************\")\n",
    "    except Exception as e:\n",
    "        print(\"Error in: \",l)\n",
    "        print(e)"
   ]
  }
 ],
 "metadata": {
  "kernelspec": {
   "display_name": "Python 3 (ipykernel)",
   "language": "python",
   "name": "python3"
  },
  "language_info": {
   "codemirror_mode": {
    "name": "ipython",
    "version": 3
   },
   "file_extension": ".py",
   "mimetype": "text/x-python",
   "name": "python",
   "nbconvert_exporter": "python",
   "pygments_lexer": "ipython3",
   "version": "3.10.4"
  }
 },
 "nbformat": 4,
 "nbformat_minor": 5
}
